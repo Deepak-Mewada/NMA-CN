{
  "nbformat": 4,
  "nbformat_minor": 0,
  "metadata": {
    "colab": {
      "name": "Copy of load_stringer_orientations.ipynb",
      "provenance": [],
      "collapsed_sections": [],
      "toc_visible": true,
      "include_colab_link": true
    },
    "kernelspec": {
      "name": "python3",
      "display_name": "Python 3"
    }
  },
  "cells": [
    {
      "cell_type": "markdown",
      "metadata": {
        "id": "view-in-github",
        "colab_type": "text"
      },
      "source": [
        "<a href=\"https://colab.research.google.com/github/Deepak-Mewada/NMA-CN/blob/main/projects/neurons/load_stringer_orientations.ipynb\" target=\"_parent\"><img src=\"https://colab.research.google.com/assets/colab-badge.svg\" alt=\"Open In Colab\"/></a>"
      ]
    },
    {
      "cell_type": "markdown",
      "metadata": {
        "id": "sF-3b83NLZgs"
      },
      "source": [
        "## Loading of Stringer orientations data\n",
        "\n",
        "includes some visualizations"
      ]
    },
    {
      "cell_type": "code",
      "metadata": {
        "id": "nK13W0vlK1UY",
        "cellView": "form"
      },
      "source": [
        "#@title Data retrieval\n",
        "import os, requests\n",
        "\n",
        "fname = \"stringer_orientations.npy\"\n",
        "url = \"https://osf.io/ny4ut/download\"\n",
        "\n",
        "if not os.path.isfile(fname):\n",
        "  try:\n",
        "    r = requests.get(url)\n",
        "  except requests.ConnectionError:\n",
        "    print(\"!!! Failed to download data !!!\")\n",
        "  else:\n",
        "    if r.status_code != requests.codes.ok:\n",
        "      print(\"!!! Failed to download data !!!\")\n",
        "    else:\n",
        "      with open(fname, \"wb\") as fid:\n",
        "        fid.write(r.content)"
      ],
      "execution_count": null,
      "outputs": []
    },
    {
      "cell_type": "code",
      "metadata": {
        "id": "-V_b5aCxgQoF",
        "cellView": "form"
      },
      "source": [
        "#@title Import matplotlib and set defaults\n",
        "from matplotlib import rcParams \n",
        "from matplotlib import pyplot as plt\n",
        "rcParams['figure.figsize'] = [20, 4]\n",
        "rcParams['font.size'] =15\n",
        "rcParams['axes.spines.top'] = False\n",
        "rcParams['axes.spines.right'] = False\n",
        "rcParams['figure.autolayout'] = True"
      ],
      "execution_count": null,
      "outputs": []
    },
    {
      "cell_type": "code",
      "metadata": {
        "id": "icdNnKc4K-Wc"
      },
      "source": [
        "#@title Data loading\n",
        "import numpy as np\n",
        "dat = np.load('stringer_orientations.npy', allow_pickle=True).item()\n",
        "print(dat.keys())"
      ],
      "execution_count": null,
      "outputs": []
    },
    {
      "cell_type": "markdown",
      "metadata": {
        "id": "oLRJHCasLAIj"
      },
      "source": [
        "dat has fields:\n",
        "* `dat['sresp']`: neurons by stimuli, a.k.a. the neural response data (23589 by 4598)\n",
        "* `dat['xyz']`: three-dimensional position of each neuron in the brain. \n",
        "* `dat['run']`: 1 by stimuli, a.k.a. the running speed of the animal in a.u.\n",
        "* `dat['istim']`: 1 by stimuli, goes from 0 to 2*np.pi, the orientations shown on each trial\n",
        "* `dat['u_spont']`: neurons by 128, the weights for the top 128 principal components of spontaneous activity. Unit norm.\n",
        "* `dat['v_spont']`: 128 by 910, the timecourses for the top 128 PCs of spont activity.\n",
        "* `dat['u_spont'] @ dat['v_spont']`: a reconstruction of the spontaneous activity for 910 timepoints interspersed throughout the recording.\n",
        "* `dat['stat']`: 1 by neurons, some statistics for each neuron, see Suite2p for full documentation.\n"
      ]
    },
    {
      "cell_type": "code",
      "metadata": {
        "id": "3tNyYb1CZazF"
      },
      "source": [
        "print(dat['sresp'].shape)\n",
        "print(dat['xyz'].shape)\n",
        "print(len(dat['istim']))\n"
      ],
      "execution_count": null,
      "outputs": []
    },
    {
      "cell_type": "code",
      "metadata": {
        "id": "NxOMaqfrTsHI"
      },
      "source": [
        "# @title plot the 3D positions of all neurons\n",
        "from mpl_toolkits.mplot3d import Axes3D\n",
        "from matplotlib import cm\n",
        "\n",
        "x, y, z = dat['xyz']\n",
        "\n",
        "zunq, iunq = np.unique(z, return_inverse=True)\n",
        "xc = np.linspace(0.0, 1.0, len(zunq))\n",
        "cmap = cm.get_cmap('jet')(xc)\n",
        "\n",
        "fig = plt.figure(figsize=(6,6))\n",
        "ax = fig.add_subplot(111, projection='3d')\n",
        "ax.scatter(x[::-1],y[::-1],z[::-1], 'o', s = 4, c = cmap[iunq])\n",
        "ax.set(xlabel='horizontal(um)', ylabel = 'vertical(um)', zlabel='depth (um)');"
      ],
      "execution_count": null,
      "outputs": []
    },
    {
      "cell_type": "code",
      "metadata": {
        "id": "bZJawuuvZncT"
      },
      "source": [
        "#@title Basic data properties using plot, hist and scatter\n",
        "ax = plt.subplot(1,5,1)\n",
        "plt.hist(dat['istim'])\n",
        "ax.set(xlabel='orientations', ylabel = '# trials')\n",
        "\n",
        "ax = plt.subplot(1,5,2)\n",
        "plt.scatter(dat['istim'], dat['sresp'][1000], s= 1)\n",
        "ax.set(xlabel = 'orientation', ylabel = 'neural response')\n",
        "\n",
        "ax = plt.subplot(1,5,3)\n",
        "plt.plot(dat['run'][:1000])\n",
        "ax.set(xlabel = 'timepoints', ylabel = 'running')\n",
        "\n",
        "ax = plt.subplot(1,5,4)\n",
        "plt.scatter(dat['run'], dat['sresp'][20998], s= 1)\n",
        "ax.set(xlabel = 'running', ylabel = 'neural response')\n",
        "\n",
        "plt.show()"
      ],
      "execution_count": null,
      "outputs": []
    },
    {
      "cell_type": "code",
      "metadata": {
        "id": "4KPZwCitarxB"
      },
      "source": [
        "#@title take PCA after preparing data by z-score\n",
        "from scipy.stats import zscore\n",
        "from sklearn.decomposition import PCA \n",
        "Z = zscore(dat['sresp'], axis=1)\n",
        "X = PCA(n_components = 200).fit_transform(Z.T)"
      ],
      "execution_count": null,
      "outputs": []
    },
    {
      "cell_type": "code",
      "metadata": {
        "id": "NLZyl0_ma2s1"
      },
      "source": [
        "#@title plot PCs as function of stimulus orientation\n",
        "for j in range(5):\n",
        "  ax = plt.subplot(1,5,j+1)\n",
        "  plt.scatter(dat['istim'], X[:,j], s = 1)\n",
        "  ax.set(xlabel='orientation', ylabel = 'PC%d'%j)\n",
        "plt.show()"
      ],
      "execution_count": null,
      "outputs": []
    },
    {
      "cell_type": "code",
      "metadata": {
        "id": "31Co0KDll_uw"
      },
      "source": [
        "#@title run a manifold embedding algorithm (UMAP) in two or three dimensions. \n",
        "!pip install umap-learn\n",
        "from umap import UMAP\n",
        "ncomp = 3 # try 2, then try 3\n",
        "xinit = 3 * zscore(X[:,:ncomp], axis=0)\n",
        "embed = UMAP(n_components=ncomp, init =  xinit, n_neighbors = 25, \n",
        "             metric = 'correlation', transform_seed = 42).fit_transform(X)"
      ],
      "execution_count": null,
      "outputs": []
    },
    {
      "cell_type": "code",
      "metadata": {
        "id": "Rqii5iqxUzj1"
      },
      "source": [
        "plt.figure(figsize=(8,8))\n",
        "for i in range(ncomp):\n",
        "  for j in range(ncomp):\n",
        "    plt.subplot(ncomp,ncomp, j + ncomp*i + 1)\n",
        "    if i==j:\n",
        "      plt.scatter(dat['istim'], embed[:,i], s  = 1)\n",
        "    else:\n",
        "      plt.scatter(embed[:,j], embed[:,i], s  = 1, c= dat['istim'], cmap = 'hsv')\n",
        "# Is that a Mobius strip? A good project would be to try to figure out why (I don't know). "
      ],
      "execution_count": null,
      "outputs": []
    },
    {
      "cell_type": "markdown",
      "metadata": {
        "id": "_DEX7lhyPaZA"
      },
      "source": [
        "##Functions"
      ]
    },
    {
      "cell_type": "code",
      "metadata": {
        "id": "l3gRwngtJf7D"
      },
      "source": [
        "def calculate_orientation_selectivity( neuron_response, orientations ):\n",
        "\t#Arguments:\n",
        "  #neuron_response: ndarray (1 x Number of stimuli) - Neuron response to each stimulus.\n",
        "  #orientations: ndarray (1 x Number of stimuli) - orientation of grating in each stimuli (in radians).\n",
        "\t#Returns:\n",
        "  #orientation_selectivity: float - the preferred orientation (in radians) this neuron.\n",
        "\t#Description:\n",
        "  #This function takes an array of responses for a single neuron, and an array of orientations which those responses correspond to. \n",
        "  #It then calculates which orientation generates the largest response for this neuron, and returns that orientation as a scalar value.\n",
        "\n",
        "  max_activity_index=np.argmax(neuron_response)\n",
        "  orientation_selectivity=orientations[max_activity_index]\n",
        "\n",
        "  return orientation_selectivity\n",
        "\n",
        "def calculate_all_orientation_selectivities( neuron_responses, orientations ):\n",
        "\t#Arguments:\n",
        "  #neuron_responses: ndarray (no. of neurons x Number of stimuli) - Neuron responses to each stimulus.\n",
        "  #orientations: ndarray (1 x Number of stimuli) - orientation of grating in each stimuli (in radians).\n",
        "\t#Returns:\n",
        "  #orientation_selectivities: array (1 x Number of neurons) - the preferred orientations (in radians) for each neuron.\n",
        "\t#Description:\n",
        "  #This function just applies the previous function (calculate_orientation_selectivity) over an array of multiple neurons, \n",
        "  #returning the feature selectivity for each neuron.\n",
        "  orientation_selectivities=[0] * len(neuron_responses)\n",
        "\n",
        "  for i in range(len(neuron_responses)):\n",
        "      orientation_selectivities[i]=calculate_orientation_selectivity(dat['sresp'][i],dat['istim'])\n",
        "\n",
        "  return orientation_selectivities\n",
        "\n"
      ],
      "execution_count": null,
      "outputs": []
    },
    {
      "cell_type": "code",
      "metadata": {
        "id": "pyYd-Af4Pl4B"
      },
      "source": [
        "calculate_all_orientation_selectivities(dat['sresp'][0:10],dat['istim'])"
      ],
      "execution_count": null,
      "outputs": []
    },
    {
      "cell_type": "code",
      "metadata": {
        "id": "jZ1mONWdTjSD"
      },
      "source": [
        "def quantify_pinwheel( neuron_positions, orientation_selectivities, i, j):\n",
        "\t#Arguments:\n",
        "  #neuron_positions: ndarray (no. of neurons x 3) - The xyz position of each neuron\n",
        "  #orientation_selectivites: ndarray (1 x Number of neurons) - orientation selectivity of each neuron (in radians).\n",
        "  #i: nearby neuron distance threshold\n",
        "  #j: far neuron distance threshold\n",
        "\t\n",
        "  #Returns:\n",
        "  #nearby_similarity: ndarray (1 X N) orientation similarity for all pairwise neurons that are within range i of each other.\n",
        "  #far_similarity: ndarray (1 X M) orientation similarity for all pairwise neurons that are greater than range j from each other.\n",
        "  \n",
        "  #Description:\n",
        "  #This function should compare the orientation selectivities for all neurons that are within distance i of each other,\n",
        "  #and return a vector of all pairwise comparison values,\n",
        "  #then do the same for all neurons that are greater than distance j apart from each other.\n",
        "  #The purpose of this is to then be able to compare the similarity distributions for nearby vs distant neurons.\n",
        "\n",
        "  \n",
        "\n",
        "return nearby_similarity,far_similarity\n"
      ],
      "execution_count": null,
      "outputs": []
    },
    {
      "cell_type": "code",
      "metadata": {
        "id": "-syvU_XdZzSb"
      },
      "source": [
        "quantify_pinwheel(dat['xyz'],)"
      ],
      "execution_count": null,
      "outputs": []
    },
    {
      "cell_type": "code",
      "metadata": {
        "id": "71yv4FtNbfgl"
      },
      "source": [
        "print(dat['xyz'].shape)\n",
        "\n",
        "print(dat['xyz'][:,2])"
      ],
      "execution_count": null,
      "outputs": []
    },
    {
      "cell_type": "code",
      "metadata": {
        "id": "tAWfYJ8RbjL7"
      },
      "source": [
        "print(dat['xyz'])\n"
      ],
      "execution_count": null,
      "outputs": []
    }
  ]
}