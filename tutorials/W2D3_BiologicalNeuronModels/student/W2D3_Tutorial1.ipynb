{
  "nbformat": 4,
  "nbformat_minor": 0,
  "metadata": {
    "colab": {
      "name": "W2D3_Tutorial1",
      "provenance": [],
      "collapsed_sections": [],
      "toc_visible": true,
      "include_colab_link": true
    },
    "kernel": {
      "display_name": "Python 3",
      "language": "python",
      "name": "python3"
    },
    "kernelspec": {
      "display_name": "Python 3",
      "name": "python3"
    },
    "language_info": {
      "codemirror_mode": {
        "name": "ipython",
        "version": 3
      },
      "file_extension": ".py",
      "mimetype": "text/x-python",
      "name": "python",
      "nbconvert_exporter": "python",
      "pygments_lexer": "ipython3",
      "version": "3.7.10"
    },
    "widgets": {
      "application/vnd.jupyter.widget-state+json": {
        "133bf6c99b6f4592a3073ba0065e74dd": {
          "model_module": "@jupyter-widgets/controls",
          "model_name": "TabModel",
          "state": {
            "_view_name": "TabView",
            "_dom_classes": [],
            "_titles": {
              "0": "Youtube",
              "1": "Bilibili"
            },
            "_model_name": "TabModel",
            "_view_module": "@jupyter-widgets/controls",
            "selected_index": 0,
            "_model_module_version": "1.5.0",
            "_view_count": null,
            "_view_module_version": "1.5.0",
            "box_style": "",
            "layout": "IPY_MODEL_0556742597214de98c22d27f3c1c3262",
            "_model_module": "@jupyter-widgets/controls",
            "children": [
              "IPY_MODEL_66099afb32ba43199d7d74335ec94638",
              "IPY_MODEL_539592aab2714d84aad3497568bf8fb2"
            ]
          }
        },
        "0556742597214de98c22d27f3c1c3262": {
          "model_module": "@jupyter-widgets/base",
          "model_name": "LayoutModel",
          "state": {
            "_view_name": "LayoutView",
            "grid_template_rows": null,
            "right": null,
            "justify_content": null,
            "_view_module": "@jupyter-widgets/base",
            "overflow": null,
            "_model_module_version": "1.2.0",
            "_view_count": null,
            "flex_flow": null,
            "width": null,
            "min_width": null,
            "border": null,
            "align_items": null,
            "bottom": null,
            "_model_module": "@jupyter-widgets/base",
            "top": null,
            "grid_column": null,
            "overflow_y": null,
            "overflow_x": null,
            "grid_auto_flow": null,
            "grid_area": null,
            "grid_template_columns": null,
            "flex": null,
            "_model_name": "LayoutModel",
            "justify_items": null,
            "grid_row": null,
            "max_height": null,
            "align_content": null,
            "visibility": null,
            "align_self": null,
            "height": null,
            "min_height": null,
            "padding": null,
            "grid_auto_rows": null,
            "grid_gap": null,
            "max_width": null,
            "order": null,
            "_view_module_version": "1.2.0",
            "grid_template_areas": null,
            "object_position": null,
            "object_fit": null,
            "grid_auto_columns": null,
            "margin": null,
            "display": null,
            "left": null
          }
        },
        "66099afb32ba43199d7d74335ec94638": {
          "model_module": "@jupyter-widgets/output",
          "model_name": "OutputModel",
          "state": {
            "_view_name": "OutputView",
            "msg_id": "",
            "_dom_classes": [],
            "_model_name": "OutputModel",
            "outputs": [
              {
                "output_type": "stream",
                "metadata": {
                  "tags": []
                },
                "text": "Video available at https://youtube.com/watch?v=rSExvwCVRYg\n",
                "stream": "stdout"
              },
              {
                "output_type": "display_data",
                "metadata": {
                  "tags": []
                },
                "text/html": "\n        <iframe\n            width=\"854\"\n            height=\"480\"\n            src=\"https://www.youtube.com/embed/rSExvwCVRYg?fs=1&rel=0\"\n            frameborder=\"0\"\n            allowfullscreen\n        ></iframe>\n        ",
                "text/plain": "<IPython.lib.display.YouTubeVideo at 0x7ff487fe0810>",
                "image/jpeg": "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\n"
              }
            ],
            "_view_module": "@jupyter-widgets/output",
            "_model_module_version": "1.0.0",
            "_view_count": null,
            "_view_module_version": "1.0.0",
            "layout": "IPY_MODEL_fbba334a0ed4426ca5a08d506fde8dae",
            "_model_module": "@jupyter-widgets/output"
          }
        },
        "539592aab2714d84aad3497568bf8fb2": {
          "model_module": "@jupyter-widgets/output",
          "model_name": "OutputModel",
          "state": {
            "_view_name": "OutputView",
            "msg_id": "",
            "_dom_classes": [],
            "_model_name": "OutputModel",
            "outputs": [
              {
                "output_type": "stream",
                "metadata": {
                  "tags": []
                },
                "text": "Video available at https://www.bilibili.com/video/av456396195\n",
                "stream": "stdout"
              },
              {
                "output_type": "display_data",
                "metadata": {
                  "tags": []
                },
                "text/html": "\n        <iframe\n            width=\"854\"\n            height=\"480\"\n            src=\"https://player.bilibili.com/player.html?bvid=av456396195&page=1?fs=1\"\n            frameborder=\"0\"\n            allowfullscreen\n        ></iframe>\n        ",
                "text/plain": "<__main__.BiliVideo at 0x7ff487addc10>"
              }
            ],
            "_view_module": "@jupyter-widgets/output",
            "_model_module_version": "1.0.0",
            "_view_count": null,
            "_view_module_version": "1.0.0",
            "layout": "IPY_MODEL_d6ca67b424e548a1abc921af402779e4",
            "_model_module": "@jupyter-widgets/output"
          }
        },
        "fbba334a0ed4426ca5a08d506fde8dae": {
          "model_module": "@jupyter-widgets/base",
          "model_name": "LayoutModel",
          "state": {
            "_view_name": "LayoutView",
            "grid_template_rows": null,
            "right": null,
            "justify_content": null,
            "_view_module": "@jupyter-widgets/base",
            "overflow": null,
            "_model_module_version": "1.2.0",
            "_view_count": null,
            "flex_flow": null,
            "width": null,
            "min_width": null,
            "border": null,
            "align_items": null,
            "bottom": null,
            "_model_module": "@jupyter-widgets/base",
            "top": null,
            "grid_column": null,
            "overflow_y": null,
            "overflow_x": null,
            "grid_auto_flow": null,
            "grid_area": null,
            "grid_template_columns": null,
            "flex": null,
            "_model_name": "LayoutModel",
            "justify_items": null,
            "grid_row": null,
            "max_height": null,
            "align_content": null,
            "visibility": null,
            "align_self": null,
            "height": null,
            "min_height": null,
            "padding": null,
            "grid_auto_rows": null,
            "grid_gap": null,
            "max_width": null,
            "order": null,
            "_view_module_version": "1.2.0",
            "grid_template_areas": null,
            "object_position": null,
            "object_fit": null,
            "grid_auto_columns": null,
            "margin": null,
            "display": null,
            "left": null
          }
        },
        "d6ca67b424e548a1abc921af402779e4": {
          "model_module": "@jupyter-widgets/base",
          "model_name": "LayoutModel",
          "state": {
            "_view_name": "LayoutView",
            "grid_template_rows": null,
            "right": null,
            "justify_content": null,
            "_view_module": "@jupyter-widgets/base",
            "overflow": null,
            "_model_module_version": "1.2.0",
            "_view_count": null,
            "flex_flow": null,
            "width": null,
            "min_width": null,
            "border": null,
            "align_items": null,
            "bottom": null,
            "_model_module": "@jupyter-widgets/base",
            "top": null,
            "grid_column": null,
            "overflow_y": null,
            "overflow_x": null,
            "grid_auto_flow": null,
            "grid_area": null,
            "grid_template_columns": null,
            "flex": null,
            "_model_name": "LayoutModel",
            "justify_items": null,
            "grid_row": null,
            "max_height": null,
            "align_content": null,
            "visibility": null,
            "align_self": null,
            "height": null,
            "min_height": null,
            "padding": null,
            "grid_auto_rows": null,
            "grid_gap": null,
            "max_width": null,
            "order": null,
            "_view_module_version": "1.2.0",
            "grid_template_areas": null,
            "object_position": null,
            "object_fit": null,
            "grid_auto_columns": null,
            "margin": null,
            "display": null,
            "left": null
          }
        },
        "4ce53c8f15844370b54cf87060394f6a": {
          "model_module": "@jupyter-widgets/controls",
          "model_name": "TabModel",
          "state": {
            "_view_name": "TabView",
            "_dom_classes": [],
            "_titles": {
              "0": "Youtube",
              "1": "Bilibili"
            },
            "_model_name": "TabModel",
            "_view_module": "@jupyter-widgets/controls",
            "selected_index": 0,
            "_model_module_version": "1.5.0",
            "_view_count": null,
            "_view_module_version": "1.5.0",
            "box_style": "",
            "layout": "IPY_MODEL_8e7ff28a281042ba86b84e9bf50658af",
            "_model_module": "@jupyter-widgets/controls",
            "children": [
              "IPY_MODEL_a8c7eb8ca2954ac28ff2c3c66bf731bd",
              "IPY_MODEL_87730e9c35ba4b478b8a7eccfdc9a134"
            ]
          }
        },
        "8e7ff28a281042ba86b84e9bf50658af": {
          "model_module": "@jupyter-widgets/base",
          "model_name": "LayoutModel",
          "state": {
            "_view_name": "LayoutView",
            "grid_template_rows": null,
            "right": null,
            "justify_content": null,
            "_view_module": "@jupyter-widgets/base",
            "overflow": null,
            "_model_module_version": "1.2.0",
            "_view_count": null,
            "flex_flow": null,
            "width": null,
            "min_width": null,
            "border": null,
            "align_items": null,
            "bottom": null,
            "_model_module": "@jupyter-widgets/base",
            "top": null,
            "grid_column": null,
            "overflow_y": null,
            "overflow_x": null,
            "grid_auto_flow": null,
            "grid_area": null,
            "grid_template_columns": null,
            "flex": null,
            "_model_name": "LayoutModel",
            "justify_items": null,
            "grid_row": null,
            "max_height": null,
            "align_content": null,
            "visibility": null,
            "align_self": null,
            "height": null,
            "min_height": null,
            "padding": null,
            "grid_auto_rows": null,
            "grid_gap": null,
            "max_width": null,
            "order": null,
            "_view_module_version": "1.2.0",
            "grid_template_areas": null,
            "object_position": null,
            "object_fit": null,
            "grid_auto_columns": null,
            "margin": null,
            "display": null,
            "left": null
          }
        },
        "a8c7eb8ca2954ac28ff2c3c66bf731bd": {
          "model_module": "@jupyter-widgets/output",
          "model_name": "OutputModel",
          "state": {
            "_view_name": "OutputView",
            "msg_id": "",
            "_dom_classes": [],
            "_model_name": "OutputModel",
            "outputs": [
              {
                "output_type": "stream",
                "metadata": {
                  "tags": []
                },
                "text": "Video available at https://youtube.com/watch?v=preNGdab7Kk\n",
                "stream": "stdout"
              },
              {
                "output_type": "display_data",
                "metadata": {
                  "tags": []
                },
                "text/html": "\n        <iframe\n            width=\"854\"\n            height=\"480\"\n            src=\"https://www.youtube.com/embed/preNGdab7Kk?fs=1&rel=0\"\n            frameborder=\"0\"\n            allowfullscreen\n        ></iframe>\n        ",
                "text/plain": "<IPython.lib.display.YouTubeVideo at 0x7ff47b981810>",
                "image/jpeg": "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\n"
              }
            ],
            "_view_module": "@jupyter-widgets/output",
            "_model_module_version": "1.0.0",
            "_view_count": null,
            "_view_module_version": "1.0.0",
            "layout": "IPY_MODEL_04154c89697b4a478db98acb7c29995d",
            "_model_module": "@jupyter-widgets/output"
          }
        },
        "87730e9c35ba4b478b8a7eccfdc9a134": {
          "model_module": "@jupyter-widgets/output",
          "model_name": "OutputModel",
          "state": {
            "_view_name": "OutputView",
            "msg_id": "",
            "_dom_classes": [],
            "_model_name": "OutputModel",
            "outputs": [
              {
                "output_type": "stream",
                "metadata": {
                  "tags": []
                },
                "text": "Video available at https://www.bilibili.com/video/av541417171\n",
                "stream": "stdout"
              },
              {
                "output_type": "display_data",
                "metadata": {
                  "tags": []
                },
                "text/html": "\n        <iframe\n            width=\"854\"\n            height=\"480\"\n            src=\"https://player.bilibili.com/player.html?bvid=av541417171&page=1?fs=1\"\n            frameborder=\"0\"\n            allowfullscreen\n        ></iframe>\n        ",
                "text/plain": "<__main__.BiliVideo at 0x7ff47b8b8a10>"
              }
            ],
            "_view_module": "@jupyter-widgets/output",
            "_model_module_version": "1.0.0",
            "_view_count": null,
            "_view_module_version": "1.0.0",
            "layout": "IPY_MODEL_f6ca85627238402ab26d4ff835b06663",
            "_model_module": "@jupyter-widgets/output"
          }
        },
        "04154c89697b4a478db98acb7c29995d": {
          "model_module": "@jupyter-widgets/base",
          "model_name": "LayoutModel",
          "state": {
            "_view_name": "LayoutView",
            "grid_template_rows": null,
            "right": null,
            "justify_content": null,
            "_view_module": "@jupyter-widgets/base",
            "overflow": null,
            "_model_module_version": "1.2.0",
            "_view_count": null,
            "flex_flow": null,
            "width": null,
            "min_width": null,
            "border": null,
            "align_items": null,
            "bottom": null,
            "_model_module": "@jupyter-widgets/base",
            "top": null,
            "grid_column": null,
            "overflow_y": null,
            "overflow_x": null,
            "grid_auto_flow": null,
            "grid_area": null,
            "grid_template_columns": null,
            "flex": null,
            "_model_name": "LayoutModel",
            "justify_items": null,
            "grid_row": null,
            "max_height": null,
            "align_content": null,
            "visibility": null,
            "align_self": null,
            "height": null,
            "min_height": null,
            "padding": null,
            "grid_auto_rows": null,
            "grid_gap": null,
            "max_width": null,
            "order": null,
            "_view_module_version": "1.2.0",
            "grid_template_areas": null,
            "object_position": null,
            "object_fit": null,
            "grid_auto_columns": null,
            "margin": null,
            "display": null,
            "left": null
          }
        },
        "f6ca85627238402ab26d4ff835b06663": {
          "model_module": "@jupyter-widgets/base",
          "model_name": "LayoutModel",
          "state": {
            "_view_name": "LayoutView",
            "grid_template_rows": null,
            "right": null,
            "justify_content": null,
            "_view_module": "@jupyter-widgets/base",
            "overflow": null,
            "_model_module_version": "1.2.0",
            "_view_count": null,
            "flex_flow": null,
            "width": null,
            "min_width": null,
            "border": null,
            "align_items": null,
            "bottom": null,
            "_model_module": "@jupyter-widgets/base",
            "top": null,
            "grid_column": null,
            "overflow_y": null,
            "overflow_x": null,
            "grid_auto_flow": null,
            "grid_area": null,
            "grid_template_columns": null,
            "flex": null,
            "_model_name": "LayoutModel",
            "justify_items": null,
            "grid_row": null,
            "max_height": null,
            "align_content": null,
            "visibility": null,
            "align_self": null,
            "height": null,
            "min_height": null,
            "padding": null,
            "grid_auto_rows": null,
            "grid_gap": null,
            "max_width": null,
            "order": null,
            "_view_module_version": "1.2.0",
            "grid_template_areas": null,
            "object_position": null,
            "object_fit": null,
            "grid_auto_columns": null,
            "margin": null,
            "display": null,
            "left": null
          }
        },
        "cfcc45359f73468d8061986ecd01319f": {
          "model_module": "@jupyter-widgets/controls",
          "model_name": "VBoxModel",
          "state": {
            "_view_name": "VBoxView",
            "_dom_classes": [
              "widget-interact"
            ],
            "_model_name": "VBoxModel",
            "_view_module": "@jupyter-widgets/controls",
            "_model_module_version": "1.5.0",
            "_view_count": null,
            "_view_module_version": "1.5.0",
            "box_style": "",
            "layout": "IPY_MODEL_b412837df2f540bbb98bf097f0aabcc7",
            "_model_module": "@jupyter-widgets/controls",
            "children": [
              "IPY_MODEL_4a4a9318f2d24798a48208fed93cd275",
              "IPY_MODEL_818d1a3ff015456ba2e28c48de510fb7",
              "IPY_MODEL_5c683035ced344da8d01106b1a83200f"
            ]
          }
        },
        "b412837df2f540bbb98bf097f0aabcc7": {
          "model_module": "@jupyter-widgets/base",
          "model_name": "LayoutModel",
          "state": {
            "_view_name": "LayoutView",
            "grid_template_rows": null,
            "right": null,
            "justify_content": null,
            "_view_module": "@jupyter-widgets/base",
            "overflow": null,
            "_model_module_version": "1.2.0",
            "_view_count": null,
            "flex_flow": null,
            "width": null,
            "min_width": null,
            "border": null,
            "align_items": null,
            "bottom": null,
            "_model_module": "@jupyter-widgets/base",
            "top": null,
            "grid_column": null,
            "overflow_y": null,
            "overflow_x": null,
            "grid_auto_flow": null,
            "grid_area": null,
            "grid_template_columns": null,
            "flex": null,
            "_model_name": "LayoutModel",
            "justify_items": null,
            "grid_row": null,
            "max_height": null,
            "align_content": null,
            "visibility": null,
            "align_self": null,
            "height": null,
            "min_height": null,
            "padding": null,
            "grid_auto_rows": null,
            "grid_gap": null,
            "max_width": null,
            "order": null,
            "_view_module_version": "1.2.0",
            "grid_template_areas": null,
            "object_position": null,
            "object_fit": null,
            "grid_auto_columns": null,
            "margin": null,
            "display": null,
            "left": null
          }
        },
        "4a4a9318f2d24798a48208fed93cd275": {
          "model_module": "@jupyter-widgets/controls",
          "model_name": "FloatSliderModel",
          "state": {
            "_view_name": "FloatSliderView",
            "style": "IPY_MODEL_f49b2bdeb0384a9daffd063ce7b98007",
            "_dom_classes": [],
            "description": "I_dc",
            "step": 10,
            "_model_name": "FloatSliderModel",
            "orientation": "horizontal",
            "max": 300,
            "_view_module": "@jupyter-widgets/controls",
            "_model_module_version": "1.5.0",
            "value": 210,
            "_view_count": null,
            "disabled": false,
            "_view_module_version": "1.5.0",
            "min": 0,
            "continuous_update": true,
            "readout_format": ".2f",
            "description_tooltip": null,
            "readout": true,
            "_model_module": "@jupyter-widgets/controls",
            "layout": "IPY_MODEL_52b55498e57d47e0a82c8daecdb7a5a5"
          }
        },
        "818d1a3ff015456ba2e28c48de510fb7": {
          "model_module": "@jupyter-widgets/controls",
          "model_name": "FloatSliderModel",
          "state": {
            "_view_name": "FloatSliderView",
            "style": "IPY_MODEL_512839a5ac7e46a48248ac9c6d53324f",
            "_dom_classes": [],
            "description": "tau_m",
            "step": 2,
            "_model_name": "FloatSliderModel",
            "orientation": "horizontal",
            "max": 20,
            "_view_module": "@jupyter-widgets/controls",
            "_model_module_version": "1.5.0",
            "value": 10,
            "_view_count": null,
            "disabled": false,
            "_view_module_version": "1.5.0",
            "min": 2,
            "continuous_update": true,
            "readout_format": ".2f",
            "description_tooltip": null,
            "readout": true,
            "_model_module": "@jupyter-widgets/controls",
            "layout": "IPY_MODEL_52b55498e57d47e0a82c8daecdb7a5a5"
          }
        },
        "5c683035ced344da8d01106b1a83200f": {
          "model_module": "@jupyter-widgets/output",
          "model_name": "OutputModel",
          "state": {
            "_view_name": "OutputView",
            "msg_id": "",
            "_dom_classes": [],
            "_model_name": "OutputModel",
            "outputs": [
              {
                "output_type": "display_data",
                "metadata": {
                  "tags": [],
                  "image/png": {
                    "width": 552,
                    "height": 414
                  },
                  "needs_background": "light"
                },
                "image/png": "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\n",
                "text/plain": "<Figure size 576x432 with 1 Axes>"
              }
            ],
            "_view_module": "@jupyter-widgets/output",
            "_model_module_version": "1.0.0",
            "_view_count": null,
            "_view_module_version": "1.0.0",
            "layout": "IPY_MODEL_b46b72735408474b873a9aab8a0bb38c",
            "_model_module": "@jupyter-widgets/output"
          }
        },
        "f49b2bdeb0384a9daffd063ce7b98007": {
          "model_module": "@jupyter-widgets/controls",
          "model_name": "SliderStyleModel",
          "state": {
            "_view_name": "StyleView",
            "handle_color": null,
            "_model_name": "SliderStyleModel",
            "description_width": "",
            "_view_module": "@jupyter-widgets/base",
            "_model_module_version": "1.5.0",
            "_view_count": null,
            "_view_module_version": "1.2.0",
            "_model_module": "@jupyter-widgets/controls"
          }
        },
        "52b55498e57d47e0a82c8daecdb7a5a5": {
          "model_module": "@jupyter-widgets/base",
          "model_name": "LayoutModel",
          "state": {
            "_view_name": "LayoutView",
            "grid_template_rows": null,
            "right": null,
            "justify_content": null,
            "_view_module": "@jupyter-widgets/base",
            "overflow": null,
            "_model_module_version": "1.2.0",
            "_view_count": null,
            "flex_flow": null,
            "width": "450px",
            "min_width": null,
            "border": null,
            "align_items": null,
            "bottom": null,
            "_model_module": "@jupyter-widgets/base",
            "top": null,
            "grid_column": null,
            "overflow_y": null,
            "overflow_x": null,
            "grid_auto_flow": null,
            "grid_area": null,
            "grid_template_columns": null,
            "flex": null,
            "_model_name": "LayoutModel",
            "justify_items": null,
            "grid_row": null,
            "max_height": null,
            "align_content": null,
            "visibility": null,
            "align_self": null,
            "height": null,
            "min_height": null,
            "padding": null,
            "grid_auto_rows": null,
            "grid_gap": null,
            "max_width": null,
            "order": null,
            "_view_module_version": "1.2.0",
            "grid_template_areas": null,
            "object_position": null,
            "object_fit": null,
            "grid_auto_columns": null,
            "margin": null,
            "display": null,
            "left": null
          }
        },
        "512839a5ac7e46a48248ac9c6d53324f": {
          "model_module": "@jupyter-widgets/controls",
          "model_name": "SliderStyleModel",
          "state": {
            "_view_name": "StyleView",
            "handle_color": null,
            "_model_name": "SliderStyleModel",
            "description_width": "",
            "_view_module": "@jupyter-widgets/base",
            "_model_module_version": "1.5.0",
            "_view_count": null,
            "_view_module_version": "1.2.0",
            "_model_module": "@jupyter-widgets/controls"
          }
        },
        "b46b72735408474b873a9aab8a0bb38c": {
          "model_module": "@jupyter-widgets/base",
          "model_name": "LayoutModel",
          "state": {
            "_view_name": "LayoutView",
            "grid_template_rows": null,
            "right": null,
            "justify_content": null,
            "_view_module": "@jupyter-widgets/base",
            "overflow": null,
            "_model_module_version": "1.2.0",
            "_view_count": null,
            "flex_flow": null,
            "width": null,
            "min_width": null,
            "border": null,
            "align_items": null,
            "bottom": null,
            "_model_module": "@jupyter-widgets/base",
            "top": null,
            "grid_column": null,
            "overflow_y": null,
            "overflow_x": null,
            "grid_auto_flow": null,
            "grid_area": null,
            "grid_template_columns": null,
            "flex": null,
            "_model_name": "LayoutModel",
            "justify_items": null,
            "grid_row": null,
            "max_height": null,
            "align_content": null,
            "visibility": null,
            "align_self": null,
            "height": null,
            "min_height": null,
            "padding": null,
            "grid_auto_rows": null,
            "grid_gap": null,
            "max_width": null,
            "order": null,
            "_view_module_version": "1.2.0",
            "grid_template_areas": null,
            "object_position": null,
            "object_fit": null,
            "grid_auto_columns": null,
            "margin": null,
            "display": null,
            "left": null
          }
        },
        "2803025392244ae6968a1868ffaea546": {
          "model_module": "@jupyter-widgets/controls",
          "model_name": "VBoxModel",
          "state": {
            "_view_name": "VBoxView",
            "_dom_classes": [
              "widget-interact"
            ],
            "_model_name": "VBoxModel",
            "_view_module": "@jupyter-widgets/controls",
            "_model_module_version": "1.5.0",
            "_view_count": null,
            "_view_module_version": "1.5.0",
            "box_style": "",
            "layout": "IPY_MODEL_f749034938bd44a5bdf43777acd4d0e3",
            "_model_module": "@jupyter-widgets/controls",
            "children": [
              "IPY_MODEL_e0af77eb95b3420291e344b68878f6f1",
              "IPY_MODEL_d047a54d261e442cbd6bd308aaf9e57b",
              "IPY_MODEL_f815bc90ef8149aeb6eb2370ae258074"
            ]
          }
        },
        "f749034938bd44a5bdf43777acd4d0e3": {
          "model_module": "@jupyter-widgets/base",
          "model_name": "LayoutModel",
          "state": {
            "_view_name": "LayoutView",
            "grid_template_rows": null,
            "right": null,
            "justify_content": null,
            "_view_module": "@jupyter-widgets/base",
            "overflow": null,
            "_model_module_version": "1.2.0",
            "_view_count": null,
            "flex_flow": null,
            "width": null,
            "min_width": null,
            "border": null,
            "align_items": null,
            "bottom": null,
            "_model_module": "@jupyter-widgets/base",
            "top": null,
            "grid_column": null,
            "overflow_y": null,
            "overflow_x": null,
            "grid_auto_flow": null,
            "grid_area": null,
            "grid_template_columns": null,
            "flex": null,
            "_model_name": "LayoutModel",
            "justify_items": null,
            "grid_row": null,
            "max_height": null,
            "align_content": null,
            "visibility": null,
            "align_self": null,
            "height": null,
            "min_height": null,
            "padding": null,
            "grid_auto_rows": null,
            "grid_gap": null,
            "max_width": null,
            "order": null,
            "_view_module_version": "1.2.0",
            "grid_template_areas": null,
            "object_position": null,
            "object_fit": null,
            "grid_auto_columns": null,
            "margin": null,
            "display": null,
            "left": null
          }
        },
        "e0af77eb95b3420291e344b68878f6f1": {
          "model_module": "@jupyter-widgets/controls",
          "model_name": "FloatSliderModel",
          "state": {
            "_view_name": "FloatSliderView",
            "style": "IPY_MODEL_018dc7be116b4a8fa7201298ad4d5693",
            "_dom_classes": [],
            "description": "mu_gwn",
            "step": 5,
            "_model_name": "FloatSliderModel",
            "orientation": "horizontal",
            "max": 300,
            "_view_module": "@jupyter-widgets/controls",
            "_model_module_version": "1.5.0",
            "value": 200,
            "_view_count": null,
            "disabled": false,
            "_view_module_version": "1.5.0",
            "min": 100,
            "continuous_update": true,
            "readout_format": ".2f",
            "description_tooltip": null,
            "readout": true,
            "_model_module": "@jupyter-widgets/controls",
            "layout": "IPY_MODEL_52b55498e57d47e0a82c8daecdb7a5a5"
          }
        },
        "d047a54d261e442cbd6bd308aaf9e57b": {
          "model_module": "@jupyter-widgets/controls",
          "model_name": "FloatSliderModel",
          "state": {
            "_view_name": "FloatSliderView",
            "style": "IPY_MODEL_c4db569cf35e4a78b314977251bf1026",
            "_dom_classes": [],
            "description": "sig_gwn",
            "step": 0.5,
            "_model_name": "FloatSliderModel",
            "orientation": "horizontal",
            "max": 5,
            "_view_module": "@jupyter-widgets/controls",
            "_model_module_version": "1.5.0",
            "value": 0.5,
            "_view_count": null,
            "disabled": false,
            "_view_module_version": "1.5.0",
            "min": 0,
            "continuous_update": true,
            "readout_format": ".2f",
            "description_tooltip": null,
            "readout": true,
            "_model_module": "@jupyter-widgets/controls",
            "layout": "IPY_MODEL_52b55498e57d47e0a82c8daecdb7a5a5"
          }
        },
        "f815bc90ef8149aeb6eb2370ae258074": {
          "model_module": "@jupyter-widgets/output",
          "model_name": "OutputModel",
          "state": {
            "_view_name": "OutputView",
            "msg_id": "",
            "_dom_classes": [],
            "_model_name": "OutputModel",
            "outputs": [
              {
                "output_type": "display_data",
                "metadata": {
                  "tags": [],
                  "image/png": {
                    "width": 846,
                    "height": 270
                  },
                  "needs_background": "light"
                },
                "image/png": "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\n",
                "text/plain": "<Figure size 864x288 with 2 Axes>"
              }
            ],
            "_view_module": "@jupyter-widgets/output",
            "_model_module_version": "1.0.0",
            "_view_count": null,
            "_view_module_version": "1.0.0",
            "layout": "IPY_MODEL_1cd3c8d40f5249969a74ccd14fcc0c20",
            "_model_module": "@jupyter-widgets/output"
          }
        },
        "018dc7be116b4a8fa7201298ad4d5693": {
          "model_module": "@jupyter-widgets/controls",
          "model_name": "SliderStyleModel",
          "state": {
            "_view_name": "StyleView",
            "handle_color": null,
            "_model_name": "SliderStyleModel",
            "description_width": "",
            "_view_module": "@jupyter-widgets/base",
            "_model_module_version": "1.5.0",
            "_view_count": null,
            "_view_module_version": "1.2.0",
            "_model_module": "@jupyter-widgets/controls"
          }
        },
        "c4db569cf35e4a78b314977251bf1026": {
          "model_module": "@jupyter-widgets/controls",
          "model_name": "SliderStyleModel",
          "state": {
            "_view_name": "StyleView",
            "handle_color": null,
            "_model_name": "SliderStyleModel",
            "description_width": "",
            "_view_module": "@jupyter-widgets/base",
            "_model_module_version": "1.5.0",
            "_view_count": null,
            "_view_module_version": "1.2.0",
            "_model_module": "@jupyter-widgets/controls"
          }
        },
        "1cd3c8d40f5249969a74ccd14fcc0c20": {
          "model_module": "@jupyter-widgets/base",
          "model_name": "LayoutModel",
          "state": {
            "_view_name": "LayoutView",
            "grid_template_rows": null,
            "right": null,
            "justify_content": null,
            "_view_module": "@jupyter-widgets/base",
            "overflow": null,
            "_model_module_version": "1.2.0",
            "_view_count": null,
            "flex_flow": null,
            "width": null,
            "min_width": null,
            "border": null,
            "align_items": null,
            "bottom": null,
            "_model_module": "@jupyter-widgets/base",
            "top": null,
            "grid_column": null,
            "overflow_y": null,
            "overflow_x": null,
            "grid_auto_flow": null,
            "grid_area": null,
            "grid_template_columns": null,
            "flex": null,
            "_model_name": "LayoutModel",
            "justify_items": null,
            "grid_row": null,
            "max_height": null,
            "align_content": null,
            "visibility": null,
            "align_self": null,
            "height": null,
            "min_height": null,
            "padding": null,
            "grid_auto_rows": null,
            "grid_gap": null,
            "max_width": null,
            "order": null,
            "_view_module_version": "1.2.0",
            "grid_template_areas": null,
            "object_position": null,
            "object_fit": null,
            "grid_auto_columns": null,
            "margin": null,
            "display": null,
            "left": null
          }
        },
        "0c37df96b68846a6b5ff6c273ccb4870": {
          "model_module": "@jupyter-widgets/controls",
          "model_name": "VBoxModel",
          "state": {
            "_view_name": "VBoxView",
            "_dom_classes": [
              "widget-interact"
            ],
            "_model_name": "VBoxModel",
            "_view_module": "@jupyter-widgets/controls",
            "_model_module_version": "1.5.0",
            "_view_count": null,
            "_view_module_version": "1.5.0",
            "box_style": "",
            "layout": "IPY_MODEL_c868249839e24f90a4a4ff4b47c1bb96",
            "_model_module": "@jupyter-widgets/controls",
            "children": [
              "IPY_MODEL_73dac0c29b5d4d18b6ecf77a358b357e",
              "IPY_MODEL_c7e094e33e714dc9a513a568bcd88b93"
            ]
          }
        },
        "c868249839e24f90a4a4ff4b47c1bb96": {
          "model_module": "@jupyter-widgets/base",
          "model_name": "LayoutModel",
          "state": {
            "_view_name": "LayoutView",
            "grid_template_rows": null,
            "right": null,
            "justify_content": null,
            "_view_module": "@jupyter-widgets/base",
            "overflow": null,
            "_model_module_version": "1.2.0",
            "_view_count": null,
            "flex_flow": null,
            "width": null,
            "min_width": null,
            "border": null,
            "align_items": null,
            "bottom": null,
            "_model_module": "@jupyter-widgets/base",
            "top": null,
            "grid_column": null,
            "overflow_y": null,
            "overflow_x": null,
            "grid_auto_flow": null,
            "grid_area": null,
            "grid_template_columns": null,
            "flex": null,
            "_model_name": "LayoutModel",
            "justify_items": null,
            "grid_row": null,
            "max_height": null,
            "align_content": null,
            "visibility": null,
            "align_self": null,
            "height": null,
            "min_height": null,
            "padding": null,
            "grid_auto_rows": null,
            "grid_gap": null,
            "max_width": null,
            "order": null,
            "_view_module_version": "1.2.0",
            "grid_template_areas": null,
            "object_position": null,
            "object_fit": null,
            "grid_auto_columns": null,
            "margin": null,
            "display": null,
            "left": null
          }
        },
        "73dac0c29b5d4d18b6ecf77a358b357e": {
          "model_module": "@jupyter-widgets/controls",
          "model_name": "FloatSliderModel",
          "state": {
            "_view_name": "FloatSliderView",
            "style": "IPY_MODEL_408eed0a5886487b8e945ff5190f00f1",
            "_dom_classes": [],
            "description": "sig_gwn",
            "step": 0.5,
            "_model_name": "FloatSliderModel",
            "orientation": "horizontal",
            "max": 6,
            "_view_module": "@jupyter-widgets/controls",
            "_model_module_version": "1.5.0",
            "value": 6,
            "_view_count": null,
            "disabled": false,
            "_view_module_version": "1.5.0",
            "min": 0,
            "continuous_update": true,
            "readout_format": ".2f",
            "description_tooltip": null,
            "readout": true,
            "_model_module": "@jupyter-widgets/controls",
            "layout": "IPY_MODEL_52b55498e57d47e0a82c8daecdb7a5a5"
          }
        },
        "c7e094e33e714dc9a513a568bcd88b93": {
          "model_module": "@jupyter-widgets/output",
          "model_name": "OutputModel",
          "state": {
            "_view_name": "OutputView",
            "msg_id": "",
            "_dom_classes": [],
            "_model_name": "OutputModel",
            "outputs": [
              {
                "output_type": "display_data",
                "metadata": {
                  "tags": [],
                  "image/png": {
                    "width": 557,
                    "height": 413
                  },
                  "needs_background": "light"
                },
                "image/png": "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\n",
                "text/plain": "<Figure size 576x432 with 1 Axes>"
              }
            ],
            "_view_module": "@jupyter-widgets/output",
            "_model_module_version": "1.0.0",
            "_view_count": null,
            "_view_module_version": "1.0.0",
            "layout": "IPY_MODEL_9438e74ec24947f5a26fac24121d6484",
            "_model_module": "@jupyter-widgets/output"
          }
        },
        "408eed0a5886487b8e945ff5190f00f1": {
          "model_module": "@jupyter-widgets/controls",
          "model_name": "SliderStyleModel",
          "state": {
            "_view_name": "StyleView",
            "handle_color": null,
            "_model_name": "SliderStyleModel",
            "description_width": "",
            "_view_module": "@jupyter-widgets/base",
            "_model_module_version": "1.5.0",
            "_view_count": null,
            "_view_module_version": "1.2.0",
            "_model_module": "@jupyter-widgets/controls"
          }
        },
        "9438e74ec24947f5a26fac24121d6484": {
          "model_module": "@jupyter-widgets/base",
          "model_name": "LayoutModel",
          "state": {
            "_view_name": "LayoutView",
            "grid_template_rows": null,
            "right": null,
            "justify_content": null,
            "_view_module": "@jupyter-widgets/base",
            "overflow": null,
            "_model_module_version": "1.2.0",
            "_view_count": null,
            "flex_flow": null,
            "width": null,
            "min_width": null,
            "border": null,
            "align_items": null,
            "bottom": null,
            "_model_module": "@jupyter-widgets/base",
            "top": null,
            "grid_column": null,
            "overflow_y": null,
            "overflow_x": null,
            "grid_auto_flow": null,
            "grid_area": null,
            "grid_template_columns": null,
            "flex": null,
            "_model_name": "LayoutModel",
            "justify_items": null,
            "grid_row": null,
            "max_height": null,
            "align_content": null,
            "visibility": null,
            "align_self": null,
            "height": null,
            "min_height": null,
            "padding": null,
            "grid_auto_rows": null,
            "grid_gap": null,
            "max_width": null,
            "order": null,
            "_view_module_version": "1.2.0",
            "grid_template_areas": null,
            "object_position": null,
            "object_fit": null,
            "grid_auto_columns": null,
            "margin": null,
            "display": null,
            "left": null
          }
        },
        "8477ae6acedb4df0988741b02386f6d4": {
          "model_module": "@jupyter-widgets/controls",
          "model_name": "VBoxModel",
          "state": {
            "_view_name": "VBoxView",
            "_dom_classes": [
              "widget-interact"
            ],
            "_model_name": "VBoxModel",
            "_view_module": "@jupyter-widgets/controls",
            "_model_module_version": "1.5.0",
            "_view_count": null,
            "_view_module_version": "1.5.0",
            "box_style": "",
            "layout": "IPY_MODEL_6e6eda5e2d8c408ab4cf67622cbf1422",
            "_model_module": "@jupyter-widgets/controls",
            "children": [
              "IPY_MODEL_f10a3fe4a72c4a17befc67fbd33bdf2f",
              "IPY_MODEL_6166ef0455984138bc6fc08122e15155"
            ]
          }
        },
        "6e6eda5e2d8c408ab4cf67622cbf1422": {
          "model_module": "@jupyter-widgets/base",
          "model_name": "LayoutModel",
          "state": {
            "_view_name": "LayoutView",
            "grid_template_rows": null,
            "right": null,
            "justify_content": null,
            "_view_module": "@jupyter-widgets/base",
            "overflow": null,
            "_model_module_version": "1.2.0",
            "_view_count": null,
            "flex_flow": null,
            "width": null,
            "min_width": null,
            "border": null,
            "align_items": null,
            "bottom": null,
            "_model_module": "@jupyter-widgets/base",
            "top": null,
            "grid_column": null,
            "overflow_y": null,
            "overflow_x": null,
            "grid_auto_flow": null,
            "grid_area": null,
            "grid_template_columns": null,
            "flex": null,
            "_model_name": "LayoutModel",
            "justify_items": null,
            "grid_row": null,
            "max_height": null,
            "align_content": null,
            "visibility": null,
            "align_self": null,
            "height": null,
            "min_height": null,
            "padding": null,
            "grid_auto_rows": null,
            "grid_gap": null,
            "max_width": null,
            "order": null,
            "_view_module_version": "1.2.0",
            "grid_template_areas": null,
            "object_position": null,
            "object_fit": null,
            "grid_auto_columns": null,
            "margin": null,
            "display": null,
            "left": null
          }
        },
        "f10a3fe4a72c4a17befc67fbd33bdf2f": {
          "model_module": "@jupyter-widgets/controls",
          "model_name": "FloatSliderModel",
          "state": {
            "_view_name": "FloatSliderView",
            "style": "IPY_MODEL_69f3428b113944e3af623b8a6290f0ba",
            "_dom_classes": [],
            "description": "sig_gwn",
            "step": 0.5,
            "_model_name": "FloatSliderModel",
            "orientation": "horizontal",
            "max": 10,
            "_view_module": "@jupyter-widgets/controls",
            "_model_module_version": "1.5.0",
            "value": 6,
            "_view_count": null,
            "disabled": false,
            "_view_module_version": "1.5.0",
            "min": 0,
            "continuous_update": true,
            "readout_format": ".2f",
            "description_tooltip": null,
            "readout": true,
            "_model_module": "@jupyter-widgets/controls",
            "layout": "IPY_MODEL_52b55498e57d47e0a82c8daecdb7a5a5"
          }
        },
        "6166ef0455984138bc6fc08122e15155": {
          "model_module": "@jupyter-widgets/output",
          "model_name": "OutputModel",
          "state": {
            "_view_name": "OutputView",
            "msg_id": "",
            "_dom_classes": [],
            "_model_name": "OutputModel",
            "outputs": [
              {
                "output_type": "display_data",
                "metadata": {
                  "tags": [],
                  "image/png": {
                    "width": 558,
                    "height": 413
                  },
                  "needs_background": "light"
                },
                "image/png": "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\n",
                "text/plain": "<Figure size 576x432 with 1 Axes>"
              }
            ],
            "_view_module": "@jupyter-widgets/output",
            "_model_module_version": "1.0.0",
            "_view_count": null,
            "_view_module_version": "1.0.0",
            "layout": "IPY_MODEL_d069c3f01ba14298872adf24dd84e58f",
            "_model_module": "@jupyter-widgets/output"
          }
        },
        "69f3428b113944e3af623b8a6290f0ba": {
          "model_module": "@jupyter-widgets/controls",
          "model_name": "SliderStyleModel",
          "state": {
            "_view_name": "StyleView",
            "handle_color": null,
            "_model_name": "SliderStyleModel",
            "description_width": "",
            "_view_module": "@jupyter-widgets/base",
            "_model_module_version": "1.5.0",
            "_view_count": null,
            "_view_module_version": "1.2.0",
            "_model_module": "@jupyter-widgets/controls"
          }
        },
        "d069c3f01ba14298872adf24dd84e58f": {
          "model_module": "@jupyter-widgets/base",
          "model_name": "LayoutModel",
          "state": {
            "_view_name": "LayoutView",
            "grid_template_rows": null,
            "right": null,
            "justify_content": null,
            "_view_module": "@jupyter-widgets/base",
            "overflow": null,
            "_model_module_version": "1.2.0",
            "_view_count": null,
            "flex_flow": null,
            "width": null,
            "min_width": null,
            "border": null,
            "align_items": null,
            "bottom": null,
            "_model_module": "@jupyter-widgets/base",
            "top": null,
            "grid_column": null,
            "overflow_y": null,
            "overflow_x": null,
            "grid_auto_flow": null,
            "grid_area": null,
            "grid_template_columns": null,
            "flex": null,
            "_model_name": "LayoutModel",
            "justify_items": null,
            "grid_row": null,
            "max_height": null,
            "align_content": null,
            "visibility": null,
            "align_self": null,
            "height": null,
            "min_height": null,
            "padding": null,
            "grid_auto_rows": null,
            "grid_gap": null,
            "max_width": null,
            "order": null,
            "_view_module_version": "1.2.0",
            "grid_template_areas": null,
            "object_position": null,
            "object_fit": null,
            "grid_auto_columns": null,
            "margin": null,
            "display": null,
            "left": null
          }
        }
      }
    }
  },
  "cells": [
    {
      "cell_type": "markdown",
      "metadata": {
        "id": "view-in-github",
        "colab_type": "text"
      },
      "source": [
        "<a href=\"https://colab.research.google.com/github/Deepak-Mewada/NMA-CN/blob/main/tutorials/W2D3_BiologicalNeuronModels/student/W2D3_Tutorial1.ipynb\" target=\"_parent\"><img src=\"https://colab.research.google.com/assets/colab-badge.svg\" alt=\"Open In Colab\"/></a>"
      ]
    },
    {
      "cell_type": "markdown",
      "metadata": {
        "execution": {},
        "id": "RI1Ztmr5Czav"
      },
      "source": [
        "# Tutorial 1: The Leaky Integrate-and-Fire (LIF) Neuron Model\n",
        "**Week 2, Day 3: Biological Neuron Models**\n",
        "\n",
        "**By Neuromatch Academy**\n",
        "\n",
        "__Content creators:__ Qinglong Gu, Songtin Li, John Murray, Richard Naud, Arvind Kumar\n",
        "\n",
        "__Content reviewers:__  Maryam Vaziri-Pashkam, Ella Batty, Lorenzo Fontolan, Richard Gao, Matthew Krause, Spiros Chavlis, Michael Waskom, Ethan Cheng"
      ]
    },
    {
      "cell_type": "markdown",
      "metadata": {
        "execution": {},
        "id": "xhwdsgnmCzay"
      },
      "source": [
        "**Our 2021 Sponsors, including Presenting Sponsor Facebook Reality Labs**\n",
        "\n",
        "<p align='center'><img src='https://github.com/NeuromatchAcademy/widgets/blob/master/sponsors.png?raw=True'/></p>"
      ]
    },
    {
      "cell_type": "markdown",
      "metadata": {
        "execution": {},
        "id": "U2pW6aP9Czaz"
      },
      "source": [
        "---\n",
        "# Tutorial Objectives\n",
        "\n",
        "*Estimated timing of tutorial: 1 hour, 10 min*\n",
        "\n",
        "This is Tutorial 1 of a series on implementing realistic neuron models. In this tutorial, we will build up a leaky integrate-and-fire (LIF) neuron model and study its dynamics in response to various types of inputs. In particular, we are going to write a few lines of code to:  \n",
        "\n",
        "- simulate the LIF neuron model\n",
        "\n",
        "- drive the LIF neuron with external inputs, such as direct currents, Gaussian white noise, and Poisson spike trains, etc.\n",
        "\n",
        "- study how different inputs affect the  LIF neuron's output (firing rate and spike time irregularity)\n",
        "\n",
        "Here, we will especially emphasize identifying conditions (input statistics) under which a neuron can spike at low firing rates and in an irregular manner. The reason for focusing on this is that in most cases, neocortical neurons spike in an irregular manner."
      ]
    },
    {
      "cell_type": "code",
      "metadata": {
        "cellView": "form",
        "execution": {},
        "id": "dnEamTp4Cza0",
        "outputId": "7beac96b-1e73-449d-9639-5d623c97abdd",
        "colab": {
          "base_uri": "https://localhost:8080/",
          "height": 501
        }
      },
      "source": [
        "# @title Tutorial slides\n",
        "\n",
        "# @markdown These are the slides for the videos in all tutorials today\n",
        "from IPython.display import IFrame\n",
        "IFrame(src=f\"https://mfr.ca-1.osf.io/render?url=https://osf.io/8djsm/?direct%26mode=render%26action=download%26mode=render\", width=854, height=480)"
      ],
      "execution_count": 9,
      "outputs": [
        {
          "output_type": "execute_result",
          "data": {
            "text/html": [
              "\n",
              "        <iframe\n",
              "            width=\"854\"\n",
              "            height=\"480\"\n",
              "            src=\"https://mfr.ca-1.osf.io/render?url=https://osf.io/8djsm/?direct%26mode=render%26action=download%26mode=render\"\n",
              "            frameborder=\"0\"\n",
              "            allowfullscreen\n",
              "        ></iframe>\n",
              "        "
            ],
            "text/plain": [
              "<IPython.lib.display.IFrame at 0x7ff487acddd0>"
            ]
          },
          "metadata": {
            "tags": []
          },
          "execution_count": 9
        }
      ]
    },
    {
      "cell_type": "markdown",
      "metadata": {
        "execution": {},
        "id": "uOxtCDTDCza1"
      },
      "source": [
        "---\n",
        "# Setup"
      ]
    },
    {
      "cell_type": "code",
      "metadata": {
        "cellView": "both",
        "execution": {},
        "id": "1_5e38n7Cza1"
      },
      "source": [
        "# Imports\n",
        "\n",
        "import numpy as np\n",
        "import matplotlib.pyplot as plt"
      ],
      "execution_count": 10,
      "outputs": []
    },
    {
      "cell_type": "code",
      "metadata": {
        "cellView": "form",
        "execution": {},
        "id": "UbKUuLZyCza2"
      },
      "source": [
        "# @title Figure Settings\n",
        "import ipywidgets as widgets  # interactive display\n",
        "%config InlineBackend.figure_format = 'retina'\n",
        "# use NMA plot style\n",
        "plt.style.use(\"https://raw.githubusercontent.com/NeuromatchAcademy/course-content/master/nma.mplstyle\")\n",
        "my_layout = widgets.Layout()"
      ],
      "execution_count": 11,
      "outputs": []
    },
    {
      "cell_type": "code",
      "metadata": {
        "cellView": "form",
        "execution": {},
        "id": "m1UmjEHkCza3"
      },
      "source": [
        "# @title Plotting Functions\n",
        "\n",
        "def plot_volt_trace(pars, v, sp):\n",
        "  \"\"\"\n",
        "  Plot trajetory of membrane potential for a single neuron\n",
        "\n",
        "  Expects:\n",
        "  pars   : parameter dictionary\n",
        "  v      : volt trajetory\n",
        "  sp     : spike train\n",
        "\n",
        "  Returns:\n",
        "  figure of the membrane potential trajetory for a single neuron\n",
        "  \"\"\"\n",
        "\n",
        "  V_th = pars['V_th']\n",
        "  dt, range_t = pars['dt'], pars['range_t']\n",
        "  if sp.size:\n",
        "    sp_num = (sp / dt).astype(int) - 1\n",
        "    v[sp_num] += 20  # draw nicer spikes\n",
        "\n",
        "  plt.plot(pars['range_t'], v, 'b')\n",
        "  plt.axhline(V_th, 0, 1, color='k', ls='--')\n",
        "  plt.xlabel('Time (ms)')\n",
        "  plt.ylabel('V (mV)')\n",
        "  plt.legend(['Membrane\\npotential', r'Threshold V$_{\\mathrm{th}}$'],\n",
        "             loc=[1.05, 0.75])\n",
        "  plt.ylim([-80, -40])\n",
        "\n",
        "\n",
        "def plot_GWN(pars, I_GWN):\n",
        "  \"\"\"\n",
        "  Args:\n",
        "    pars  : parameter dictionary\n",
        "    I_GWN : Gaussian white noise input\n",
        "\n",
        "  Returns:\n",
        "    figure of the gaussian white noise input\n",
        "  \"\"\"\n",
        "\n",
        "  plt.figure(figsize=(12, 4))\n",
        "  plt.subplot(121)\n",
        "  plt.plot(pars['range_t'][::3], I_GWN[::3], 'b')\n",
        "  plt.xlabel('Time (ms)')\n",
        "  plt.ylabel(r'$I_{GWN}$ (pA)')\n",
        "  plt.subplot(122)\n",
        "  plot_volt_trace(pars, v, sp)\n",
        "  plt.tight_layout()\n",
        "\n",
        "\n",
        "def my_hists(isi1, isi2, cv1, cv2, sigma1, sigma2):\n",
        "  \"\"\"\n",
        "  Args:\n",
        "    isi1 : vector with inter-spike intervals\n",
        "    isi2 : vector with inter-spike intervals\n",
        "    cv1  : coefficient of variation for isi1\n",
        "    cv2  : coefficient of variation for isi2\n",
        "\n",
        "  Returns:\n",
        "    figure with two histograms, isi1, isi2\n",
        "\n",
        "  \"\"\"\n",
        "  plt.figure(figsize=(11, 4))\n",
        "  my_bins = np.linspace(10, 30, 20)\n",
        "  plt.subplot(121)\n",
        "  plt.hist(isi1, bins=my_bins, color='b', alpha=0.5)\n",
        "  plt.xlabel('ISI (ms)')\n",
        "  plt.ylabel('count')\n",
        "  plt.title(r'$\\sigma_{GWN}=$%.1f, CV$_{\\mathrm{isi}}$=%.3f' % (sigma1, cv1))\n",
        "\n",
        "  plt.subplot(122)\n",
        "  plt.hist(isi2, bins=my_bins, color='b', alpha=0.5)\n",
        "  plt.xlabel('ISI (ms)')\n",
        "  plt.ylabel('count')\n",
        "  plt.title(r'$\\sigma_{GWN}=$%.1f, CV$_{\\mathrm{isi}}$=%.3f' % (sigma2, cv2))\n",
        "  plt.tight_layout()\n",
        "  plt.show()"
      ],
      "execution_count": 12,
      "outputs": []
    },
    {
      "cell_type": "markdown",
      "metadata": {
        "execution": {},
        "id": "TlyrmUTECza4"
      },
      "source": [
        "---\n",
        "# Section 1: The Leaky Integrate-and-Fire (LIF) model"
      ]
    },
    {
      "cell_type": "code",
      "metadata": {
        "cellView": "form",
        "execution": {},
        "id": "rKS-ubBCCza5",
        "outputId": "142a3dc9-8473-45d3-f374-c3f15325bf3d",
        "colab": {
          "base_uri": "https://localhost:8080/",
          "height": 581,
          "referenced_widgets": [
            "133bf6c99b6f4592a3073ba0065e74dd",
            "0556742597214de98c22d27f3c1c3262",
            "66099afb32ba43199d7d74335ec94638",
            "539592aab2714d84aad3497568bf8fb2",
            "fbba334a0ed4426ca5a08d506fde8dae",
            "d6ca67b424e548a1abc921af402779e4"
          ]
        }
      },
      "source": [
        "# @title Video 1: Reduced Neuron Models\n",
        "from ipywidgets import widgets\n",
        "\n",
        "out2 = widgets.Output()\n",
        "with out2:\n",
        "  from IPython.display import IFrame\n",
        "  class BiliVideo(IFrame):\n",
        "      def __init__(self, id, page=1, width=400, height=300, **kwargs):\n",
        "          self.id=id\n",
        "          src = 'https://player.bilibili.com/player.html?bvid={0}&page={1}'.format(id, page)\n",
        "          super(BiliVideo, self).__init__(src, width, height, **kwargs)\n",
        "\n",
        "  video = BiliVideo(id=\"av456396195\", width=854, height=480, fs=1)\n",
        "  print('Video available at https://www.bilibili.com/video/{0}'.format(video.id))\n",
        "  display(video)\n",
        "\n",
        "out1 = widgets.Output()\n",
        "with out1:\n",
        "  from IPython.display import YouTubeVideo\n",
        "  video = YouTubeVideo(id=\"rSExvwCVRYg\", width=854, height=480, fs=1, rel=0)\n",
        "  print('Video available at https://youtube.com/watch?v=' + video.id)\n",
        "  display(video)\n",
        "\n",
        "out = widgets.Tab([out1, out2])\n",
        "out.set_title(0, 'Youtube')\n",
        "out.set_title(1, 'Bilibili')\n",
        "\n",
        "display(out)"
      ],
      "execution_count": 13,
      "outputs": [
        {
          "output_type": "display_data",
          "data": {
            "application/vnd.jupyter.widget-view+json": {
              "model_id": "133bf6c99b6f4592a3073ba0065e74dd",
              "version_minor": 0,
              "version_major": 2
            },
            "text/plain": [
              "Tab(children=(Output(), Output()), _titles={'0': 'Youtube', '1': 'Bilibili'})"
            ]
          },
          "metadata": {
            "tags": []
          }
        }
      ]
    },
    {
      "cell_type": "markdown",
      "metadata": {
        "execution": {},
        "id": "jM1b05W2Cza6"
      },
      "source": [
        "This video introduces the reduction of a biological neuron to a simple leaky-integrate-fire (LIF) neuron model.\n",
        "\n",
        "<details>\n",
        "<summary> <font color='blue'>Click here for text recap of video </font></summary>\n",
        "\n",
        "Now, it's your turn to implement one of the simplest mathematical model of a neuron: the leaky integrate-and-fire (LIF) model. The basic idea of LIF neuron was proposed in 1907 by Louis Édouard Lapicque, long before we understood the electrophysiology of a neuron (see a translation of [Lapicque's paper](https://pubmed.ncbi.nlm.nih.gov/17968583/) ). More details of the model can be found in the book [**Theoretical neuroscience**](http://www.gatsby.ucl.ac.uk/~dayan/book/) by Peter Dayan and Laurence F. Abbott.\n",
        "\n",
        "The subthreshold membrane potential dynamics of a LIF neuron is described by\n",
        "\n",
        "\\begin{eqnarray}\n",
        "C_m\\frac{dV}{dt} = -g_L(V-E_L) + I,\\quad (1)\n",
        "\\end{eqnarray}\n",
        "\n",
        "where $C_m$ is the membrane capacitance, $V$ is the membrane potential, $g_L$ is the leak conductance ($g_L = 1/R$, the inverse of the leak resistance $R$ mentioned in previous tutorials), $E_L$ is the resting potential, and $I$ is the external input current. \n",
        "\n",
        "Dividing both sides of the above equation by $g_L$ gives\n",
        "\n",
        "\\begin{align}\n",
        "\\tau_m\\frac{dV}{dt} = -(V-E_L) + \\frac{I}{g_L}\\,,\\quad (2)\n",
        "\\end{align}\n",
        "\n",
        "where the $\\tau_m$ is membrane time constant and is defined as $\\tau_m=C_m/g_L$. \n",
        "\n",
        "Note that dividing capacitance by conductance gives units of time! \n",
        "\n",
        "Below, we will use Eqn.(2) to simulate LIF neuron dynamics. \n",
        "\n",
        "If $I$ is sufficiently strong such that $V$ reaches a certain threshold value $V_{\\rm th}$, $V$ is reset to a reset potential $V_{\\rm reset}< V_{\\rm th}$, and voltage is clamped to $V_{\\rm reset}$ for $\\tau_{\\rm ref}$ ms, mimicking the refractoriness of the neuron during an action potential:\n",
        "\n",
        "\\begin{eqnarray}\n",
        "\\mathrm{if}\\quad V(t_{\\text{sp}})\\geq V_{\\rm th}&:& V(t)=V_{\\rm reset} \\text{  for } t\\in(t_{\\text{sp}}, t_{\\text{sp}} + \\tau_{\\text{ref}}]\n",
        "\\end{eqnarray}\n",
        "where $t_{\\rm sp}$ is the spike time when $V(t)$ just exceeded $V_{\\rm th}$.\n",
        "\n",
        "(__Note__: in the lecture slides, $\\theta$ corresponds to the threshold voltage $V_{th}$, and $\\Delta$ corresponds to the refractory time $\\tau_{\\rm ref}$.)\n",
        "\n",
        "</details>\n",
        "\n",
        "Note that you have seen the LIF model before if you looked at the pre-reqs Python or Calculus days!\n",
        "\n",
        "The LIF model captures the facts that a neuron:\n",
        "- performs spatial and temporal integration of synaptic inputs \n",
        "- generates a spike when the voltage reaches a certain threshold\n",
        "- goes refractory during the action potential\n",
        "- has a leaky membrane \n",
        "\n",
        "The LIF model assumes that the spatial and temporal integration of inputs is linear. Also, membrane potential dynamics close to the spike threshold are much slower in LIF neurons than in real neurons. \n"
      ]
    },
    {
      "cell_type": "markdown",
      "metadata": {
        "execution": {},
        "id": "zrPLV-COCza8"
      },
      "source": [
        "## Coding Exercise 1: Python code to simulate the LIF neuron\n",
        "\n",
        "We now write Python code to calculate our equation for the LIF neuron and simulate the LIF neuron dynamics. We will use the Euler method, which you saw in the linear systems case yesterday  to numerically integrate this equation:\n",
        "\n",
        "\\begin{align*}\n",
        "\\tau_m\\frac{dV}{dt} = -(V-E_L) + \\frac{I}{g_L}\\,\n",
        "\\end{align*}\n",
        "\n",
        "where $V$ is the membrane potential, $g_L$ is the leak conductance, $E_L$ is the resting potential, $I$ is the external input current, and $\\tau_m$ is membrane time constant.\n",
        "\n",
        "The cell below initializes a dictionary that stores parameters of the LIF neuron model and the simulation scheme. You can use `pars=default_pars(T=simulation_time, dt=time_step)` to get the parameters. Note that, `simulation_time` and `time_step` have the unit `ms`. In addition, you can add the value to a new parameter by `pars['New_param'] = value`."
      ]
    },
    {
      "cell_type": "code",
      "metadata": {
        "cellView": "form",
        "execution": {},
        "id": "ZmoSFhOfCza9",
        "outputId": "209668da-be05-4fef-f18f-4ff775b62b80",
        "colab": {
          "base_uri": "https://localhost:8080/"
        }
      },
      "source": [
        "# @markdown Execute this code to initialize the default parameters\n",
        "\n",
        "\n",
        "def default_pars(**kwargs):\n",
        "  pars = {}\n",
        "\n",
        "  # typical neuron parameters#\n",
        "  pars['V_th'] = -55.     # spike threshold [mV]\n",
        "  pars['V_reset'] = -75.  # reset potential [mV]\n",
        "  pars['tau_m'] = 10.     # membrane time constant [ms]\n",
        "  pars['g_L'] = 10.       # leak conductance [nS]\n",
        "  pars['V_init'] = -75.   # initial potential [mV]\n",
        "  pars['E_L'] = -75.      # leak reversal potential [mV]\n",
        "  pars['tref'] = 2.       # refractory time (ms)\n",
        "\n",
        "  # simulation parameters #\n",
        "  pars['T'] = 400.  # Total duration of simulation [ms]\n",
        "  pars['dt'] = .1   # Simulation time step [ms]\n",
        "\n",
        "  # external parameters if any #\n",
        "  for k in kwargs:\n",
        "    pars[k] = kwargs[k]\n",
        "\n",
        "  pars['range_t'] = np.arange(0, pars['T'], pars['dt'])  # Vector of discretized time points [ms]\n",
        "\n",
        "  return pars\n",
        "\n",
        "\n",
        "pars = default_pars()\n",
        "print(pars)"
      ],
      "execution_count": 14,
      "outputs": [
        {
          "output_type": "stream",
          "text": [
            "{'V_th': -55.0, 'V_reset': -75.0, 'tau_m': 10.0, 'g_L': 10.0, 'V_init': -75.0, 'E_L': -75.0, 'tref': 2.0, 'T': 400.0, 'dt': 0.1, 'range_t': array([0.000e+00, 1.000e-01, 2.000e-01, ..., 3.997e+02, 3.998e+02,\n",
            "       3.999e+02])}\n"
          ],
          "name": "stdout"
        }
      ]
    },
    {
      "cell_type": "markdown",
      "metadata": {
        "execution": {},
        "id": "tFBPIaVTCza9"
      },
      "source": [
        "Complete the function below to simulate the LIF neuron when receiving external current inputs. You can use `v, sp = run_LIF(pars, Iinj)` to get the membrane potential (`v`) and spike train (`sp`) given the dictionary `pars` and input current `Iinj`. "
      ]
    },
    {
      "cell_type": "code",
      "metadata": {
        "cellView": "both",
        "execution": {},
        "id": "IeZwMWtGCza-",
        "outputId": "da21fc8f-70f6-45b8-a61e-c9af101a83ce",
        "colab": {
          "base_uri": "https://localhost:8080/",
          "height": 430
        }
      },
      "source": [
        "def run_LIF(pars, Iinj, stop=False):\n",
        "  \"\"\"\n",
        "  Simulate the LIF dynamics with external input current\n",
        "\n",
        "  Args:\n",
        "    pars       : parameter dictionary\n",
        "    Iinj       : input current [pA]. The injected current here can be a value\n",
        "                 or an array\n",
        "    stop       : boolean. If True, use a current pulse\n",
        "\n",
        "  Returns:\n",
        "    rec_v      : membrane potential\n",
        "    rec_sp     : spike times\n",
        "  \"\"\"\n",
        "\n",
        "  # Set parameters\n",
        "  V_th, V_reset = pars['V_th'], pars['V_reset']\n",
        "  tau_m, g_L = pars['tau_m'], pars['g_L']\n",
        "  V_init, E_L = pars['V_init'], pars['E_L']\n",
        "  dt, range_t = pars['dt'], pars['range_t']\n",
        "  Lt = range_t.size\n",
        "  tref = pars['tref']\n",
        "\n",
        "  # Initialize voltage\n",
        "  v = np.zeros(Lt)\n",
        "  v[0] = V_init\n",
        "\n",
        "  # Set current time course\n",
        "  Iinj = Iinj * np.ones(Lt)\n",
        "\n",
        "  # If current pulse, set beginning and end to 0\n",
        "  if stop:\n",
        "    Iinj[:int(len(Iinj) / 2) - 1000] = 0\n",
        "    Iinj[int(len(Iinj) / 2) + 1000:] = 0\n",
        "\n",
        "  # Loop over time\n",
        "  rec_spikes = []  # record spike times\n",
        "  tr = 0.  # the count for refractory duration\n",
        "\n",
        "  for it in range(Lt - 1):\n",
        "\n",
        "    if tr > 0:  # check if in refractory period\n",
        "      v[it] = V_reset  # set voltage to reset\n",
        "      tr = tr - 1 # reduce running counter of refractory period\n",
        "\n",
        "    elif v[it] >= V_th:  # if voltage over threshold\n",
        "      rec_spikes.append(it)  # record spike event\n",
        "      v[it] = V_reset  # reset voltage\n",
        "      tr = tref / dt  # set refractory time\n",
        "\n",
        "    ########################################################################\n",
        "    ## TODO for students: compute the membrane potential v, spike train sp #\n",
        "    # Fill out function and remove\n",
        "    #raise NotImplementedError('Student Exercise: calculate the dv/dt and the update step!')\n",
        "    ########################################################################\n",
        "\n",
        "    # Calculate the increment of the membrane potential\n",
        "    dv = (-(v[it] - E_L) + Iinj[it] / g_L) * (dt / tau_m)\n",
        "    # Update the membrane potential\n",
        "    v[it + 1] = v[it]+dv\n",
        "\n",
        "  # Get spike times in ms\n",
        "  rec_spikes = np.array(rec_spikes) * dt\n",
        "\n",
        "  return v, rec_spikes\n",
        "\n",
        "\n",
        "# Get parameters\n",
        "pars = default_pars(T=500)\n",
        "\n",
        "# Simulate LIF model\n",
        "v, sp = run_LIF(pars, Iinj=100, stop=True)\n",
        "\n",
        "# Visualize\n",
        "plot_volt_trace(pars, v, sp)"
      ],
      "execution_count": 16,
      "outputs": [
        {
          "output_type": "display_data",
          "data": {
            "image/png": "[encoded data removed]",
            "text/plain": [
              "<Figure size 576x432 with 1 Axes>"
            ]
          },
          "metadata": {
            "tags": [],
            "image/png": {
              "width": 558,
              "height": 414
            },
            "needs_background": "light"
          }
        }
      ]
    },
    {
      "cell_type": "markdown",
      "metadata": {
        "execution": {},
        "id": "d9-iUvlDCzbA"
      },
      "source": [
        "[*Click for solution*](https://github.com/NeuromatchAcademy/course-content/tree/master//tutorials/W2D3_BiologicalNeuronModels/solutions/W2D3_Tutorial1_Solution_60a1e954.py)\n",
        "\n",
        "*Example output:*\n",
        "\n",
        "<img alt='Solution hint' align='left' width=1106.0 height=828.0 src=https://raw.githubusercontent.com/NeuromatchAcademy/course-content/master/tutorials/W2D3_BiologicalNeuronModels/static/W2D3_Tutorial1_Solution_60a1e954_0.png>\n",
        "\n"
      ]
    },
    {
      "cell_type": "markdown",
      "metadata": {
        "execution": {},
        "id": "03VwgjQyCzbB"
      },
      "source": [
        "---\n",
        "# Section 2: Response of an LIF model to different types of input currents\n",
        "\n",
        "*Estimated timing to here from start of tutorial: 20 min*\n",
        "\n",
        "In the following section, we will learn how to inject direct current and white noise to study the response of an LIF neuron."
      ]
    },
    {
      "cell_type": "code",
      "metadata": {
        "cellView": "form",
        "execution": {},
        "id": "EbGhdQf7CzbB",
        "outputId": "2b77bc7e-f509-4899-a34c-76a8b9d68289",
        "colab": {
          "base_uri": "https://localhost:8080/",
          "height": 581,
          "referenced_widgets": [
            "4ce53c8f15844370b54cf87060394f6a",
            "8e7ff28a281042ba86b84e9bf50658af",
            "a8c7eb8ca2954ac28ff2c3c66bf731bd",
            "87730e9c35ba4b478b8a7eccfdc9a134",
            "04154c89697b4a478db98acb7c29995d",
            "f6ca85627238402ab26d4ff835b06663"
          ]
        }
      },
      "source": [
        "# @title Video 2: Response of the LIF neuron to different inputs\n",
        "from ipywidgets import widgets\n",
        "\n",
        "out2 = widgets.Output()\n",
        "with out2:\n",
        "  from IPython.display import IFrame\n",
        "  class BiliVideo(IFrame):\n",
        "      def __init__(self, id, page=1, width=400, height=300, **kwargs):\n",
        "          self.id=id\n",
        "          src = 'https://player.bilibili.com/player.html?bvid={0}&page={1}'.format(id, page)\n",
        "          super(BiliVideo, self).__init__(src, width, height, **kwargs)\n",
        "\n",
        "  video = BiliVideo(id=\"av541417171\", width=854, height=480, fs=1)\n",
        "  print('Video available at https://www.bilibili.com/video/{0}'.format(video.id))\n",
        "  display(video)\n",
        "\n",
        "out1 = widgets.Output()\n",
        "with out1:\n",
        "  from IPython.display import YouTubeVideo\n",
        "  video = YouTubeVideo(id=\"preNGdab7Kk\", width=854, height=480, fs=1, rel=0)\n",
        "  print('Video available at https://youtube.com/watch?v=' + video.id)\n",
        "  display(video)\n",
        "\n",
        "out = widgets.Tab([out1, out2])\n",
        "out.set_title(0, 'Youtube')\n",
        "out.set_title(1, 'Bilibili')\n",
        "\n",
        "display(out)"
      ],
      "execution_count": 17,
      "outputs": [
        {
          "output_type": "display_data",
          "data": {
            "application/vnd.jupyter.widget-view+json": {
              "model_id": "4ce53c8f15844370b54cf87060394f6a",
              "version_minor": 0,
              "version_major": 2
            },
            "text/plain": [
              "Tab(children=(Output(), Output()), _titles={'0': 'Youtube', '1': 'Bilibili'})"
            ]
          },
          "metadata": {
            "tags": []
          }
        }
      ]
    },
    {
      "cell_type": "markdown",
      "metadata": {
        "execution": {},
        "id": "T6NQRNTPCzbB"
      },
      "source": [
        "## Section 2.1: Direct current (DC)\n",
        "\n",
        "*Estimated timing to here from start of tutorial: 30 min*\n"
      ]
    },
    {
      "cell_type": "markdown",
      "metadata": {
        "execution": {},
        "id": "nb8FTdb1CzbC"
      },
      "source": [
        "### Interactive Demo 2.1: Parameter exploration of DC input amplitude \n",
        "Here's an interactive demo that shows how the LIF neuron behavior changes for DC input (constant current) with different amplitudes. We plot the membrane potential of an LIF neuron. You may notice that the neuron generates a spike. But this is just a cosmetic spike only for illustration purposes. In an LIF neuron, we only need to keep track of times when the neuron hit the threshold so the postsynaptic neurons can be informed of the spike. \n",
        "\n",
        "How much DC is needed to reach the threshold (rheobase current)? How does the membrane time constant affect the frequency of the neuron?"
      ]
    },
    {
      "cell_type": "code",
      "metadata": {
        "cellView": "form",
        "execution": {},
        "id": "OV9AV-X0CzbC",
        "outputId": "70900d6c-78c8-40aa-ac2c-3ab990dbf6cd",
        "colab": {
          "base_uri": "https://localhost:8080/",
          "height": 494,
          "referenced_widgets": [
            "cfcc45359f73468d8061986ecd01319f",
            "b412837df2f540bbb98bf097f0aabcc7",
            "4a4a9318f2d24798a48208fed93cd275",
            "818d1a3ff015456ba2e28c48de510fb7",
            "5c683035ced344da8d01106b1a83200f",
            "f49b2bdeb0384a9daffd063ce7b98007",
            "52b55498e57d47e0a82c8daecdb7a5a5",
            "512839a5ac7e46a48248ac9c6d53324f",
            "b46b72735408474b873a9aab8a0bb38c"
          ]
        }
      },
      "source": [
        "# @title\n",
        "# @markdown Make sure you execute this cell to enable the widget!\n",
        "my_layout.width = '450px'\n",
        "@widgets.interact(\n",
        "    I_dc=widgets.FloatSlider(50., min=0., max=300., step=10.,\n",
        "                               layout=my_layout),\n",
        "    tau_m=widgets.FloatSlider(10., min=2., max=20., step=2.,\n",
        "                                layout=my_layout)\n",
        ")\n",
        "\n",
        "def diff_DC(I_dc=200., tau_m=10.):\n",
        "  pars = default_pars(T=100.)\n",
        "  pars['tau_m'] = tau_m\n",
        "  v, sp = run_LIF(pars, Iinj=I_dc)\n",
        "  plot_volt_trace(pars, v, sp)\n",
        "  plt.show()"
      ],
      "execution_count": 18,
      "outputs": [
        {
          "output_type": "display_data",
          "data": {
            "application/vnd.jupyter.widget-view+json": {
              "model_id": "cfcc45359f73468d8061986ecd01319f",
              "version_minor": 0,
              "version_major": 2
            },
            "text/plain": [
              "interactive(children=(FloatSlider(value=50.0, description='I_dc', layout=Layout(width='450px'), max=300.0, ste…"
            ]
          },
          "metadata": {
            "tags": []
          }
        }
      ]
    },
    {
      "cell_type": "markdown",
      "metadata": {
        "execution": {},
        "id": "F45RAckCCzbC"
      },
      "source": [
        "[*Click for solution*](https://github.com/NeuromatchAcademy/course-content/tree/master//tutorials/W2D3_BiologicalNeuronModels/solutions/W2D3_Tutorial1_Solution_1058324c.py)\n",
        "\n"
      ]
    },
    {
      "cell_type": "markdown",
      "metadata": {
        "execution": {},
        "id": "HontVEqlCzbD"
      },
      "source": [
        "## Section 2.2: Gaussian white noise (GWN) current \n",
        "\n",
        "*Estimated timing to here from start of tutorial: 38 min*\n",
        "\n",
        "Given the noisy nature of neuronal activity _in vivo_, neurons usually receive complex, time-varying inputs.\n",
        "\n",
        "To mimic this, we will now investigate the neuronal response when the LIF neuron receives Gaussian white noise $\\xi(t)$ with mean 0 ($\\mu = 0$) and some standard deviation $\\sigma$.\n",
        "\n",
        "Note that the GWN has zero mean, that is, it describes only the fluctuations of the input received by a neuron. We can thus modify our definition of GWN to have a nonzero mean value $\\mu$ that equals the DC input, since this is the average input into the cell. The cell below defines the modified gaussian white noise currents with nonzero mean $\\mu$."
      ]
    },
    {
      "cell_type": "markdown",
      "metadata": {
        "execution": {},
        "id": "7ZYc7dvvCzbD"
      },
      "source": [
        "### Interactive Demo 2.2: LIF neuron Explorer for noisy input\n",
        "\n",
        "\n",
        "The mean of the Gaussian white noise (GWN) is the amplitude of DC. Indeed, when $\\sigma = 0$, GWN is just a DC.\n",
        "\n",
        "So the question arises how does $\\sigma$ of the GWN affect the spiking behavior of the neuron. For instance we may want to know\n",
        "1.  how does the minimum input (i.e. $\\mu$) needed to make a neuron spike change with increase in $\\sigma$\n",
        "2.  how does the spike regularity change with increase in $\\sigma$\n",
        "\n",
        "To get an intuition about these questions you can use the following interactive demo that shows how the LIF neuron behavior changes for noisy input with different amplitudes (the mean $\\mu$) and fluctuation sizes ($\\sigma$). We use a helper function to generate this noisy input current: `my_GWN(pars, mu, sig, myseed=False)`.  Note that fixing the value of the random seed (e.g., `myseed=2020`) will allow you to obtain the same result every time you run this. We then use our `run_LIF` function to simulate the LIF model.\n"
      ]
    },
    {
      "cell_type": "code",
      "metadata": {
        "cellView": "form",
        "execution": {},
        "id": "Oh9dNC8_CzbD",
        "outputId": "d1e6814e-066c-4cf7-f132-1d02d011bf52",
        "colab": {
          "base_uri": "https://localhost:8080/"
        }
      },
      "source": [
        "# @markdown Execute to enable helper function `my_GWN`\n",
        "\n",
        "def my_GWN(pars, mu, sig, myseed=False):\n",
        "  \"\"\"\n",
        "  Function that generates Gaussian white noise input\n",
        "\n",
        "  Args:\n",
        "    pars       : parameter dictionary\n",
        "    mu         : noise baseline (mean)\n",
        "    sig        : noise amplitute (standard deviation)\n",
        "    myseed     : random seed. int or boolean\n",
        "                 the same seed will give the same\n",
        "                 random number sequence\n",
        "\n",
        "  Returns:\n",
        "    I          : Gaussian white noise input\n",
        "  \"\"\"\n",
        "\n",
        "  # Retrieve simulation parameters\n",
        "  dt, range_t = pars['dt'], pars['range_t']\n",
        "  Lt = range_t.size\n",
        "\n",
        "  # Set random seed\n",
        "  if myseed:\n",
        "      np.random.seed(seed=myseed)\n",
        "  else:\n",
        "      np.random.seed()\n",
        "\n",
        "  # Generate GWN\n",
        "  # we divide here by 1000 to convert units to sec.\n",
        "  I_gwn = mu + sig * np.random.randn(Lt) / np.sqrt(dt / 1000.)\n",
        "\n",
        "  return I_gwn\n",
        "\n",
        "help(my_GWN)"
      ],
      "execution_count": 19,
      "outputs": [
        {
          "output_type": "stream",
          "text": [
            "Help on function my_GWN in module __main__:\n",
            "\n",
            "my_GWN(pars, mu, sig, myseed=False)\n",
            "    Function that generates Gaussian white noise input\n",
            "    \n",
            "    Args:\n",
            "      pars       : parameter dictionary\n",
            "      mu         : noise baseline (mean)\n",
            "      sig        : noise amplitute (standard deviation)\n",
            "      myseed     : random seed. int or boolean\n",
            "                   the same seed will give the same\n",
            "                   random number sequence\n",
            "    \n",
            "    Returns:\n",
            "      I          : Gaussian white noise input\n",
            "\n"
          ],
          "name": "stdout"
        }
      ]
    },
    {
      "cell_type": "code",
      "metadata": {
        "cellView": "form",
        "execution": {},
        "id": "SPz9Mew5CzbE",
        "outputId": "8b66613a-441b-48af-eebf-256b12315611",
        "colab": {
          "base_uri": "https://localhost:8080/",
          "height": 350,
          "referenced_widgets": [
            "2803025392244ae6968a1868ffaea546",
            "f749034938bd44a5bdf43777acd4d0e3",
            "e0af77eb95b3420291e344b68878f6f1",
            "d047a54d261e442cbd6bd308aaf9e57b",
            "f815bc90ef8149aeb6eb2370ae258074",
            "018dc7be116b4a8fa7201298ad4d5693",
            "52b55498e57d47e0a82c8daecdb7a5a5",
            "c4db569cf35e4a78b314977251bf1026",
            "1cd3c8d40f5249969a74ccd14fcc0c20"
          ]
        }
      },
      "source": [
        "# @title\n",
        "\n",
        "# @markdown Make sure you execute this cell to enable the widget!\n",
        "\n",
        "my_layout.width = '450px'\n",
        "@widgets.interact(\n",
        "    mu_gwn=widgets.FloatSlider(200., min=100., max=300., step=5.,\n",
        "                               layout=my_layout),\n",
        "    sig_gwn=widgets.FloatSlider(2.5, min=0., max=5., step=.5,\n",
        "                                layout=my_layout)\n",
        ")\n",
        "\n",
        "\n",
        "def diff_GWN_to_LIF(mu_gwn, sig_gwn):\n",
        "  pars = default_pars(T=100.)\n",
        "  I_GWN = my_GWN(pars, mu=mu_gwn, sig=sig_gwn)\n",
        "  v, sp = run_LIF(pars, Iinj=I_GWN)\n",
        "  plt.figure(figsize=(12, 4))\n",
        "  plt.subplot(121)\n",
        "  plt.plot(pars['range_t'][::3], I_GWN[::3], 'b')\n",
        "  plt.xlabel('Time (ms)')\n",
        "  plt.ylabel(r'$I_{GWN}$ (pA)')\n",
        "  plt.subplot(122)\n",
        "  plot_volt_trace(pars, v, sp)\n",
        "  plt.tight_layout()\n",
        "  plt.show()"
      ],
      "execution_count": 20,
      "outputs": [
        {
          "output_type": "display_data",
          "data": {
            "application/vnd.jupyter.widget-view+json": {
              "model_id": "2803025392244ae6968a1868ffaea546",
              "version_minor": 0,
              "version_major": 2
            },
            "text/plain": [
              "interactive(children=(FloatSlider(value=200.0, description='mu_gwn', layout=Layout(width='450px'), max=300.0, …"
            ]
          },
          "metadata": {
            "tags": []
          }
        }
      ]
    },
    {
      "cell_type": "markdown",
      "metadata": {
        "execution": {},
        "id": "4XV0JaTACzbE"
      },
      "source": [
        "[*Click for solution*](https://github.com/NeuromatchAcademy/course-content/tree/master//tutorials/W2D3_BiologicalNeuronModels/solutions/W2D3_Tutorial1_Solution_2de5d8a9.py)\n",
        "\n"
      ]
    },
    {
      "cell_type": "markdown",
      "metadata": {
        "execution": {},
        "id": "jiszin64CzbE"
      },
      "source": [
        "### Think! 2.2: Analyzing GWN Effects on Spiking\n",
        "- As we increase the input average ($\\mu$) or the input fluctuation ($\\sigma$), the spike count changes. How much can we increase the spike count, and what might be the relationship between GWN mean/std or DC value and spike count? \n",
        "\n",
        "- We have seen above that when we inject DC, the neuron spikes in a regular manner (clock like), and this regularity is reduced when GWN is injected. The question is, how irregular can we make the neurons spiking by changing the parameters of the GWN? \n",
        "\n",
        "We will see the answers to these questions in the next section but discuss first!\n"
      ]
    },
    {
      "cell_type": "markdown",
      "metadata": {
        "execution": {},
        "id": "UEXsjJ-NCzbF"
      },
      "source": [
        "---\n",
        "# Section 3: Firing rate and spike time irregularity\n",
        "\n",
        "*Estimated timing to here from start of tutorial: 48 min*\n",
        "\n",
        "When we plot the output firing rate as a function of GWN mean or DC value, it is called the input-output transfer function of the neuron (so simply F-I curve).\n",
        "\n",
        "Spike regularity can be quantified as the **coefficient of variation (CV) of the inter-spike-interval (ISI)**:\n",
        "\\begin{align}\n",
        "\\text{CV}_{\\text{ISI}} = \\frac{std(\\text{ISI})}{mean(\\text{ISI})}\n",
        "\\end{align}\n",
        "\n",
        "A Poisson train is an example of high irregularity, in which $\\textbf{CV}_{\\textbf{ISI}} \\textbf{= 1}$. And for a clocklike (regular) process we have $\\textbf{CV}_{\\textbf{ISI}} \\textbf{= 0}$ because of **std(ISI)=0**."
      ]
    },
    {
      "cell_type": "markdown",
      "metadata": {
        "execution": {},
        "id": "qDvYBUk3CzbF"
      },
      "source": [
        "## Interactive Demo 3A: F-I Explorer for different `sig_gwn`\n",
        "\n",
        "How does the F-I curve of the LIF neuron change as we increase the $\\sigma$ of the GWN? We can already expect that the F-I curve will be stochastic and the results will vary from one trial to another. But will there be any other change compared to the F-I curved measured using DC?\n",
        "\n",
        "Here's an interactive demo that shows how the F-I curve of a LIF neuron changes for different levels of fluctuation $\\sigma$.\n"
      ]
    },
    {
      "cell_type": "code",
      "metadata": {
        "cellView": "form",
        "execution": {},
        "id": "rF3hulLqCzbF",
        "outputId": "821bfc76-d933-43c2-af6b-dbaf02fea663",
        "colab": {
          "base_uri": "https://localhost:8080/",
          "height": 462,
          "referenced_widgets": [
            "0c37df96b68846a6b5ff6c273ccb4870",
            "c868249839e24f90a4a4ff4b47c1bb96",
            "73dac0c29b5d4d18b6ecf77a358b357e",
            "c7e094e33e714dc9a513a568bcd88b93",
            "408eed0a5886487b8e945ff5190f00f1",
            "52b55498e57d47e0a82c8daecdb7a5a5",
            "9438e74ec24947f5a26fac24121d6484"
          ]
        }
      },
      "source": [
        "# @title\n",
        "\n",
        "# @markdown Make sure you execute this cell to enable the widget!\n",
        "\n",
        "\n",
        "my_layout.width = '450px'\n",
        "@widgets.interact(\n",
        "    sig_gwn=widgets.FloatSlider(3.0, min=0., max=6., step=0.5,\n",
        "                                layout=my_layout)\n",
        ")\n",
        "\n",
        "\n",
        "def diff_std_affect_fI(sig_gwn):\n",
        "  pars = default_pars(T=1000.)\n",
        "  I_mean = np.arange(100., 400., 10.)\n",
        "  spk_count = np.zeros(len(I_mean))\n",
        "  spk_count_dc = np.zeros(len(I_mean))\n",
        "\n",
        "  for idx in range(len(I_mean)):\n",
        "      I_GWN = my_GWN(pars, mu=I_mean[idx], sig=sig_gwn, myseed=2020)\n",
        "      v, rec_spikes = run_LIF(pars, Iinj=I_GWN)\n",
        "      v_dc, rec_sp_dc = run_LIF(pars, Iinj=I_mean[idx])\n",
        "      spk_count[idx] = len(rec_spikes)\n",
        "      spk_count_dc[idx] = len(rec_sp_dc)\n",
        "\n",
        "  # Plot the F-I curve i.e. Output firing rate as a function of input mean.\n",
        "  plt.figure()\n",
        "  plt.plot(I_mean, spk_count, 'k',\n",
        "           label=r'$\\sigma_{\\mathrm{GWN}}=%.2f$' % sig_gwn)\n",
        "  plt.plot(I_mean, spk_count_dc, 'k--', alpha=0.5, lw=4, dashes=(2, 2),\n",
        "           label='DC input')\n",
        "  plt.ylabel('Spike count')\n",
        "  plt.xlabel('Average injected current (pA)')\n",
        "  plt.legend(loc='best')\n",
        "  plt.show()"
      ],
      "execution_count": 22,
      "outputs": [
        {
          "output_type": "display_data",
          "data": {
            "application/vnd.jupyter.widget-view+json": {
              "model_id": "0c37df96b68846a6b5ff6c273ccb4870",
              "version_minor": 0,
              "version_major": 2
            },
            "text/plain": [
              "interactive(children=(FloatSlider(value=3.0, description='sig_gwn', layout=Layout(width='450px'), max=6.0, ste…"
            ]
          },
          "metadata": {
            "tags": []
          }
        }
      ]
    },
    {
      "cell_type": "markdown",
      "metadata": {
        "execution": {},
        "id": "kvFJVP9ACzbG"
      },
      "source": [
        "[*Click for solution*](https://github.com/NeuromatchAcademy/course-content/tree/master//tutorials/W2D3_BiologicalNeuronModels/solutions/W2D3_Tutorial1_Solution_eba2370f.py)\n",
        "\n"
      ]
    },
    {
      "cell_type": "markdown",
      "metadata": {
        "execution": {},
        "id": "I0pNE_hJCzbG"
      },
      "source": [
        "## Coding Exercise 3: Compute $CV_{ISI}$ values\n",
        "\n",
        "As shown above, the F-I curve becomes smoother while increasing the amplitude of the fluctuation ($\\sigma$). In addition, the fluctuation can also change the irregularity of the spikes. Let's investigate the effect of $\\mu=250$ with $\\sigma=0.5$ vs $\\sigma=3$. \n",
        "\n",
        "Fill in the code below to compute ISI, then plot the histogram of the ISI and compute the $CV_{ISI}$. Note that, you can use `np.diff` to calculate ISI."
      ]
    },
    {
      "cell_type": "code",
      "metadata": {
        "execution": {},
        "id": "rdQFsShbCzbG",
        "outputId": "dc4207c5-6008-477b-d060-bc190d250575",
        "colab": {
          "base_uri": "https://localhost:8080/",
          "height": 286
        }
      },
      "source": [
        "def isi_cv_LIF(spike_times):\n",
        "  \"\"\"\n",
        "  Calculates the inter-spike intervals (isi) and\n",
        "  the coefficient of variation (cv) for a given spike_train\n",
        "\n",
        "  Args:\n",
        "    spike_times : (n, ) vector with the spike times (ndarray)\n",
        "\n",
        "  Returns:\n",
        "    isi         : (n-1,) vector with the inter-spike intervals (ms)\n",
        "    cv          : coefficient of variation of isi (float)\n",
        "\n",
        "  \"\"\"\n",
        "  ########################################################################\n",
        "  ## TODO for students: compute the membrane potential v, spike train sp #\n",
        "  # Fill out function and remove\n",
        "  #raise NotImplementedError('Student Exercise: calculate the isi and the cv!')\n",
        "  ########################################################################\n",
        "  if len(spike_times) >= 2:\n",
        "    # Compute isi\n",
        "    isi =np.diff(spike_times)\n",
        "    # Compute cv\n",
        "    cv = np.std(isi)/np.mean(isi)\n",
        "  else:\n",
        "    isi = np.nan\n",
        "    cv = np.nan\n",
        "\n",
        "  return isi, cv\n",
        "\n",
        "\n",
        "# Set parameters\n",
        "pars = default_pars(T=1000.)\n",
        "mu_gwn = 250\n",
        "sig_gwn1 = 0.5\n",
        "sig_gwn2 = 3.0\n",
        "\n",
        "# Run LIF model for sigma = 0.5\n",
        "I_GWN1 = my_GWN(pars, mu=mu_gwn, sig=sig_gwn1, myseed=2020)\n",
        "_, sp1 = run_LIF(pars, Iinj=I_GWN1)\n",
        "\n",
        "# Run LIF model for sigma = 3\n",
        "I_GWN2 = my_GWN(pars, mu=mu_gwn, sig=sig_gwn2, myseed=2020)\n",
        "_, sp2 = run_LIF(pars, Iinj=I_GWN2)\n",
        "\n",
        "# Compute ISIs/CV\n",
        "isi1, cv1 = isi_cv_LIF(sp1)\n",
        "isi2, cv2 = isi_cv_LIF(sp2)\n",
        "\n",
        "# Visualize\n",
        "my_hists(isi1, isi2, cv1, cv2, sig_gwn1, sig_gwn2)"
      ],
      "execution_count": 28,
      "outputs": [
        {
          "output_type": "display_data",
          "data": {
            "image/png": "[encoded data removed]",
            "text/plain": [
              "<Figure size 792x288 with 2 Axes>"
            ]
          },
          "metadata": {
            "tags": [],
            "image/png": {
              "width": 773,
              "height": 269
            },
            "needs_background": "light"
          }
        }
      ]
    },
    {
      "cell_type": "code",
      "metadata": {
        "id": "b0mtgqslPnFw",
        "outputId": "652a8a89-88f6-43c7-9090-599d6c3cc783",
        "colab": {
          "base_uri": "https://localhost:8080/",
          "height": 724
        }
      },
      "source": [
        ""
      ],
      "execution_count": 26,
      "outputs": [
        {
          "output_type": "error",
          "ename": "ValueError",
          "evalue": "ignored",
          "traceback": [
            "\u001b[0;31m---------------------------------------------------------------------------\u001b[0m",
            "\u001b[0;31mValueError\u001b[0m                                Traceback (most recent call last)",
            "\u001b[0;32m<ipython-input-26-493cda74ed13>\u001b[0m in \u001b[0;36m<module>\u001b[0;34m()\u001b[0m\n\u001b[0;32m----> 1\u001b[0;31m \u001b[0mplt\u001b[0m\u001b[0;34m.\u001b[0m\u001b[0mplot\u001b[0m\u001b[0;34m(\u001b[0m\u001b[0mmu_gwn\u001b[0m\u001b[0;34m,\u001b[0m\u001b[0misi1\u001b[0m\u001b[0;34m)\u001b[0m\u001b[0;34m\u001b[0m\u001b[0;34m\u001b[0m\u001b[0m\n\u001b[0m",
            "\u001b[0;32m/usr/local/lib/python3.7/dist-packages/matplotlib/pyplot.py\u001b[0m in \u001b[0;36mplot\u001b[0;34m(scalex, scaley, data, *args, **kwargs)\u001b[0m\n\u001b[1;32m   2761\u001b[0m     return gca().plot(\n\u001b[1;32m   2762\u001b[0m         *args, scalex=scalex, scaley=scaley, **({\"data\": data} if data\n\u001b[0;32m-> 2763\u001b[0;31m         is not None else {}), **kwargs)\n\u001b[0m\u001b[1;32m   2764\u001b[0m \u001b[0;34m\u001b[0m\u001b[0m\n\u001b[1;32m   2765\u001b[0m \u001b[0;34m\u001b[0m\u001b[0m\n",
            "\u001b[0;32m/usr/local/lib/python3.7/dist-packages/matplotlib/axes/_axes.py\u001b[0m in \u001b[0;36mplot\u001b[0;34m(self, scalex, scaley, data, *args, **kwargs)\u001b[0m\n\u001b[1;32m   1645\u001b[0m         \"\"\"\n\u001b[1;32m   1646\u001b[0m         \u001b[0mkwargs\u001b[0m \u001b[0;34m=\u001b[0m \u001b[0mcbook\u001b[0m\u001b[0;34m.\u001b[0m\u001b[0mnormalize_kwargs\u001b[0m\u001b[0;34m(\u001b[0m\u001b[0mkwargs\u001b[0m\u001b[0;34m,\u001b[0m \u001b[0mmlines\u001b[0m\u001b[0;34m.\u001b[0m\u001b[0mLine2D\u001b[0m\u001b[0;34m)\u001b[0m\u001b[0;34m\u001b[0m\u001b[0;34m\u001b[0m\u001b[0m\n\u001b[0;32m-> 1647\u001b[0;31m         \u001b[0mlines\u001b[0m \u001b[0;34m=\u001b[0m \u001b[0;34m[\u001b[0m\u001b[0;34m*\u001b[0m\u001b[0mself\u001b[0m\u001b[0;34m.\u001b[0m\u001b[0m_get_lines\u001b[0m\u001b[0;34m(\u001b[0m\u001b[0;34m*\u001b[0m\u001b[0margs\u001b[0m\u001b[0;34m,\u001b[0m \u001b[0mdata\u001b[0m\u001b[0;34m=\u001b[0m\u001b[0mdata\u001b[0m\u001b[0;34m,\u001b[0m \u001b[0;34m**\u001b[0m\u001b[0mkwargs\u001b[0m\u001b[0;34m)\u001b[0m\u001b[0;34m]\u001b[0m\u001b[0;34m\u001b[0m\u001b[0;34m\u001b[0m\u001b[0m\n\u001b[0m\u001b[1;32m   1648\u001b[0m         \u001b[0;32mfor\u001b[0m \u001b[0mline\u001b[0m \u001b[0;32min\u001b[0m \u001b[0mlines\u001b[0m\u001b[0;34m:\u001b[0m\u001b[0;34m\u001b[0m\u001b[0;34m\u001b[0m\u001b[0m\n\u001b[1;32m   1649\u001b[0m             \u001b[0mself\u001b[0m\u001b[0;34m.\u001b[0m\u001b[0madd_line\u001b[0m\u001b[0;34m(\u001b[0m\u001b[0mline\u001b[0m\u001b[0;34m)\u001b[0m\u001b[0;34m\u001b[0m\u001b[0;34m\u001b[0m\u001b[0m\n",
            "\u001b[0;32m/usr/local/lib/python3.7/dist-packages/matplotlib/axes/_base.py\u001b[0m in \u001b[0;36m__call__\u001b[0;34m(self, *args, **kwargs)\u001b[0m\n\u001b[1;32m    214\u001b[0m                 \u001b[0mthis\u001b[0m \u001b[0;34m+=\u001b[0m \u001b[0margs\u001b[0m\u001b[0;34m[\u001b[0m\u001b[0;36m0\u001b[0m\u001b[0;34m]\u001b[0m\u001b[0;34m,\u001b[0m\u001b[0;34m\u001b[0m\u001b[0;34m\u001b[0m\u001b[0m\n\u001b[1;32m    215\u001b[0m                 \u001b[0margs\u001b[0m \u001b[0;34m=\u001b[0m \u001b[0margs\u001b[0m\u001b[0;34m[\u001b[0m\u001b[0;36m1\u001b[0m\u001b[0;34m:\u001b[0m\u001b[0;34m]\u001b[0m\u001b[0;34m\u001b[0m\u001b[0;34m\u001b[0m\u001b[0m\n\u001b[0;32m--> 216\u001b[0;31m             \u001b[0;32myield\u001b[0m \u001b[0;32mfrom\u001b[0m \u001b[0mself\u001b[0m\u001b[0;34m.\u001b[0m\u001b[0m_plot_args\u001b[0m\u001b[0;34m(\u001b[0m\u001b[0mthis\u001b[0m\u001b[0;34m,\u001b[0m \u001b[0mkwargs\u001b[0m\u001b[0;34m)\u001b[0m\u001b[0;34m\u001b[0m\u001b[0;34m\u001b[0m\u001b[0m\n\u001b[0m\u001b[1;32m    217\u001b[0m \u001b[0;34m\u001b[0m\u001b[0m\n\u001b[1;32m    218\u001b[0m     \u001b[0;32mdef\u001b[0m \u001b[0mget_next_color\u001b[0m\u001b[0;34m(\u001b[0m\u001b[0mself\u001b[0m\u001b[0;34m)\u001b[0m\u001b[0;34m:\u001b[0m\u001b[0;34m\u001b[0m\u001b[0;34m\u001b[0m\u001b[0m\n",
            "\u001b[0;32m/usr/local/lib/python3.7/dist-packages/matplotlib/axes/_base.py\u001b[0m in \u001b[0;36m_plot_args\u001b[0;34m(self, tup, kwargs)\u001b[0m\n\u001b[1;32m    340\u001b[0m \u001b[0;34m\u001b[0m\u001b[0m\n\u001b[1;32m    341\u001b[0m         \u001b[0;32mif\u001b[0m \u001b[0mx\u001b[0m\u001b[0;34m.\u001b[0m\u001b[0mshape\u001b[0m\u001b[0;34m[\u001b[0m\u001b[0;36m0\u001b[0m\u001b[0;34m]\u001b[0m \u001b[0;34m!=\u001b[0m \u001b[0my\u001b[0m\u001b[0;34m.\u001b[0m\u001b[0mshape\u001b[0m\u001b[0;34m[\u001b[0m\u001b[0;36m0\u001b[0m\u001b[0;34m]\u001b[0m\u001b[0;34m:\u001b[0m\u001b[0;34m\u001b[0m\u001b[0;34m\u001b[0m\u001b[0m\n\u001b[0;32m--> 342\u001b[0;31m             raise ValueError(f\"x and y must have same first dimension, but \"\n\u001b[0m\u001b[1;32m    343\u001b[0m                              f\"have shapes {x.shape} and {y.shape}\")\n\u001b[1;32m    344\u001b[0m         \u001b[0;32mif\u001b[0m \u001b[0mx\u001b[0m\u001b[0;34m.\u001b[0m\u001b[0mndim\u001b[0m \u001b[0;34m>\u001b[0m \u001b[0;36m2\u001b[0m \u001b[0;32mor\u001b[0m \u001b[0my\u001b[0m\u001b[0;34m.\u001b[0m\u001b[0mndim\u001b[0m \u001b[0;34m>\u001b[0m \u001b[0;36m2\u001b[0m\u001b[0;34m:\u001b[0m\u001b[0;34m\u001b[0m\u001b[0;34m\u001b[0m\u001b[0m\n",
            "\u001b[0;31mValueError\u001b[0m: x and y must have same first dimension, but have shapes (1,) and (54,)"
          ]
        },
        {
          "output_type": "display_data",
          "data": {
            "image/png": "[encoded data removed]",
            "text/plain": [
              "<Figure size 576x432 with 1 Axes>"
            ]
          },
          "metadata": {
            "tags": [],
            "image/png": {
              "width": 558,
              "height": 413
            },
            "needs_background": "light"
          }
        }
      ]
    },
    {
      "cell_type": "markdown",
      "metadata": {
        "execution": {},
        "id": "typEWTtVCzbH"
      },
      "source": [
        "[*Click for solution*](https://github.com/NeuromatchAcademy/course-content/tree/master//tutorials/W2D3_BiologicalNeuronModels/solutions/W2D3_Tutorial1_Solution_27d69c89.py)\n",
        "\n",
        "*Example output:*\n",
        "\n",
        "<img alt='Solution hint' align='left' width=1552.0 height=544.0 src=https://raw.githubusercontent.com/NeuromatchAcademy/course-content/master/tutorials/W2D3_BiologicalNeuronModels/static/W2D3_Tutorial1_Solution_27d69c89_0.png>\n",
        "\n"
      ]
    },
    {
      "cell_type": "markdown",
      "metadata": {
        "execution": {},
        "id": "8cULJ45SCzbH"
      },
      "source": [
        "## Interactive Demo 3B: Spike irregularity explorer for different `sig_gwn`\n",
        "\n",
        "In the above illustration, we see that the CV of inter-spike-interval (ISI) distribution depends on $\\sigma$ of GWN. What about the mean of GWN, should that also affect the CV$_{\\rm ISI}$? If yes, how? Does the efficacy of $\\sigma$ in increasing the CV$_{\\rm ISI}$ depend on $\\mu$?\n",
        "\n",
        "In the following interactive demo, you will examine how different levels of fluctuation $\\sigma$ affect the CVs for different average injected currents ($\\mu$).\n",
        "\n",
        "1. Does the standard deviation of the injected current affect the F-I curve in any qualitative manner?\n",
        "2. Why does increasing the mean of GWN reduce the $CV_{ISI}$?\n",
        "3.  If you plot spike count (or rate) vs. $CV_{ISI}$, should there be a relationship between the two? Try out yourself."
      ]
    },
    {
      "cell_type": "code",
      "metadata": {
        "cellView": "form",
        "execution": {},
        "id": "70IAAbiUCzbH",
        "outputId": "b2828eff-3062-4c5d-d5db-a241fd0c2f8d",
        "colab": {
          "base_uri": "https://localhost:8080/",
          "height": 462,
          "referenced_widgets": [
            "8477ae6acedb4df0988741b02386f6d4",
            "6e6eda5e2d8c408ab4cf67622cbf1422",
            "f10a3fe4a72c4a17befc67fbd33bdf2f",
            "6166ef0455984138bc6fc08122e15155",
            "69f3428b113944e3af623b8a6290f0ba",
            "52b55498e57d47e0a82c8daecdb7a5a5",
            "d069c3f01ba14298872adf24dd84e58f"
          ]
        }
      },
      "source": [
        "#@title\n",
        "\n",
        "#@markdown Make sure you execute this cell to enable the widget!\n",
        "\n",
        "my_layout.width = '450px'\n",
        "@widgets.interact(\n",
        "    sig_gwn=widgets.FloatSlider(0.0, min=0., max=10.,\n",
        "                                step=0.5, layout=my_layout)\n",
        ")\n",
        "\n",
        "\n",
        "def diff_std_affect_fI(sig_gwn):\n",
        "  pars = default_pars(T=1000.)\n",
        "  I_mean = np.arange(100., 400., 20)\n",
        "  spk_count = np.zeros(len(I_mean))\n",
        "  cv_isi = np.empty(len(I_mean))\n",
        "\n",
        "  for idx in range(len(I_mean)):\n",
        "    I_GWN = my_GWN(pars, mu=I_mean[idx], sig=sig_gwn)\n",
        "    v, rec_spikes = run_LIF(pars, Iinj=I_GWN)\n",
        "    spk_count[idx] = len(rec_spikes)\n",
        "    if len(rec_spikes) > 3:\n",
        "      isi = np.diff(rec_spikes)\n",
        "      cv_isi[idx] = np.std(isi) / np.mean(isi)\n",
        "\n",
        "  # Plot the F-I curve i.e. Output firing rate as a function of input mean.\n",
        "  plt.figure()\n",
        "  plt.plot(I_mean[spk_count > 5], cv_isi[spk_count > 5], 'bo', alpha=0.5)\n",
        "  plt.xlabel('Average injected current (pA)')\n",
        "  plt.ylabel(r'Spike irregularity ($\\mathrm{CV}_\\mathrm{ISI}$)')\n",
        "  plt.ylim(-0.1, 1.5)\n",
        "  plt.grid(True)\n",
        "  plt.show()"
      ],
      "execution_count": 24,
      "outputs": [
        {
          "output_type": "display_data",
          "data": {
            "application/vnd.jupyter.widget-view+json": {
              "model_id": "8477ae6acedb4df0988741b02386f6d4",
              "version_minor": 0,
              "version_major": 2
            },
            "text/plain": [
              "interactive(children=(FloatSlider(value=0.0, description='sig_gwn', layout=Layout(width='450px'), max=10.0, st…"
            ]
          },
          "metadata": {
            "tags": []
          }
        }
      ]
    },
    {
      "cell_type": "markdown",
      "metadata": {
        "execution": {},
        "id": "Z60pYRXiCzbH"
      },
      "source": [
        "[*Click for solution*](https://github.com/NeuromatchAcademy/course-content/tree/master//tutorials/W2D3_BiologicalNeuronModels/solutions/W2D3_Tutorial1_Solution_c6f1c4a2.py)\n",
        "\n"
      ]
    },
    {
      "cell_type": "markdown",
      "metadata": {
        "execution": {},
        "id": "gbiwgI0WCzbI"
      },
      "source": [
        "---\n",
        "# Summary\n",
        "\n",
        "*Estimated timing of tutorial: 1 hour, 10 min*\n",
        "\n",
        "Congratulations! You've just built a leaky integrate-and-fire (LIF) neuron model from scratch, and studied its dynamics in response to various types of inputs, having:\n",
        "\n",
        "- simulated the LIF neuron model\n",
        "\n",
        "- driven the LIF neuron with external inputs, such as direct current and Gaussian white noise\n",
        "\n",
        "- studied how different inputs affect the  LIF neuron's output (firing rate and spike time irregularity),\n",
        "\n",
        "with a special focus on low rate and irregular firing regime to mimc real cortical neurons. The next tutorial will look at how spiking statistics may be influenced by a neuron's input statistics.\n",
        "\n",
        "If you have extra time, look at the bonus sections below to explore a different type of noise input and learn about extensions to integrate-and-fire models.\n"
      ]
    },
    {
      "cell_type": "markdown",
      "metadata": {
        "execution": {},
        "id": "45WwpanLCzbJ"
      },
      "source": [
        "---\n",
        "# Bonus"
      ]
    },
    {
      "cell_type": "markdown",
      "metadata": {
        "execution": {},
        "id": "ThAPEEb8CzbJ"
      },
      "source": [
        "---\n",
        "## Bonus Section 1: Orenstein-Uhlenbeck Process\n",
        "\n",
        "When a neuron receives spiking input, the synaptic current is Shot Noise -- which is a kind of colored noise and the spectrum of the noise determined by the synaptic kernel time constant. That is, a neuron is driven by **colored noise** and not GWN.\n",
        "\n",
        "We can model colored noise using the Ohrenstein-Uhlenbeck process - filtered white noise. "
      ]
    },
    {
      "cell_type": "markdown",
      "metadata": {
        "execution": {},
        "id": "oEeL_7FSCzbJ"
      },
      "source": [
        "We next study if the input current is temporally correlated and is modeled as an Ornstein-Uhlenbeck process $\\eta(t)$, i.e., low-pass filtered GWN with a time constant $\\tau_{\\eta}$: \n",
        "\n",
        "$$\\tau_\\eta \\frac{d}{dt}\\eta(t) = \\mu-\\eta(t) + \\sigma_\\eta\\sqrt{2\\tau_\\eta}\\xi(t).$$\n",
        "\n",
        "**Hint:** An OU process as defined above has\n",
        "\n",
        "$$E[\\eta(t)]=\\mu$$ \n",
        "\n",
        "and autocovariance \n",
        "\n",
        "$$[\\eta(t)\\eta(t+\\tau)]=\\sigma_\\eta^2e^{-|t-\\tau|/\\tau_\\eta},$$\n",
        "\n",
        "which can be used to check your code. "
      ]
    },
    {
      "cell_type": "code",
      "metadata": {
        "cellView": "form",
        "execution": {},
        "id": "Q5suJPafCzbK"
      },
      "source": [
        "# @markdown Execute this cell to get helper function `my_OU`\n",
        "\n",
        "\n",
        "def my_OU(pars, mu, sig, myseed=False):\n",
        "  \"\"\"\n",
        "  Function that produces Ornstein-Uhlenbeck input\n",
        "\n",
        "  Args:\n",
        "    pars       : parameter dictionary\n",
        "    sig        : noise amplitute\n",
        "    myseed     : random seed. int or boolean\n",
        "\n",
        "  Returns:\n",
        "    I_ou       : Ornstein-Uhlenbeck input current\n",
        "  \"\"\"\n",
        "\n",
        "  # Retrieve simulation parameters\n",
        "  dt, range_t = pars['dt'], pars['range_t']\n",
        "  Lt = range_t.size\n",
        "  tau_ou = pars['tau_ou']  # [ms]\n",
        "\n",
        "  # set random seed\n",
        "  if myseed:\n",
        "    np.random.seed(seed=myseed)\n",
        "  else:\n",
        "    np.random.seed()\n",
        "\n",
        "  # Initialize\n",
        "  noise = np.random.randn(Lt)\n",
        "  I_ou = np.zeros(Lt)\n",
        "  I_ou[0] = noise[0] * sig\n",
        "\n",
        "  # generate OU\n",
        "  for it in range(Lt-1):\n",
        "    I_ou[it+1] = I_ou[it] + (dt / tau_ou) * (mu - I_ou[it]) + np.sqrt(2 * dt / tau_ou) * sig * noise[it + 1]\n",
        "\n",
        "  return I_ou\n",
        "\n",
        "\n",
        "help(my_OU)"
      ],
      "execution_count": null,
      "outputs": []
    },
    {
      "cell_type": "markdown",
      "metadata": {
        "execution": {},
        "id": "qjYEwje_CzbM"
      },
      "source": [
        "### Bonus Interactive Demo 1: LIF Explorer with OU input\n",
        "In the following, we will check how a neuron responds to a noisy current that follows the statistics of an OU process.\n",
        "\n",
        "-  How does the OU type input change neuron responsiveness? \n",
        "-  What do you think will happen to the spike pattern and rate if you increased or decreased the time constant of the OU process?"
      ]
    },
    {
      "cell_type": "code",
      "metadata": {
        "cellView": "form",
        "execution": {},
        "id": "RPa3etxbCzbM"
      },
      "source": [
        "# @title\n",
        "\n",
        "# @markdown Remember to enable the widget by running the cell!\n",
        "\n",
        "my_layout.width = '450px'\n",
        "@widgets.interact(\n",
        "  tau_ou=widgets.FloatSlider(10.0, min=5., max=20.,\n",
        "                             step=2.5, layout=my_layout),\n",
        "  sig_ou=widgets.FloatSlider(10.0, min=5., max=40.,\n",
        "                             step=2.5, layout=my_layout),\n",
        "  mu_ou=widgets.FloatSlider(190.0, min=180., max=220.,\n",
        "                            step=2.5, layout=my_layout)\n",
        ")\n",
        "\n",
        "\n",
        "def LIF_with_OU(tau_ou=10., sig_ou=40., mu_ou=200.):\n",
        "  pars = default_pars(T=1000.)\n",
        "  pars['tau_ou'] = tau_ou  # [ms]\n",
        "\n",
        "  I_ou = my_OU(pars, mu_ou, sig_ou)\n",
        "\n",
        "  v, sp = run_LIF(pars, Iinj=I_ou)\n",
        "\n",
        "  plt.figure(figsize=(12, 4))\n",
        "  plt.subplot(121)\n",
        "  plt.plot(pars['range_t'], I_ou, 'b', lw=1.0)\n",
        "  plt.xlabel('Time (ms)')\n",
        "  plt.ylabel(r'$I_{\\mathrm{OU}}$ (pA)')\n",
        "  plt.subplot(122)\n",
        "  plot_volt_trace(pars, v, sp)\n",
        "  plt.tight_layout()\n",
        "  plt.show()"
      ],
      "execution_count": null,
      "outputs": []
    },
    {
      "cell_type": "markdown",
      "metadata": {
        "execution": {},
        "id": "hKhRfGDwCzbS"
      },
      "source": [
        "[*Click for solution*](https://github.com/NeuromatchAcademy/course-content/tree/master//tutorials/W2D3_BiologicalNeuronModels/solutions/W2D3_Tutorial1_Solution_cf5b6a80.py)\n",
        "\n"
      ]
    },
    {
      "cell_type": "markdown",
      "metadata": {
        "execution": {},
        "id": "UJ4e0rkRCzbU"
      },
      "source": [
        "---\n",
        "## Bonus Section 2: Generalized Integrate-and-Fire models\n",
        "\n",
        "LIF model is not the only abstraction of real neurons. If you want to learn about more realistic types of neuronal models, watch the Bonus Video!"
      ]
    },
    {
      "cell_type": "code",
      "metadata": {
        "cellView": "form",
        "execution": {},
        "id": "8geYzr-ICzbX"
      },
      "source": [
        "# @title Video 3 (Bonus): Extensions to Integrate-and-Fire models\n",
        "from ipywidgets import widgets\n",
        "\n",
        "out2 = widgets.Output()\n",
        "with out2:\n",
        "  from IPython.display import IFrame\n",
        "  class BiliVideo(IFrame):\n",
        "      def __init__(self, id, page=1, width=400, height=300, **kwargs):\n",
        "          self.id=id\n",
        "          src = 'https://player.bilibili.com/player.html?bvid={0}&page={1}'.format(id, page)\n",
        "          super(BiliVideo, self).__init__(src, width, height, **kwargs)\n",
        "\n",
        "  video = BiliVideo(id=\"\", width=854, height=480, fs=1)\n",
        "  print('Video available at https://www.bilibili.com/video/{0}'.format(video.id))\n",
        "  display(video)\n",
        "\n",
        "out1 = widgets.Output()\n",
        "with out1:\n",
        "  from IPython.display import YouTubeVideo\n",
        "  video = YouTubeVideo(id=\"G0b6wLhuQxE\", width=854, height=480, fs=1, rel=0)\n",
        "  print('Video available at https://youtube.com/watch?v=' + video.id)\n",
        "  display(video)\n",
        "\n",
        "out = widgets.Tab([out1, out2])\n",
        "out.set_title(0, 'Youtube')\n",
        "out.set_title(1, 'Bilibili')\n",
        "\n",
        "display(out)"
      ],
      "execution_count": null,
      "outputs": []
    }
  ]
}