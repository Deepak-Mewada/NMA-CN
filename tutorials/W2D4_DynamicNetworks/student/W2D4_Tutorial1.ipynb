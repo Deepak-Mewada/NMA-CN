{
  "nbformat": 4,
  "nbformat_minor": 0,
  "metadata": {
    "colab": {
      "name": "W2D4_Tutorial1",
      "provenance": [],
      "collapsed_sections": [],
      "toc_visible": true,
      "include_colab_link": true
    },
    "kernel": {
      "display_name": "Python 3",
      "language": "python",
      "name": "python3"
    },
    "kernelspec": {
      "display_name": "Python 3",
      "name": "python3"
    },
    "language_info": {
      "codemirror_mode": {
        "name": "ipython",
        "version": 3
      },
      "file_extension": ".py",
      "mimetype": "text/x-python",
      "name": "python",
      "nbconvert_exporter": "python",
      "pygments_lexer": "ipython3",
      "version": "3.7.10"
    },
    "widgets": {
      "application/vnd.jupyter.widget-state+json": {
        "f7de02e94e2a4d56b97d4a01c7e994c1": {
          "model_module": "@jupyter-widgets/controls",
          "model_name": "TabModel",
          "state": {
            "_view_name": "TabView",
            "_dom_classes": [],
            "_titles": {
              "0": "Youtube",
              "1": "Bilibili"
            },
            "_model_name": "TabModel",
            "_view_module": "@jupyter-widgets/controls",
            "selected_index": 0,
            "_model_module_version": "1.5.0",
            "_view_count": null,
            "_view_module_version": "1.5.0",
            "box_style": "",
            "layout": "IPY_MODEL_264f6881410243158c9e3fc6eddbaa07",
            "_model_module": "@jupyter-widgets/controls",
            "children": [
              "IPY_MODEL_f0c272c58660414e83ace3a21487d244",
              "IPY_MODEL_7310956e002f430dabc826a09f69bf46"
            ]
          }
        },
        "264f6881410243158c9e3fc6eddbaa07": {
          "model_module": "@jupyter-widgets/base",
          "model_name": "LayoutModel",
          "state": {
            "_view_name": "LayoutView",
            "grid_template_rows": null,
            "right": null,
            "justify_content": null,
            "_view_module": "@jupyter-widgets/base",
            "overflow": null,
            "_model_module_version": "1.2.0",
            "_view_count": null,
            "flex_flow": null,
            "width": null,
            "min_width": null,
            "border": null,
            "align_items": null,
            "bottom": null,
            "_model_module": "@jupyter-widgets/base",
            "top": null,
            "grid_column": null,
            "overflow_y": null,
            "overflow_x": null,
            "grid_auto_flow": null,
            "grid_area": null,
            "grid_template_columns": null,
            "flex": null,
            "_model_name": "LayoutModel",
            "justify_items": null,
            "grid_row": null,
            "max_height": null,
            "align_content": null,
            "visibility": null,
            "align_self": null,
            "height": null,
            "min_height": null,
            "padding": null,
            "grid_auto_rows": null,
            "grid_gap": null,
            "max_width": null,
            "order": null,
            "_view_module_version": "1.2.0",
            "grid_template_areas": null,
            "object_position": null,
            "object_fit": null,
            "grid_auto_columns": null,
            "margin": null,
            "display": null,
            "left": null
          }
        },
        "f0c272c58660414e83ace3a21487d244": {
          "model_module": "@jupyter-widgets/output",
          "model_name": "OutputModel",
          "state": {
            "_view_name": "OutputView",
            "msg_id": "",
            "_dom_classes": [],
            "_model_name": "OutputModel",
            "outputs": [
              {
                "output_type": "stream",
                "metadata": {
                  "tags": []
                },
                "text": "Video available at https://youtube.com/watch?v=p848349hPyw\n",
                "stream": "stdout"
              },
              {
                "output_type": "display_data",
                "metadata": {
                  "tags": []
                },
                "text/html": "\n        <iframe\n            width=\"854\"\n            height=\"480\"\n            src=\"https://www.youtube.com/embed/p848349hPyw?fs=1&rel=0\"\n            frameborder=\"0\"\n            allowfullscreen\n        ></iframe>\n        ",
                "text/plain": "<IPython.lib.display.YouTubeVideo at 0x7fc4244b7ed0>",
                "image/jpeg": "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\n"
              }
            ],
            "_view_module": "@jupyter-widgets/output",
            "_model_module_version": "1.0.0",
            "_view_count": null,
            "_view_module_version": "1.0.0",
            "layout": "IPY_MODEL_15d8df97b6a94d179bb776d39db5c247",
            "_model_module": "@jupyter-widgets/output"
          }
        },
        "7310956e002f430dabc826a09f69bf46": {
          "model_module": "@jupyter-widgets/output",
          "model_name": "OutputModel",
          "state": {
            "_view_name": "OutputView",
            "msg_id": "",
            "_dom_classes": [],
            "_model_name": "OutputModel",
            "outputs": [
              {
                "output_type": "stream",
                "metadata": {
                  "tags": []
                },
                "text": "Video available at https://www.bilibili.com/video/BV1dh411o7qJ\n",
                "stream": "stdout"
              },
              {
                "output_type": "display_data",
                "metadata": {
                  "tags": []
                },
                "text/html": "\n        <iframe\n            width=\"854\"\n            height=\"480\"\n            src=\"https://player.bilibili.com/player.html?bvid=BV1dh411o7qJ&page=1?fs=1\"\n            frameborder=\"0\"\n            allowfullscreen\n        ></iframe>\n        ",
                "text/plain": "<__main__.BiliVideo at 0x7fc4244b7610>"
              }
            ],
            "_view_module": "@jupyter-widgets/output",
            "_model_module_version": "1.0.0",
            "_view_count": null,
            "_view_module_version": "1.0.0",
            "layout": "IPY_MODEL_c8f0deb5391441fcafbe65ebe52ab3bf",
            "_model_module": "@jupyter-widgets/output"
          }
        },
        "15d8df97b6a94d179bb776d39db5c247": {
          "model_module": "@jupyter-widgets/base",
          "model_name": "LayoutModel",
          "state": {
            "_view_name": "LayoutView",
            "grid_template_rows": null,
            "right": null,
            "justify_content": null,
            "_view_module": "@jupyter-widgets/base",
            "overflow": null,
            "_model_module_version": "1.2.0",
            "_view_count": null,
            "flex_flow": null,
            "width": null,
            "min_width": null,
            "border": null,
            "align_items": null,
            "bottom": null,
            "_model_module": "@jupyter-widgets/base",
            "top": null,
            "grid_column": null,
            "overflow_y": null,
            "overflow_x": null,
            "grid_auto_flow": null,
            "grid_area": null,
            "grid_template_columns": null,
            "flex": null,
            "_model_name": "LayoutModel",
            "justify_items": null,
            "grid_row": null,
            "max_height": null,
            "align_content": null,
            "visibility": null,
            "align_self": null,
            "height": null,
            "min_height": null,
            "padding": null,
            "grid_auto_rows": null,
            "grid_gap": null,
            "max_width": null,
            "order": null,
            "_view_module_version": "1.2.0",
            "grid_template_areas": null,
            "object_position": null,
            "object_fit": null,
            "grid_auto_columns": null,
            "margin": null,
            "display": null,
            "left": null
          }
        },
        "c8f0deb5391441fcafbe65ebe52ab3bf": {
          "model_module": "@jupyter-widgets/base",
          "model_name": "LayoutModel",
          "state": {
            "_view_name": "LayoutView",
            "grid_template_rows": null,
            "right": null,
            "justify_content": null,
            "_view_module": "@jupyter-widgets/base",
            "overflow": null,
            "_model_module_version": "1.2.0",
            "_view_count": null,
            "flex_flow": null,
            "width": null,
            "min_width": null,
            "border": null,
            "align_items": null,
            "bottom": null,
            "_model_module": "@jupyter-widgets/base",
            "top": null,
            "grid_column": null,
            "overflow_y": null,
            "overflow_x": null,
            "grid_auto_flow": null,
            "grid_area": null,
            "grid_template_columns": null,
            "flex": null,
            "_model_name": "LayoutModel",
            "justify_items": null,
            "grid_row": null,
            "max_height": null,
            "align_content": null,
            "visibility": null,
            "align_self": null,
            "height": null,
            "min_height": null,
            "padding": null,
            "grid_auto_rows": null,
            "grid_gap": null,
            "max_width": null,
            "order": null,
            "_view_module_version": "1.2.0",
            "grid_template_areas": null,
            "object_position": null,
            "object_fit": null,
            "grid_auto_columns": null,
            "margin": null,
            "display": null,
            "left": null
          }
        },
        "746cb38de7124e9c87cb7577db6fbf13": {
          "model_module": "@jupyter-widgets/controls",
          "model_name": "VBoxModel",
          "state": {
            "_view_name": "VBoxView",
            "_dom_classes": [
              "widget-interact"
            ],
            "_model_name": "VBoxModel",
            "_view_module": "@jupyter-widgets/controls",
            "_model_module_version": "1.5.0",
            "_view_count": null,
            "_view_module_version": "1.5.0",
            "box_style": "",
            "layout": "IPY_MODEL_f6c3232a9bfa4c499be2d7cf0dabdab1",
            "_model_module": "@jupyter-widgets/controls",
            "children": [
              "IPY_MODEL_10a6fa7d3b264101a5ea13038259546b",
              "IPY_MODEL_5aece105712c40878bd9d551c1164ae2",
              "IPY_MODEL_c2fee6b6a2084714a9111f12f59cb72c"
            ]
          }
        },
        "f6c3232a9bfa4c499be2d7cf0dabdab1": {
          "model_module": "@jupyter-widgets/base",
          "model_name": "LayoutModel",
          "state": {
            "_view_name": "LayoutView",
            "grid_template_rows": null,
            "right": null,
            "justify_content": null,
            "_view_module": "@jupyter-widgets/base",
            "overflow": null,
            "_model_module_version": "1.2.0",
            "_view_count": null,
            "flex_flow": null,
            "width": null,
            "min_width": null,
            "border": null,
            "align_items": null,
            "bottom": null,
            "_model_module": "@jupyter-widgets/base",
            "top": null,
            "grid_column": null,
            "overflow_y": null,
            "overflow_x": null,
            "grid_auto_flow": null,
            "grid_area": null,
            "grid_template_columns": null,
            "flex": null,
            "_model_name": "LayoutModel",
            "justify_items": null,
            "grid_row": null,
            "max_height": null,
            "align_content": null,
            "visibility": null,
            "align_self": null,
            "height": null,
            "min_height": null,
            "padding": null,
            "grid_auto_rows": null,
            "grid_gap": null,
            "max_width": null,
            "order": null,
            "_view_module_version": "1.2.0",
            "grid_template_areas": null,
            "object_position": null,
            "object_fit": null,
            "grid_auto_columns": null,
            "margin": null,
            "display": null,
            "left": null
          }
        },
        "10a6fa7d3b264101a5ea13038259546b": {
          "model_module": "@jupyter-widgets/controls",
          "model_name": "FloatSliderModel",
          "state": {
            "_view_name": "FloatSliderView",
            "style": "IPY_MODEL_5f24288fe06d4c1abd9e3c7601cf0684",
            "_dom_classes": [],
            "description": "a",
            "step": 0.3,
            "_model_name": "FloatSliderModel",
            "orientation": "horizontal",
            "max": 3,
            "_view_module": "@jupyter-widgets/controls",
            "_model_module_version": "1.5.0",
            "value": 1.5,
            "_view_count": null,
            "disabled": false,
            "_view_module_version": "1.5.0",
            "min": 0.3,
            "continuous_update": true,
            "readout_format": ".2f",
            "description_tooltip": null,
            "readout": true,
            "_model_module": "@jupyter-widgets/controls",
            "layout": "IPY_MODEL_c1a5e675db47475fbbc490fe769baa99"
          }
        },
        "5aece105712c40878bd9d551c1164ae2": {
          "model_module": "@jupyter-widgets/controls",
          "model_name": "FloatSliderModel",
          "state": {
            "_view_name": "FloatSliderView",
            "style": "IPY_MODEL_edcaab915fa04bbc8663d7b813ce93f3",
            "_dom_classes": [],
            "description": "theta",
            "step": 0.2,
            "_model_name": "FloatSliderModel",
            "orientation": "horizontal",
            "max": 4,
            "_view_module": "@jupyter-widgets/controls",
            "_model_module_version": "1.5.0",
            "value": 3,
            "_view_count": null,
            "disabled": false,
            "_view_module_version": "1.5.0",
            "min": 2,
            "continuous_update": true,
            "readout_format": ".2f",
            "description_tooltip": null,
            "readout": true,
            "_model_module": "@jupyter-widgets/controls",
            "layout": "IPY_MODEL_d53c11a38c0b42e1b4ff4791426c8bba"
          }
        },
        "c2fee6b6a2084714a9111f12f59cb72c": {
          "model_module": "@jupyter-widgets/output",
          "model_name": "OutputModel",
          "state": {
            "_view_name": "OutputView",
            "msg_id": "",
            "_dom_classes": [],
            "_model_name": "OutputModel",
            "outputs": [
              {
                "output_type": "display_data",
                "metadata": {
                  "tags": [],
                  "image/png": {
                    "width": 558,
                    "height": 413
                  },
                  "needs_background": "light"
                },
                "image/png": "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\n",
                "text/plain": "<Figure size 576x432 with 1 Axes>"
              }
            ],
            "_view_module": "@jupyter-widgets/output",
            "_model_module_version": "1.0.0",
            "_view_count": null,
            "_view_module_version": "1.0.0",
            "layout": "IPY_MODEL_50edb3104438466a9cb2a215a0a01a2c",
            "_model_module": "@jupyter-widgets/output"
          }
        },
        "5f24288fe06d4c1abd9e3c7601cf0684": {
          "model_module": "@jupyter-widgets/controls",
          "model_name": "SliderStyleModel",
          "state": {
            "_view_name": "StyleView",
            "handle_color": null,
            "_model_name": "SliderStyleModel",
            "description_width": "",
            "_view_module": "@jupyter-widgets/base",
            "_model_module_version": "1.5.0",
            "_view_count": null,
            "_view_module_version": "1.2.0",
            "_model_module": "@jupyter-widgets/controls"
          }
        },
        "c1a5e675db47475fbbc490fe769baa99": {
          "model_module": "@jupyter-widgets/base",
          "model_name": "LayoutModel",
          "state": {
            "_view_name": "LayoutView",
            "grid_template_rows": null,
            "right": null,
            "justify_content": null,
            "_view_module": "@jupyter-widgets/base",
            "overflow": null,
            "_model_module_version": "1.2.0",
            "_view_count": null,
            "flex_flow": null,
            "width": null,
            "min_width": null,
            "border": null,
            "align_items": null,
            "bottom": null,
            "_model_module": "@jupyter-widgets/base",
            "top": null,
            "grid_column": null,
            "overflow_y": null,
            "overflow_x": null,
            "grid_auto_flow": null,
            "grid_area": null,
            "grid_template_columns": null,
            "flex": null,
            "_model_name": "LayoutModel",
            "justify_items": null,
            "grid_row": null,
            "max_height": null,
            "align_content": null,
            "visibility": null,
            "align_self": null,
            "height": null,
            "min_height": null,
            "padding": null,
            "grid_auto_rows": null,
            "grid_gap": null,
            "max_width": null,
            "order": null,
            "_view_module_version": "1.2.0",
            "grid_template_areas": null,
            "object_position": null,
            "object_fit": null,
            "grid_auto_columns": null,
            "margin": null,
            "display": null,
            "left": null
          }
        },
        "edcaab915fa04bbc8663d7b813ce93f3": {
          "model_module": "@jupyter-widgets/controls",
          "model_name": "SliderStyleModel",
          "state": {
            "_view_name": "StyleView",
            "handle_color": null,
            "_model_name": "SliderStyleModel",
            "description_width": "",
            "_view_module": "@jupyter-widgets/base",
            "_model_module_version": "1.5.0",
            "_view_count": null,
            "_view_module_version": "1.2.0",
            "_model_module": "@jupyter-widgets/controls"
          }
        },
        "d53c11a38c0b42e1b4ff4791426c8bba": {
          "model_module": "@jupyter-widgets/base",
          "model_name": "LayoutModel",
          "state": {
            "_view_name": "LayoutView",
            "grid_template_rows": null,
            "right": null,
            "justify_content": null,
            "_view_module": "@jupyter-widgets/base",
            "overflow": null,
            "_model_module_version": "1.2.0",
            "_view_count": null,
            "flex_flow": null,
            "width": null,
            "min_width": null,
            "border": null,
            "align_items": null,
            "bottom": null,
            "_model_module": "@jupyter-widgets/base",
            "top": null,
            "grid_column": null,
            "overflow_y": null,
            "overflow_x": null,
            "grid_auto_flow": null,
            "grid_area": null,
            "grid_template_columns": null,
            "flex": null,
            "_model_name": "LayoutModel",
            "justify_items": null,
            "grid_row": null,
            "max_height": null,
            "align_content": null,
            "visibility": null,
            "align_self": null,
            "height": null,
            "min_height": null,
            "padding": null,
            "grid_auto_rows": null,
            "grid_gap": null,
            "max_width": null,
            "order": null,
            "_view_module_version": "1.2.0",
            "grid_template_areas": null,
            "object_position": null,
            "object_fit": null,
            "grid_auto_columns": null,
            "margin": null,
            "display": null,
            "left": null
          }
        },
        "50edb3104438466a9cb2a215a0a01a2c": {
          "model_module": "@jupyter-widgets/base",
          "model_name": "LayoutModel",
          "state": {
            "_view_name": "LayoutView",
            "grid_template_rows": null,
            "right": null,
            "justify_content": null,
            "_view_module": "@jupyter-widgets/base",
            "overflow": null,
            "_model_module_version": "1.2.0",
            "_view_count": null,
            "flex_flow": null,
            "width": null,
            "min_width": null,
            "border": null,
            "align_items": null,
            "bottom": null,
            "_model_module": "@jupyter-widgets/base",
            "top": null,
            "grid_column": null,
            "overflow_y": null,
            "overflow_x": null,
            "grid_auto_flow": null,
            "grid_area": null,
            "grid_template_columns": null,
            "flex": null,
            "_model_name": "LayoutModel",
            "justify_items": null,
            "grid_row": null,
            "max_height": null,
            "align_content": null,
            "visibility": null,
            "align_self": null,
            "height": null,
            "min_height": null,
            "padding": null,
            "grid_auto_rows": null,
            "grid_gap": null,
            "max_width": null,
            "order": null,
            "_view_module_version": "1.2.0",
            "grid_template_areas": null,
            "object_position": null,
            "object_fit": null,
            "grid_auto_columns": null,
            "margin": null,
            "display": null,
            "left": null
          }
        },
        "4be79dbd2b4d4d7c94fb38187b3dd56f": {
          "model_module": "@jupyter-widgets/controls",
          "model_name": "VBoxModel",
          "state": {
            "_view_name": "VBoxView",
            "_dom_classes": [
              "widget-interact"
            ],
            "_model_name": "VBoxModel",
            "_view_module": "@jupyter-widgets/controls",
            "_model_module_version": "1.5.0",
            "_view_count": null,
            "_view_module_version": "1.5.0",
            "box_style": "",
            "layout": "IPY_MODEL_a31f87bb1bbf4628a8e9d0302397ccb4",
            "_model_module": "@jupyter-widgets/controls",
            "children": [
              "IPY_MODEL_220edfee986f4e6c96aceabca58b7064",
              "IPY_MODEL_a3810f884b30479fa824626f0131ffd8",
              "IPY_MODEL_21b0ae192b8c448eaefd7c6b2b40384c"
            ]
          }
        },
        "a31f87bb1bbf4628a8e9d0302397ccb4": {
          "model_module": "@jupyter-widgets/base",
          "model_name": "LayoutModel",
          "state": {
            "_view_name": "LayoutView",
            "grid_template_rows": null,
            "right": null,
            "justify_content": null,
            "_view_module": "@jupyter-widgets/base",
            "overflow": null,
            "_model_module_version": "1.2.0",
            "_view_count": null,
            "flex_flow": null,
            "width": null,
            "min_width": null,
            "border": null,
            "align_items": null,
            "bottom": null,
            "_model_module": "@jupyter-widgets/base",
            "top": null,
            "grid_column": null,
            "overflow_y": null,
            "overflow_x": null,
            "grid_auto_flow": null,
            "grid_area": null,
            "grid_template_columns": null,
            "flex": null,
            "_model_name": "LayoutModel",
            "justify_items": null,
            "grid_row": null,
            "max_height": null,
            "align_content": null,
            "visibility": null,
            "align_self": null,
            "height": null,
            "min_height": null,
            "padding": null,
            "grid_auto_rows": null,
            "grid_gap": null,
            "max_width": null,
            "order": null,
            "_view_module_version": "1.2.0",
            "grid_template_areas": null,
            "object_position": null,
            "object_fit": null,
            "grid_auto_columns": null,
            "margin": null,
            "display": null,
            "left": null
          }
        },
        "220edfee986f4e6c96aceabca58b7064": {
          "model_module": "@jupyter-widgets/controls",
          "model_name": "FloatSliderModel",
          "state": {
            "_view_name": "FloatSliderView",
            "style": "IPY_MODEL_58b3c7b77ce148b8860a1cc6b60a1aed",
            "_dom_classes": [],
            "description": "I_ext",
            "step": 1,
            "_model_name": "FloatSliderModel",
            "orientation": "horizontal",
            "max": 10,
            "_view_module": "@jupyter-widgets/controls",
            "_model_module_version": "1.5.0",
            "value": 5,
            "_view_count": null,
            "disabled": false,
            "_view_module_version": "1.5.0",
            "min": 0,
            "continuous_update": true,
            "readout_format": ".2f",
            "description_tooltip": null,
            "readout": true,
            "_model_module": "@jupyter-widgets/controls",
            "layout": "IPY_MODEL_9cdd123314434ebb818ce705d9eb8796"
          }
        },
        "a3810f884b30479fa824626f0131ffd8": {
          "model_module": "@jupyter-widgets/controls",
          "model_name": "FloatSliderModel",
          "state": {
            "_view_name": "FloatSliderView",
            "style": "IPY_MODEL_4bccc6f0cd524dd2bb7d58c338ad5bbc",
            "_dom_classes": [],
            "description": "tau",
            "step": 0.2,
            "_model_name": "FloatSliderModel",
            "orientation": "horizontal",
            "max": 5,
            "_view_module": "@jupyter-widgets/controls",
            "_model_module_version": "1.5.0",
            "value": 3,
            "_view_count": null,
            "disabled": false,
            "_view_module_version": "1.5.0",
            "min": 1,
            "continuous_update": true,
            "readout_format": ".2f",
            "description_tooltip": null,
            "readout": true,
            "_model_module": "@jupyter-widgets/controls",
            "layout": "IPY_MODEL_57064b54f19c434d978b370e59955fd5"
          }
        },
        "21b0ae192b8c448eaefd7c6b2b40384c": {
          "model_module": "@jupyter-widgets/output",
          "model_name": "OutputModel",
          "state": {
            "_view_name": "OutputView",
            "msg_id": "",
            "_dom_classes": [],
            "_model_name": "OutputModel",
            "outputs": [
              {
                "output_type": "display_data",
                "metadata": {
                  "tags": [],
                  "image/png": {
                    "width": 558,
                    "height": 413
                  },
                  "needs_background": "light"
                },
                "image/png": "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\n",
                "text/plain": "<Figure size 576x432 with 1 Axes>"
              }
            ],
            "_view_module": "@jupyter-widgets/output",
            "_model_module_version": "1.0.0",
            "_view_count": null,
            "_view_module_version": "1.0.0",
            "layout": "IPY_MODEL_0c088b3155f04abfae34edccd7c052e7",
            "_model_module": "@jupyter-widgets/output"
          }
        },
        "58b3c7b77ce148b8860a1cc6b60a1aed": {
          "model_module": "@jupyter-widgets/controls",
          "model_name": "SliderStyleModel",
          "state": {
            "_view_name": "StyleView",
            "handle_color": null,
            "_model_name": "SliderStyleModel",
            "description_width": "",
            "_view_module": "@jupyter-widgets/base",
            "_model_module_version": "1.5.0",
            "_view_count": null,
            "_view_module_version": "1.2.0",
            "_model_module": "@jupyter-widgets/controls"
          }
        },
        "9cdd123314434ebb818ce705d9eb8796": {
          "model_module": "@jupyter-widgets/base",
          "model_name": "LayoutModel",
          "state": {
            "_view_name": "LayoutView",
            "grid_template_rows": null,
            "right": null,
            "justify_content": null,
            "_view_module": "@jupyter-widgets/base",
            "overflow": null,
            "_model_module_version": "1.2.0",
            "_view_count": null,
            "flex_flow": null,
            "width": null,
            "min_width": null,
            "border": null,
            "align_items": null,
            "bottom": null,
            "_model_module": "@jupyter-widgets/base",
            "top": null,
            "grid_column": null,
            "overflow_y": null,
            "overflow_x": null,
            "grid_auto_flow": null,
            "grid_area": null,
            "grid_template_columns": null,
            "flex": null,
            "_model_name": "LayoutModel",
            "justify_items": null,
            "grid_row": null,
            "max_height": null,
            "align_content": null,
            "visibility": null,
            "align_self": null,
            "height": null,
            "min_height": null,
            "padding": null,
            "grid_auto_rows": null,
            "grid_gap": null,
            "max_width": null,
            "order": null,
            "_view_module_version": "1.2.0",
            "grid_template_areas": null,
            "object_position": null,
            "object_fit": null,
            "grid_auto_columns": null,
            "margin": null,
            "display": null,
            "left": null
          }
        },
        "4bccc6f0cd524dd2bb7d58c338ad5bbc": {
          "model_module": "@jupyter-widgets/controls",
          "model_name": "SliderStyleModel",
          "state": {
            "_view_name": "StyleView",
            "handle_color": null,
            "_model_name": "SliderStyleModel",
            "description_width": "",
            "_view_module": "@jupyter-widgets/base",
            "_model_module_version": "1.5.0",
            "_view_count": null,
            "_view_module_version": "1.2.0",
            "_model_module": "@jupyter-widgets/controls"
          }
        },
        "57064b54f19c434d978b370e59955fd5": {
          "model_module": "@jupyter-widgets/base",
          "model_name": "LayoutModel",
          "state": {
            "_view_name": "LayoutView",
            "grid_template_rows": null,
            "right": null,
            "justify_content": null,
            "_view_module": "@jupyter-widgets/base",
            "overflow": null,
            "_model_module_version": "1.2.0",
            "_view_count": null,
            "flex_flow": null,
            "width": null,
            "min_width": null,
            "border": null,
            "align_items": null,
            "bottom": null,
            "_model_module": "@jupyter-widgets/base",
            "top": null,
            "grid_column": null,
            "overflow_y": null,
            "overflow_x": null,
            "grid_auto_flow": null,
            "grid_area": null,
            "grid_template_columns": null,
            "flex": null,
            "_model_name": "LayoutModel",
            "justify_items": null,
            "grid_row": null,
            "max_height": null,
            "align_content": null,
            "visibility": null,
            "align_self": null,
            "height": null,
            "min_height": null,
            "padding": null,
            "grid_auto_rows": null,
            "grid_gap": null,
            "max_width": null,
            "order": null,
            "_view_module_version": "1.2.0",
            "grid_template_areas": null,
            "object_position": null,
            "object_fit": null,
            "grid_auto_columns": null,
            "margin": null,
            "display": null,
            "left": null
          }
        },
        "0c088b3155f04abfae34edccd7c052e7": {
          "model_module": "@jupyter-widgets/base",
          "model_name": "LayoutModel",
          "state": {
            "_view_name": "LayoutView",
            "grid_template_rows": null,
            "right": null,
            "justify_content": null,
            "_view_module": "@jupyter-widgets/base",
            "overflow": null,
            "_model_module_version": "1.2.0",
            "_view_count": null,
            "flex_flow": null,
            "width": null,
            "min_width": null,
            "border": null,
            "align_items": null,
            "bottom": null,
            "_model_module": "@jupyter-widgets/base",
            "top": null,
            "grid_column": null,
            "overflow_y": null,
            "overflow_x": null,
            "grid_auto_flow": null,
            "grid_area": null,
            "grid_template_columns": null,
            "flex": null,
            "_model_name": "LayoutModel",
            "justify_items": null,
            "grid_row": null,
            "max_height": null,
            "align_content": null,
            "visibility": null,
            "align_self": null,
            "height": null,
            "min_height": null,
            "padding": null,
            "grid_auto_rows": null,
            "grid_gap": null,
            "max_width": null,
            "order": null,
            "_view_module_version": "1.2.0",
            "grid_template_areas": null,
            "object_position": null,
            "object_fit": null,
            "grid_auto_columns": null,
            "margin": null,
            "display": null,
            "left": null
          }
        },
        "ebc5313f44124dc99fd201ffa7b167b8": {
          "model_module": "@jupyter-widgets/controls",
          "model_name": "TabModel",
          "state": {
            "_view_name": "TabView",
            "_dom_classes": [],
            "_titles": {
              "0": "Youtube",
              "1": "Bilibili"
            },
            "_model_name": "TabModel",
            "_view_module": "@jupyter-widgets/controls",
            "selected_index": 0,
            "_model_module_version": "1.5.0",
            "_view_count": null,
            "_view_module_version": "1.5.0",
            "box_style": "",
            "layout": "IPY_MODEL_6e836f443db744cda233e9edbe3f1c25",
            "_model_module": "@jupyter-widgets/controls",
            "children": [
              "IPY_MODEL_29d46f1cf6094889855b089b52ff17b1",
              "IPY_MODEL_763b0058df2c482a83b56fcc57d23a16"
            ]
          }
        },
        "6e836f443db744cda233e9edbe3f1c25": {
          "model_module": "@jupyter-widgets/base",
          "model_name": "LayoutModel",
          "state": {
            "_view_name": "LayoutView",
            "grid_template_rows": null,
            "right": null,
            "justify_content": null,
            "_view_module": "@jupyter-widgets/base",
            "overflow": null,
            "_model_module_version": "1.2.0",
            "_view_count": null,
            "flex_flow": null,
            "width": null,
            "min_width": null,
            "border": null,
            "align_items": null,
            "bottom": null,
            "_model_module": "@jupyter-widgets/base",
            "top": null,
            "grid_column": null,
            "overflow_y": null,
            "overflow_x": null,
            "grid_auto_flow": null,
            "grid_area": null,
            "grid_template_columns": null,
            "flex": null,
            "_model_name": "LayoutModel",
            "justify_items": null,
            "grid_row": null,
            "max_height": null,
            "align_content": null,
            "visibility": null,
            "align_self": null,
            "height": null,
            "min_height": null,
            "padding": null,
            "grid_auto_rows": null,
            "grid_gap": null,
            "max_width": null,
            "order": null,
            "_view_module_version": "1.2.0",
            "grid_template_areas": null,
            "object_position": null,
            "object_fit": null,
            "grid_auto_columns": null,
            "margin": null,
            "display": null,
            "left": null
          }
        },
        "29d46f1cf6094889855b089b52ff17b1": {
          "model_module": "@jupyter-widgets/output",
          "model_name": "OutputModel",
          "state": {
            "_view_name": "OutputView",
            "msg_id": "",
            "_dom_classes": [],
            "_model_name": "OutputModel",
            "outputs": [
              {
                "output_type": "stream",
                "metadata": {
                  "tags": []
                },
                "text": "Video available at https://youtube.com/watch?v=Ox3ELd1UFyo\n",
                "stream": "stdout"
              },
              {
                "output_type": "display_data",
                "metadata": {
                  "tags": []
                },
                "text/html": "\n        <iframe\n            width=\"854\"\n            height=\"480\"\n            src=\"https://www.youtube.com/embed/Ox3ELd1UFyo?fs=1&rel=0\"\n            frameborder=\"0\"\n            allowfullscreen\n        ></iframe>\n        ",
                "text/plain": "<IPython.lib.display.YouTubeVideo at 0x7fc4244b7ed0>",
                "image/jpeg": "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\n"
              }
            ],
            "_view_module": "@jupyter-widgets/output",
            "_model_module_version": "1.0.0",
            "_view_count": null,
            "_view_module_version": "1.0.0",
            "layout": "IPY_MODEL_e6e2aa96d07a484d8c96ea448ed22464",
            "_model_module": "@jupyter-widgets/output"
          }
        },
        "763b0058df2c482a83b56fcc57d23a16": {
          "model_module": "@jupyter-widgets/output",
          "model_name": "OutputModel",
          "state": {
            "_view_name": "OutputView",
            "msg_id": "",
            "_dom_classes": [],
            "_model_name": "OutputModel",
            "outputs": [
              {
                "output_type": "stream",
                "metadata": {
                  "tags": []
                },
                "text": "Video available at https://www.bilibili.com/video/BV1v54y1v7Gr\n",
                "stream": "stdout"
              },
              {
                "output_type": "display_data",
                "metadata": {
                  "tags": []
                },
                "text/html": "\n        <iframe\n            width=\"854\"\n            height=\"480\"\n            src=\"https://player.bilibili.com/player.html?bvid=BV1v54y1v7Gr&page=1?fs=1\"\n            frameborder=\"0\"\n            allowfullscreen\n        ></iframe>\n        ",
                "text/plain": "<__main__.BiliVideo at 0x7fc42ca7f690>"
              }
            ],
            "_view_module": "@jupyter-widgets/output",
            "_model_module_version": "1.0.0",
            "_view_count": null,
            "_view_module_version": "1.0.0",
            "layout": "IPY_MODEL_887bba3ab2474599b8e0fb39612f8913",
            "_model_module": "@jupyter-widgets/output"
          }
        },
        "e6e2aa96d07a484d8c96ea448ed22464": {
          "model_module": "@jupyter-widgets/base",
          "model_name": "LayoutModel",
          "state": {
            "_view_name": "LayoutView",
            "grid_template_rows": null,
            "right": null,
            "justify_content": null,
            "_view_module": "@jupyter-widgets/base",
            "overflow": null,
            "_model_module_version": "1.2.0",
            "_view_count": null,
            "flex_flow": null,
            "width": null,
            "min_width": null,
            "border": null,
            "align_items": null,
            "bottom": null,
            "_model_module": "@jupyter-widgets/base",
            "top": null,
            "grid_column": null,
            "overflow_y": null,
            "overflow_x": null,
            "grid_auto_flow": null,
            "grid_area": null,
            "grid_template_columns": null,
            "flex": null,
            "_model_name": "LayoutModel",
            "justify_items": null,
            "grid_row": null,
            "max_height": null,
            "align_content": null,
            "visibility": null,
            "align_self": null,
            "height": null,
            "min_height": null,
            "padding": null,
            "grid_auto_rows": null,
            "grid_gap": null,
            "max_width": null,
            "order": null,
            "_view_module_version": "1.2.0",
            "grid_template_areas": null,
            "object_position": null,
            "object_fit": null,
            "grid_auto_columns": null,
            "margin": null,
            "display": null,
            "left": null
          }
        },
        "887bba3ab2474599b8e0fb39612f8913": {
          "model_module": "@jupyter-widgets/base",
          "model_name": "LayoutModel",
          "state": {
            "_view_name": "LayoutView",
            "grid_template_rows": null,
            "right": null,
            "justify_content": null,
            "_view_module": "@jupyter-widgets/base",
            "overflow": null,
            "_model_module_version": "1.2.0",
            "_view_count": null,
            "flex_flow": null,
            "width": null,
            "min_width": null,
            "border": null,
            "align_items": null,
            "bottom": null,
            "_model_module": "@jupyter-widgets/base",
            "top": null,
            "grid_column": null,
            "overflow_y": null,
            "overflow_x": null,
            "grid_auto_flow": null,
            "grid_area": null,
            "grid_template_columns": null,
            "flex": null,
            "_model_name": "LayoutModel",
            "justify_items": null,
            "grid_row": null,
            "max_height": null,
            "align_content": null,
            "visibility": null,
            "align_self": null,
            "height": null,
            "min_height": null,
            "padding": null,
            "grid_auto_rows": null,
            "grid_gap": null,
            "max_width": null,
            "order": null,
            "_view_module_version": "1.2.0",
            "grid_template_areas": null,
            "object_position": null,
            "object_fit": null,
            "grid_auto_columns": null,
            "margin": null,
            "display": null,
            "left": null
          }
        },
        "7b5485a08e6e49f28d0386ac85f4a12a": {
          "model_module": "@jupyter-widgets/controls",
          "model_name": "VBoxModel",
          "state": {
            "_view_name": "VBoxView",
            "_dom_classes": [
              "widget-interact"
            ],
            "_model_name": "VBoxModel",
            "_view_module": "@jupyter-widgets/controls",
            "_model_module_version": "1.5.0",
            "_view_count": null,
            "_view_module_version": "1.5.0",
            "box_style": "",
            "layout": "IPY_MODEL_088adcdc4bfd41a596e96ea3e851e8df",
            "_model_module": "@jupyter-widgets/controls",
            "children": [
              "IPY_MODEL_924b2d146dcf4133a0442ae6f248b6f0",
              "IPY_MODEL_6c30aff1dbb14f66a2ee17a008d1b1a6",
              "IPY_MODEL_86b70d7e159e42fa84023c41e60cf485"
            ]
          }
        },
        "088adcdc4bfd41a596e96ea3e851e8df": {
          "model_module": "@jupyter-widgets/base",
          "model_name": "LayoutModel",
          "state": {
            "_view_name": "LayoutView",
            "grid_template_rows": null,
            "right": null,
            "justify_content": null,
            "_view_module": "@jupyter-widgets/base",
            "overflow": null,
            "_model_module_version": "1.2.0",
            "_view_count": null,
            "flex_flow": null,
            "width": null,
            "min_width": null,
            "border": null,
            "align_items": null,
            "bottom": null,
            "_model_module": "@jupyter-widgets/base",
            "top": null,
            "grid_column": null,
            "overflow_y": null,
            "overflow_x": null,
            "grid_auto_flow": null,
            "grid_area": null,
            "grid_template_columns": null,
            "flex": null,
            "_model_name": "LayoutModel",
            "justify_items": null,
            "grid_row": null,
            "max_height": null,
            "align_content": null,
            "visibility": null,
            "align_self": null,
            "height": null,
            "min_height": null,
            "padding": null,
            "grid_auto_rows": null,
            "grid_gap": null,
            "max_width": null,
            "order": null,
            "_view_module_version": "1.2.0",
            "grid_template_areas": null,
            "object_position": null,
            "object_fit": null,
            "grid_auto_columns": null,
            "margin": null,
            "display": null,
            "left": null
          }
        },
        "924b2d146dcf4133a0442ae6f248b6f0": {
          "model_module": "@jupyter-widgets/controls",
          "model_name": "FloatSliderModel",
          "state": {
            "_view_name": "FloatSliderView",
            "style": "IPY_MODEL_d507729003d2400898e3a4c44aa16568",
            "_dom_classes": [],
            "description": "w",
            "step": 0.2,
            "_model_name": "FloatSliderModel",
            "orientation": "horizontal",
            "max": 7,
            "_view_module": "@jupyter-widgets/controls",
            "_model_module_version": "1.5.0",
            "value": 4,
            "_view_count": null,
            "disabled": false,
            "_view_module_version": "1.5.0",
            "min": 1,
            "continuous_update": true,
            "readout_format": ".2f",
            "description_tooltip": null,
            "readout": true,
            "_model_module": "@jupyter-widgets/controls",
            "layout": "IPY_MODEL_ddae4778d91b49bf80ba8cfa897304e6"
          }
        },
        "6c30aff1dbb14f66a2ee17a008d1b1a6": {
          "model_module": "@jupyter-widgets/controls",
          "model_name": "FloatSliderModel",
          "state": {
            "_view_name": "FloatSliderView",
            "style": "IPY_MODEL_000de95d20d54b678da49dd785768f9b",
            "_dom_classes": [],
            "description": "I_ext",
            "step": 0.1,
            "_model_name": "FloatSliderModel",
            "orientation": "horizontal",
            "max": 3,
            "_view_module": "@jupyter-widgets/controls",
            "_model_module_version": "1.5.0",
            "value": 1,
            "_view_count": null,
            "disabled": false,
            "_view_module_version": "1.5.0",
            "min": 0,
            "continuous_update": true,
            "readout_format": ".2f",
            "description_tooltip": null,
            "readout": true,
            "_model_module": "@jupyter-widgets/controls",
            "layout": "IPY_MODEL_9fc9399659ff4caeb97c67cc282b08fc"
          }
        },
        "86b70d7e159e42fa84023c41e60cf485": {
          "model_module": "@jupyter-widgets/output",
          "model_name": "OutputModel",
          "state": {
            "_view_name": "OutputView",
            "msg_id": "",
            "_dom_classes": [],
            "_model_name": "OutputModel",
            "outputs": [
              {
                "output_type": "display_data",
                "metadata": {
                  "tags": [],
                  "image/png": {
                    "width": 558,
                    "height": 413
                  },
                  "needs_background": "light"
                },
                "image/png": "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\n",
                "text/plain": "<Figure size 576x432 with 1 Axes>"
              }
            ],
            "_view_module": "@jupyter-widgets/output",
            "_model_module_version": "1.0.0",
            "_view_count": null,
            "_view_module_version": "1.0.0",
            "layout": "IPY_MODEL_476a845e35544d698583cef2db657730",
            "_model_module": "@jupyter-widgets/output"
          }
        },
        "d507729003d2400898e3a4c44aa16568": {
          "model_module": "@jupyter-widgets/controls",
          "model_name": "SliderStyleModel",
          "state": {
            "_view_name": "StyleView",
            "handle_color": null,
            "_model_name": "SliderStyleModel",
            "description_width": "",
            "_view_module": "@jupyter-widgets/base",
            "_model_module_version": "1.5.0",
            "_view_count": null,
            "_view_module_version": "1.2.0",
            "_model_module": "@jupyter-widgets/controls"
          }
        },
        "ddae4778d91b49bf80ba8cfa897304e6": {
          "model_module": "@jupyter-widgets/base",
          "model_name": "LayoutModel",
          "state": {
            "_view_name": "LayoutView",
            "grid_template_rows": null,
            "right": null,
            "justify_content": null,
            "_view_module": "@jupyter-widgets/base",
            "overflow": null,
            "_model_module_version": "1.2.0",
            "_view_count": null,
            "flex_flow": null,
            "width": null,
            "min_width": null,
            "border": null,
            "align_items": null,
            "bottom": null,
            "_model_module": "@jupyter-widgets/base",
            "top": null,
            "grid_column": null,
            "overflow_y": null,
            "overflow_x": null,
            "grid_auto_flow": null,
            "grid_area": null,
            "grid_template_columns": null,
            "flex": null,
            "_model_name": "LayoutModel",
            "justify_items": null,
            "grid_row": null,
            "max_height": null,
            "align_content": null,
            "visibility": null,
            "align_self": null,
            "height": null,
            "min_height": null,
            "padding": null,
            "grid_auto_rows": null,
            "grid_gap": null,
            "max_width": null,
            "order": null,
            "_view_module_version": "1.2.0",
            "grid_template_areas": null,
            "object_position": null,
            "object_fit": null,
            "grid_auto_columns": null,
            "margin": null,
            "display": null,
            "left": null
          }
        },
        "000de95d20d54b678da49dd785768f9b": {
          "model_module": "@jupyter-widgets/controls",
          "model_name": "SliderStyleModel",
          "state": {
            "_view_name": "StyleView",
            "handle_color": null,
            "_model_name": "SliderStyleModel",
            "description_width": "",
            "_view_module": "@jupyter-widgets/base",
            "_model_module_version": "1.5.0",
            "_view_count": null,
            "_view_module_version": "1.2.0",
            "_model_module": "@jupyter-widgets/controls"
          }
        },
        "9fc9399659ff4caeb97c67cc282b08fc": {
          "model_module": "@jupyter-widgets/base",
          "model_name": "LayoutModel",
          "state": {
            "_view_name": "LayoutView",
            "grid_template_rows": null,
            "right": null,
            "justify_content": null,
            "_view_module": "@jupyter-widgets/base",
            "overflow": null,
            "_model_module_version": "1.2.0",
            "_view_count": null,
            "flex_flow": null,
            "width": null,
            "min_width": null,
            "border": null,
            "align_items": null,
            "bottom": null,
            "_model_module": "@jupyter-widgets/base",
            "top": null,
            "grid_column": null,
            "overflow_y": null,
            "overflow_x": null,
            "grid_auto_flow": null,
            "grid_area": null,
            "grid_template_columns": null,
            "flex": null,
            "_model_name": "LayoutModel",
            "justify_items": null,
            "grid_row": null,
            "max_height": null,
            "align_content": null,
            "visibility": null,
            "align_self": null,
            "height": null,
            "min_height": null,
            "padding": null,
            "grid_auto_rows": null,
            "grid_gap": null,
            "max_width": null,
            "order": null,
            "_view_module_version": "1.2.0",
            "grid_template_areas": null,
            "object_position": null,
            "object_fit": null,
            "grid_auto_columns": null,
            "margin": null,
            "display": null,
            "left": null
          }
        },
        "476a845e35544d698583cef2db657730": {
          "model_module": "@jupyter-widgets/base",
          "model_name": "LayoutModel",
          "state": {
            "_view_name": "LayoutView",
            "grid_template_rows": null,
            "right": null,
            "justify_content": null,
            "_view_module": "@jupyter-widgets/base",
            "overflow": null,
            "_model_module_version": "1.2.0",
            "_view_count": null,
            "flex_flow": null,
            "width": null,
            "min_width": null,
            "border": null,
            "align_items": null,
            "bottom": null,
            "_model_module": "@jupyter-widgets/base",
            "top": null,
            "grid_column": null,
            "overflow_y": null,
            "overflow_x": null,
            "grid_auto_flow": null,
            "grid_area": null,
            "grid_template_columns": null,
            "flex": null,
            "_model_name": "LayoutModel",
            "justify_items": null,
            "grid_row": null,
            "max_height": null,
            "align_content": null,
            "visibility": null,
            "align_self": null,
            "height": null,
            "min_height": null,
            "padding": null,
            "grid_auto_rows": null,
            "grid_gap": null,
            "max_width": null,
            "order": null,
            "_view_module_version": "1.2.0",
            "grid_template_areas": null,
            "object_position": null,
            "object_fit": null,
            "grid_auto_columns": null,
            "margin": null,
            "display": null,
            "left": null
          }
        },
        "2408c091be564891a29d35c07444d8aa": {
          "model_module": "@jupyter-widgets/controls",
          "model_name": "VBoxModel",
          "state": {
            "_view_name": "VBoxView",
            "_dom_classes": [
              "widget-interact"
            ],
            "_model_name": "VBoxModel",
            "_view_module": "@jupyter-widgets/controls",
            "_model_module_version": "1.5.0",
            "_view_count": null,
            "_view_module_version": "1.5.0",
            "box_style": "",
            "layout": "IPY_MODEL_d2923ee2539547349b9e64df2e3355b7",
            "_model_module": "@jupyter-widgets/controls",
            "children": [
              "IPY_MODEL_cb0100f06ae44026aa52699cef246370",
              "IPY_MODEL_fa30c01b2dcf4600bb3bed8f6fe0f713"
            ]
          }
        },
        "d2923ee2539547349b9e64df2e3355b7": {
          "model_module": "@jupyter-widgets/base",
          "model_name": "LayoutModel",
          "state": {
            "_view_name": "LayoutView",
            "grid_template_rows": null,
            "right": null,
            "justify_content": null,
            "_view_module": "@jupyter-widgets/base",
            "overflow": null,
            "_model_module_version": "1.2.0",
            "_view_count": null,
            "flex_flow": null,
            "width": null,
            "min_width": null,
            "border": null,
            "align_items": null,
            "bottom": null,
            "_model_module": "@jupyter-widgets/base",
            "top": null,
            "grid_column": null,
            "overflow_y": null,
            "overflow_x": null,
            "grid_auto_flow": null,
            "grid_area": null,
            "grid_template_columns": null,
            "flex": null,
            "_model_name": "LayoutModel",
            "justify_items": null,
            "grid_row": null,
            "max_height": null,
            "align_content": null,
            "visibility": null,
            "align_self": null,
            "height": null,
            "min_height": null,
            "padding": null,
            "grid_auto_rows": null,
            "grid_gap": null,
            "max_width": null,
            "order": null,
            "_view_module_version": "1.2.0",
            "grid_template_areas": null,
            "object_position": null,
            "object_fit": null,
            "grid_auto_columns": null,
            "margin": null,
            "display": null,
            "left": null
          }
        },
        "cb0100f06ae44026aa52699cef246370": {
          "model_module": "@jupyter-widgets/controls",
          "model_name": "FloatSliderModel",
          "state": {
            "_view_name": "FloatSliderView",
            "style": "IPY_MODEL_1f130c251f89428f945357e5ce55042e",
            "_dom_classes": [],
            "description": "r_init",
            "step": 0.02,
            "_model_name": "FloatSliderModel",
            "orientation": "horizontal",
            "max": 1,
            "_view_module": "@jupyter-widgets/controls",
            "_model_module_version": "1.5.0",
            "value": 0,
            "_view_count": null,
            "disabled": false,
            "_view_module_version": "1.5.0",
            "min": 0,
            "continuous_update": true,
            "readout_format": ".2f",
            "description_tooltip": null,
            "readout": true,
            "_model_module": "@jupyter-widgets/controls",
            "layout": "IPY_MODEL_21119376011a4c2fbb2bbf4bfe73fcd1"
          }
        },
        "fa30c01b2dcf4600bb3bed8f6fe0f713": {
          "model_module": "@jupyter-widgets/output",
          "model_name": "OutputModel",
          "state": {
            "_view_name": "OutputView",
            "msg_id": "",
            "_dom_classes": [],
            "_model_name": "OutputModel",
            "outputs": [
              {
                "output_type": "display_data",
                "metadata": {
                  "tags": [],
                  "image/png": {
                    "width": 558,
                    "height": 413
                  },
                  "needs_background": "light"
                },
                "image/png": "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\n",
                "text/plain": "<Figure size 576x432 with 1 Axes>"
              }
            ],
            "_view_module": "@jupyter-widgets/output",
            "_model_module_version": "1.0.0",
            "_view_count": null,
            "_view_module_version": "1.0.0",
            "layout": "IPY_MODEL_d178e36a522a4612a3d683d1bb34ab0d",
            "_model_module": "@jupyter-widgets/output"
          }
        },
        "1f130c251f89428f945357e5ce55042e": {
          "model_module": "@jupyter-widgets/controls",
          "model_name": "SliderStyleModel",
          "state": {
            "_view_name": "StyleView",
            "handle_color": null,
            "_model_name": "SliderStyleModel",
            "description_width": "",
            "_view_module": "@jupyter-widgets/base",
            "_model_module_version": "1.5.0",
            "_view_count": null,
            "_view_module_version": "1.2.0",
            "_model_module": "@jupyter-widgets/controls"
          }
        },
        "21119376011a4c2fbb2bbf4bfe73fcd1": {
          "model_module": "@jupyter-widgets/base",
          "model_name": "LayoutModel",
          "state": {
            "_view_name": "LayoutView",
            "grid_template_rows": null,
            "right": null,
            "justify_content": null,
            "_view_module": "@jupyter-widgets/base",
            "overflow": null,
            "_model_module_version": "1.2.0",
            "_view_count": null,
            "flex_flow": null,
            "width": null,
            "min_width": null,
            "border": null,
            "align_items": null,
            "bottom": null,
            "_model_module": "@jupyter-widgets/base",
            "top": null,
            "grid_column": null,
            "overflow_y": null,
            "overflow_x": null,
            "grid_auto_flow": null,
            "grid_area": null,
            "grid_template_columns": null,
            "flex": null,
            "_model_name": "LayoutModel",
            "justify_items": null,
            "grid_row": null,
            "max_height": null,
            "align_content": null,
            "visibility": null,
            "align_self": null,
            "height": null,
            "min_height": null,
            "padding": null,
            "grid_auto_rows": null,
            "grid_gap": null,
            "max_width": null,
            "order": null,
            "_view_module_version": "1.2.0",
            "grid_template_areas": null,
            "object_position": null,
            "object_fit": null,
            "grid_auto_columns": null,
            "margin": null,
            "display": null,
            "left": null
          }
        },
        "d178e36a522a4612a3d683d1bb34ab0d": {
          "model_module": "@jupyter-widgets/base",
          "model_name": "LayoutModel",
          "state": {
            "_view_name": "LayoutView",
            "grid_template_rows": null,
            "right": null,
            "justify_content": null,
            "_view_module": "@jupyter-widgets/base",
            "overflow": null,
            "_model_module_version": "1.2.0",
            "_view_count": null,
            "flex_flow": null,
            "width": null,
            "min_width": null,
            "border": null,
            "align_items": null,
            "bottom": null,
            "_model_module": "@jupyter-widgets/base",
            "top": null,
            "grid_column": null,
            "overflow_y": null,
            "overflow_x": null,
            "grid_auto_flow": null,
            "grid_area": null,
            "grid_template_columns": null,
            "flex": null,
            "_model_name": "LayoutModel",
            "justify_items": null,
            "grid_row": null,
            "max_height": null,
            "align_content": null,
            "visibility": null,
            "align_self": null,
            "height": null,
            "min_height": null,
            "padding": null,
            "grid_auto_rows": null,
            "grid_gap": null,
            "max_width": null,
            "order": null,
            "_view_module_version": "1.2.0",
            "grid_template_areas": null,
            "object_position": null,
            "object_fit": null,
            "grid_auto_columns": null,
            "margin": null,
            "display": null,
            "left": null
          }
        },
        "e205fca69ace4ed2aac682f66b2e56c8": {
          "model_module": "@jupyter-widgets/controls",
          "model_name": "TabModel",
          "state": {
            "_view_name": "TabView",
            "_dom_classes": [],
            "_titles": {
              "0": "Youtube",
              "1": "Bilibili"
            },
            "_model_name": "TabModel",
            "_view_module": "@jupyter-widgets/controls",
            "selected_index": 0,
            "_model_module_version": "1.5.0",
            "_view_count": null,
            "_view_module_version": "1.5.0",
            "box_style": "",
            "layout": "IPY_MODEL_9bae15679c574705bf34571f431d1f98",
            "_model_module": "@jupyter-widgets/controls",
            "children": [
              "IPY_MODEL_dd15a503c042415caf58f25476f7e887",
              "IPY_MODEL_778400d7a31442e28d2d4d0a86897540"
            ]
          }
        },
        "9bae15679c574705bf34571f431d1f98": {
          "model_module": "@jupyter-widgets/base",
          "model_name": "LayoutModel",
          "state": {
            "_view_name": "LayoutView",
            "grid_template_rows": null,
            "right": null,
            "justify_content": null,
            "_view_module": "@jupyter-widgets/base",
            "overflow": null,
            "_model_module_version": "1.2.0",
            "_view_count": null,
            "flex_flow": null,
            "width": null,
            "min_width": null,
            "border": null,
            "align_items": null,
            "bottom": null,
            "_model_module": "@jupyter-widgets/base",
            "top": null,
            "grid_column": null,
            "overflow_y": null,
            "overflow_x": null,
            "grid_auto_flow": null,
            "grid_area": null,
            "grid_template_columns": null,
            "flex": null,
            "_model_name": "LayoutModel",
            "justify_items": null,
            "grid_row": null,
            "max_height": null,
            "align_content": null,
            "visibility": null,
            "align_self": null,
            "height": null,
            "min_height": null,
            "padding": null,
            "grid_auto_rows": null,
            "grid_gap": null,
            "max_width": null,
            "order": null,
            "_view_module_version": "1.2.0",
            "grid_template_areas": null,
            "object_position": null,
            "object_fit": null,
            "grid_auto_columns": null,
            "margin": null,
            "display": null,
            "left": null
          }
        },
        "dd15a503c042415caf58f25476f7e887": {
          "model_module": "@jupyter-widgets/output",
          "model_name": "OutputModel",
          "state": {
            "_view_name": "OutputView",
            "msg_id": "",
            "_dom_classes": [],
            "_model_name": "OutputModel",
            "outputs": [
              {
                "output_type": "stream",
                "metadata": {
                  "tags": []
                },
                "text": "Video available at https://youtube.com/watch?v=KKMlWWU83Jg\n",
                "stream": "stdout"
              },
              {
                "output_type": "display_data",
                "metadata": {
                  "tags": []
                },
                "text/html": "\n        <iframe\n            width=\"854\"\n            height=\"480\"\n            src=\"https://www.youtube.com/embed/KKMlWWU83Jg?fs=1&rel=0\"\n            frameborder=\"0\"\n            allowfullscreen\n        ></iframe>\n        ",
                "text/plain": "<IPython.lib.display.YouTubeVideo at 0x7fc42445f890>",
                "image/jpeg": "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\n"
              }
            ],
            "_view_module": "@jupyter-widgets/output",
            "_model_module_version": "1.0.0",
            "_view_count": null,
            "_view_module_version": "1.0.0",
            "layout": "IPY_MODEL_6c7f3651d73b4fa6988a17ee74b83735",
            "_model_module": "@jupyter-widgets/output"
          }
        },
        "778400d7a31442e28d2d4d0a86897540": {
          "model_module": "@jupyter-widgets/output",
          "model_name": "OutputModel",
          "state": {
            "_view_name": "OutputView",
            "msg_id": "",
            "_dom_classes": [],
            "_model_name": "OutputModel",
            "outputs": [
              {
                "output_type": "stream",
                "metadata": {
                  "tags": []
                },
                "text": "Video available at https://www.bilibili.com/video/BV1oA411e7eg\n",
                "stream": "stdout"
              },
              {
                "output_type": "display_data",
                "metadata": {
                  "tags": []
                },
                "text/html": "\n        <iframe\n            width=\"854\"\n            height=\"480\"\n            src=\"https://player.bilibili.com/player.html?bvid=BV1oA411e7eg&page=1?fs=1\"\n            frameborder=\"0\"\n            allowfullscreen\n        ></iframe>\n        ",
                "text/plain": "<__main__.BiliVideo at 0x7fc4242d2290>"
              }
            ],
            "_view_module": "@jupyter-widgets/output",
            "_model_module_version": "1.0.0",
            "_view_count": null,
            "_view_module_version": "1.0.0",
            "layout": "IPY_MODEL_9ae4965bd75c4b858c66a03dfc925e38",
            "_model_module": "@jupyter-widgets/output"
          }
        },
        "6c7f3651d73b4fa6988a17ee74b83735": {
          "model_module": "@jupyter-widgets/base",
          "model_name": "LayoutModel",
          "state": {
            "_view_name": "LayoutView",
            "grid_template_rows": null,
            "right": null,
            "justify_content": null,
            "_view_module": "@jupyter-widgets/base",
            "overflow": null,
            "_model_module_version": "1.2.0",
            "_view_count": null,
            "flex_flow": null,
            "width": null,
            "min_width": null,
            "border": null,
            "align_items": null,
            "bottom": null,
            "_model_module": "@jupyter-widgets/base",
            "top": null,
            "grid_column": null,
            "overflow_y": null,
            "overflow_x": null,
            "grid_auto_flow": null,
            "grid_area": null,
            "grid_template_columns": null,
            "flex": null,
            "_model_name": "LayoutModel",
            "justify_items": null,
            "grid_row": null,
            "max_height": null,
            "align_content": null,
            "visibility": null,
            "align_self": null,
            "height": null,
            "min_height": null,
            "padding": null,
            "grid_auto_rows": null,
            "grid_gap": null,
            "max_width": null,
            "order": null,
            "_view_module_version": "1.2.0",
            "grid_template_areas": null,
            "object_position": null,
            "object_fit": null,
            "grid_auto_columns": null,
            "margin": null,
            "display": null,
            "left": null
          }
        },
        "9ae4965bd75c4b858c66a03dfc925e38": {
          "model_module": "@jupyter-widgets/base",
          "model_name": "LayoutModel",
          "state": {
            "_view_name": "LayoutView",
            "grid_template_rows": null,
            "right": null,
            "justify_content": null,
            "_view_module": "@jupyter-widgets/base",
            "overflow": null,
            "_model_module_version": "1.2.0",
            "_view_count": null,
            "flex_flow": null,
            "width": null,
            "min_width": null,
            "border": null,
            "align_items": null,
            "bottom": null,
            "_model_module": "@jupyter-widgets/base",
            "top": null,
            "grid_column": null,
            "overflow_y": null,
            "overflow_x": null,
            "grid_auto_flow": null,
            "grid_area": null,
            "grid_template_columns": null,
            "flex": null,
            "_model_name": "LayoutModel",
            "justify_items": null,
            "grid_row": null,
            "max_height": null,
            "align_content": null,
            "visibility": null,
            "align_self": null,
            "height": null,
            "min_height": null,
            "padding": null,
            "grid_auto_rows": null,
            "grid_gap": null,
            "max_width": null,
            "order": null,
            "_view_module_version": "1.2.0",
            "grid_template_areas": null,
            "object_position": null,
            "object_fit": null,
            "grid_auto_columns": null,
            "margin": null,
            "display": null,
            "left": null
          }
        }
      }
    }
  },
  "cells": [
    {
      "cell_type": "markdown",
      "metadata": {
        "id": "view-in-github",
        "colab_type": "text"
      },
      "source": [
        "<a href=\"https://colab.research.google.com/github/Deepak-Mewada/NMA-CN/blob/main/tutorials/W2D4_DynamicNetworks/student/W2D4_Tutorial1.ipynb\" target=\"_parent\"><img src=\"https://colab.research.google.com/assets/colab-badge.svg\" alt=\"Open In Colab\"/></a>"
      ]
    },
    {
      "cell_type": "markdown",
      "metadata": {
        "execution": {},
        "id": "GuKdaigpILYL"
      },
      "source": [
        "# Tutorial 1: Neural Rate Models\n",
        "**Week 2, Day 4: Dynamic Networks**\n",
        "\n",
        "**By Neuromatch Academy**\n",
        "\n",
        "__Content creators:__ Qinglong Gu, Songtin Li, Arvind Kumar, John Murray, Julijana Gjorgjieva \n",
        "\n",
        "__Content reviewers:__  Maryam Vaziri-Pashkam, Ella Batty, Lorenzo Fontolan, Richard Gao, Spiros Chavlis, Michael Waskom, Siddharth Suresh"
      ]
    },
    {
      "cell_type": "markdown",
      "metadata": {
        "execution": {},
        "id": "wL2ZjnjdILYT"
      },
      "source": [
        "**Our 2021 Sponsors, including Presenting Sponsor Facebook Reality Labs**\n",
        "\n",
        "<p align='center'><img src='https://github.com/NeuromatchAcademy/widgets/blob/master/sponsors.png?raw=True'/></p>"
      ]
    },
    {
      "cell_type": "markdown",
      "metadata": {
        "execution": {},
        "id": "dxvvimGQILYU"
      },
      "source": [
        "---\n",
        "# Tutorial Objectives\n",
        "\n",
        "*Estimated timing of tutorial: 1 hour, 25 minutes*\n",
        "\n",
        "The brain is a complex system, not because it is composed of a large number of diverse types of neurons, but mainly because of how neurons are connected to each other. The brain is indeed a network of highly specialized neuronal networks. \n",
        "\n",
        "The activity of a neural network constantly evolves in time. For this reason, neurons can be modeled as dynamical systems. The dynamical system approach is only one of the many modeling approaches that computational neuroscientists have developed (other points of view include information processing,  statistical models, etc.). \n",
        "\n",
        "How the dynamics of neuronal networks affect the representation and processing of information in the brain is an open question. However, signatures of altered brain dynamics present in many brain diseases (e.g., in epilepsy or Parkinson's disease) tell us that it is crucial to study network activity dynamics if we want to understand the brain.\n",
        "\n",
        "In this tutorial, we will simulate and study one of the simplest models of biological neuronal networks. Instead of modeling and simulating individual excitatory neurons (e.g., LIF models that you implemented yesterday), we will treat them as a single homogeneous population and approximate their dynamics using a single one-dimensional equation describing the evolution of their average spiking rate in time.\n",
        "\n",
        "In this tutorial, we will learn how to build a firing rate model of a single population of excitatory neurons. \n",
        "\n",
        "**Steps:**\n",
        "- Write the equation for the firing rate dynamics of a 1D excitatory population.\n",
        "- Visualize the response of the population as a function of parameters such as threshold level and gain, using the frequency-current (F-I) curve.\n",
        "- Numerically simulate the dynamics of the excitatory population and find the fixed points of the system. \n",
        "\n"
      ]
    },
    {
      "cell_type": "code",
      "metadata": {
        "cellView": "form",
        "execution": {},
        "colab": {
          "base_uri": "https://localhost:8080/",
          "height": 501
        },
        "id": "GrPLpPP0ILYX",
        "outputId": "0c1e8f5a-5cd0-497f-faca-a2bc21974214"
      },
      "source": [
        "# @title Tutorial slides\n",
        "\n",
        "# @markdown These are the slides for the videos in all tutorials today\n",
        "from IPython.display import IFrame\n",
        "IFrame(src=f\"https://mfr.ca-1.osf.io/render?url=https://osf.io/nvuty/?direct%26mode=render%26action=download%26mode=render\", width=854, height=480)"
      ],
      "execution_count": 34,
      "outputs": [
        {
          "output_type": "execute_result",
          "data": {
            "text/html": [
              "\n",
              "        <iframe\n",
              "            width=\"854\"\n",
              "            height=\"480\"\n",
              "            src=\"https://mfr.ca-1.osf.io/render?url=https://osf.io/nvuty/?direct%26mode=render%26action=download%26mode=render\"\n",
              "            frameborder=\"0\"\n",
              "            allowfullscreen\n",
              "        ></iframe>\n",
              "        "
            ],
            "text/plain": [
              "<IPython.lib.display.IFrame at 0x7fc4241bd9d0>"
            ]
          },
          "metadata": {
            "tags": []
          },
          "execution_count": 34
        }
      ]
    },
    {
      "cell_type": "markdown",
      "metadata": {
        "execution": {},
        "id": "lVeF62jNILYY"
      },
      "source": [
        "---\n",
        "# Setup"
      ]
    },
    {
      "cell_type": "code",
      "metadata": {
        "cellView": "both",
        "execution": {},
        "id": "CzxLCGvgILYa"
      },
      "source": [
        "# Imports\n",
        "\n",
        "import matplotlib.pyplot as plt\n",
        "import numpy as np\n",
        "import scipy.optimize as opt       # root-finding algorithm"
      ],
      "execution_count": 35,
      "outputs": []
    },
    {
      "cell_type": "code",
      "metadata": {
        "cellView": "form",
        "execution": {},
        "id": "nkFiNDcVILYb"
      },
      "source": [
        "# @title Figure Settings\n",
        "import ipywidgets as widgets       # interactive display\n",
        "%config InlineBackend.figure_format = 'retina'\n",
        "plt.style.use(\"https://raw.githubusercontent.com/NeuromatchAcademy/course-content/master/nma.mplstyle\")"
      ],
      "execution_count": 36,
      "outputs": []
    },
    {
      "cell_type": "code",
      "metadata": {
        "cellView": "form",
        "execution": {},
        "id": "FeafGwXoILYc"
      },
      "source": [
        "# @title Plotting Functions\n",
        "\n",
        "\n",
        "def plot_fI(x, f):\n",
        "  plt.figure(figsize=(6, 4))  # plot the figure\n",
        "  plt.plot(x, f, 'k')\n",
        "  plt.xlabel('x (a.u.)', fontsize=14)\n",
        "  plt.ylabel('F(x)', fontsize=14)\n",
        "  plt.show()\n",
        "\n",
        "\n",
        "def plot_dr_r(r, drdt, x_fps=None):\n",
        "  plt.figure()\n",
        "  plt.plot(r, drdt, 'k')\n",
        "  plt.plot(r, 0. * r, 'k--')\n",
        "  if x_fps is not None:\n",
        "    plt.plot(x_fps, np.zeros_like(x_fps), \"ko\", ms=12)\n",
        "  plt.xlabel(r'$r$')\n",
        "  plt.ylabel(r'$\\frac{dr}{dt}$', fontsize=20)\n",
        "  plt.ylim(-0.1, 0.1)\n",
        "\n",
        "\n",
        "def plot_dFdt(x, dFdt):\n",
        "  plt.figure()\n",
        "  plt.plot(x, dFdt, 'r')\n",
        "  plt.xlabel('x (a.u.)', fontsize=14)\n",
        "  plt.ylabel('dF(x)', fontsize=14)\n",
        "  plt.show()"
      ],
      "execution_count": 37,
      "outputs": []
    },
    {
      "cell_type": "markdown",
      "metadata": {
        "execution": {},
        "id": "-jASG-xXILYd"
      },
      "source": [
        "---\n",
        "# Section 1: Neuronal network dynamics"
      ]
    },
    {
      "cell_type": "code",
      "metadata": {
        "cellView": "form",
        "execution": {},
        "colab": {
          "base_uri": "https://localhost:8080/",
          "height": 582,
          "referenced_widgets": [
            "f7de02e94e2a4d56b97d4a01c7e994c1",
            "264f6881410243158c9e3fc6eddbaa07",
            "f0c272c58660414e83ace3a21487d244",
            "7310956e002f430dabc826a09f69bf46",
            "15d8df97b6a94d179bb776d39db5c247",
            "c8f0deb5391441fcafbe65ebe52ab3bf"
          ]
        },
        "id": "pmAQOFcGILYk",
        "outputId": "9f92d0ed-a45f-4203-c154-6157d1c943ee"
      },
      "source": [
        "# @title Video 1: Dynamic networks\n",
        "from ipywidgets import widgets\n",
        "\n",
        "out2 = widgets.Output()\n",
        "with out2:\n",
        "  from IPython.display import IFrame\n",
        "  class BiliVideo(IFrame):\n",
        "      def __init__(self, id, page=1, width=400, height=300, **kwargs):\n",
        "          self.id=id\n",
        "          src = 'https://player.bilibili.com/player.html?bvid={0}&page={1}'.format(id, page)\n",
        "          super(BiliVideo, self).__init__(src, width, height, **kwargs)\n",
        "\n",
        "  video = BiliVideo(id=\"BV1dh411o7qJ\", width=854, height=480, fs=1)\n",
        "  print('Video available at https://www.bilibili.com/video/{0}'.format(video.id))\n",
        "  display(video)\n",
        "\n",
        "out1 = widgets.Output()\n",
        "with out1:\n",
        "  from IPython.display import YouTubeVideo\n",
        "  video = YouTubeVideo(id=\"p848349hPyw\", width=854, height=480, fs=1, rel=0)\n",
        "  print('Video available at https://youtube.com/watch?v=' + video.id)\n",
        "  display(video)\n",
        "\n",
        "out = widgets.Tab([out1, out2])\n",
        "out.set_title(0, 'Youtube')\n",
        "out.set_title(1, 'Bilibili')\n",
        "\n",
        "display(out)"
      ],
      "execution_count": 38,
      "outputs": [
        {
          "output_type": "display_data",
          "data": {
            "application/vnd.jupyter.widget-view+json": {
              "model_id": "f7de02e94e2a4d56b97d4a01c7e994c1",
              "version_minor": 0,
              "version_major": 2
            },
            "text/plain": [
              "Tab(children=(Output(), Output()), _titles={'0': 'Youtube', '1': 'Bilibili'})"
            ]
          },
          "metadata": {
            "tags": []
          }
        }
      ]
    },
    {
      "cell_type": "markdown",
      "metadata": {
        "execution": {},
        "id": "GeYh461vILYm"
      },
      "source": [
        "This video covers how to model a network with a single population of neurons and introduces neural rate-based models. It overviews feedforward networks and defines the F-I (firing rate vs. input) curve."
      ]
    },
    {
      "cell_type": "markdown",
      "metadata": {
        "execution": {},
        "id": "hS_eDmFPILY3"
      },
      "source": [
        "## Section 1.1: Dynamics of a single excitatory population\n",
        "\n",
        "\n",
        "<details>\n",
        "<summary> <font color='blue'>Click here for text recap of relevant part of video </font></summary>\n",
        "\n",
        "Individual neurons respond by spiking. When we average the spikes of neurons in a population, we can define the average firing activity of the population. In this model, we are interested in how the population-averaged firing varies as a function of time and network parameters. Mathematically, we can describe the firing rate dynamic of a feed-forward network as:\n",
        "\n",
        "\\begin{align}\n",
        "\\tau \\frac{dr}{dt} &= -r + F(I_{\\text{ext}})  \\quad\\qquad (1)\n",
        "\\end{align}\n",
        "\n",
        "$r(t)$ represents the average firing rate of the excitatory population at time $t$, $\\tau$ controls the timescale of the evolution of the average firing rate, $I_{\\text{ext}}$ represents the external input, and the transfer function $F(\\cdot)$ (which can be related to f-I curve of individual neurons described in the next sections) represents the population activation function in response to all received inputs.\n",
        "\n",
        "</details>\n",
        "\n",
        "To start building the model, please execute the cell below to initialize the simulation parameters."
      ]
    },
    {
      "cell_type": "code",
      "metadata": {
        "execution": {},
        "colab": {
          "base_uri": "https://localhost:8080/"
        },
        "id": "UjZCdifoILY_",
        "outputId": "ef66b765-9727-4871-cdf9-f9b1ea5be911"
      },
      "source": [
        "# @markdown *Execute this cell to set default parameters for a single excitatory population model*\n",
        "\n",
        "\n",
        "def default_pars_single(**kwargs):\n",
        "  pars = {}\n",
        "\n",
        "  # Excitatory parameters\n",
        "  pars['tau'] = 1.     # Timescale of the E population [ms]\n",
        "  pars['a'] = 1.2      # Gain of the E population\n",
        "  pars['theta'] = 2.8  # Threshold of the E population\n",
        "\n",
        "  # Connection strength\n",
        "  pars['w'] = 0.  # E to E, we first set it to 0\n",
        "\n",
        "  # External input\n",
        "  pars['I_ext'] = 0.\n",
        "\n",
        "  # simulation parameters\n",
        "  pars['T'] = 20.       # Total duration of simulation [ms]\n",
        "  pars['dt'] = .1       # Simulation time step [ms]\n",
        "  pars['r_init'] = 0.2  # Initial value of E\n",
        "\n",
        "  # External parameters if any\n",
        "  pars.update(kwargs)\n",
        "\n",
        "  # Vector of discretized time points [ms]\n",
        "  pars['range_t'] = np.arange(0, pars['T'], pars['dt'])\n",
        "\n",
        "  return pars\n",
        "\n",
        "pars = default_pars_single()\n",
        "print(pars)"
      ],
      "execution_count": 39,
      "outputs": [
        {
          "output_type": "stream",
          "text": [
            "{'tau': 1.0, 'a': 1.2, 'theta': 2.8, 'w': 0.0, 'I_ext': 0.0, 'T': 20.0, 'dt': 0.1, 'r_init': 0.2, 'range_t': array([ 0. ,  0.1,  0.2,  0.3,  0.4,  0.5,  0.6,  0.7,  0.8,  0.9,  1. ,\n",
            "        1.1,  1.2,  1.3,  1.4,  1.5,  1.6,  1.7,  1.8,  1.9,  2. ,  2.1,\n",
            "        2.2,  2.3,  2.4,  2.5,  2.6,  2.7,  2.8,  2.9,  3. ,  3.1,  3.2,\n",
            "        3.3,  3.4,  3.5,  3.6,  3.7,  3.8,  3.9,  4. ,  4.1,  4.2,  4.3,\n",
            "        4.4,  4.5,  4.6,  4.7,  4.8,  4.9,  5. ,  5.1,  5.2,  5.3,  5.4,\n",
            "        5.5,  5.6,  5.7,  5.8,  5.9,  6. ,  6.1,  6.2,  6.3,  6.4,  6.5,\n",
            "        6.6,  6.7,  6.8,  6.9,  7. ,  7.1,  7.2,  7.3,  7.4,  7.5,  7.6,\n",
            "        7.7,  7.8,  7.9,  8. ,  8.1,  8.2,  8.3,  8.4,  8.5,  8.6,  8.7,\n",
            "        8.8,  8.9,  9. ,  9.1,  9.2,  9.3,  9.4,  9.5,  9.6,  9.7,  9.8,\n",
            "        9.9, 10. , 10.1, 10.2, 10.3, 10.4, 10.5, 10.6, 10.7, 10.8, 10.9,\n",
            "       11. , 11.1, 11.2, 11.3, 11.4, 11.5, 11.6, 11.7, 11.8, 11.9, 12. ,\n",
            "       12.1, 12.2, 12.3, 12.4, 12.5, 12.6, 12.7, 12.8, 12.9, 13. , 13.1,\n",
            "       13.2, 13.3, 13.4, 13.5, 13.6, 13.7, 13.8, 13.9, 14. , 14.1, 14.2,\n",
            "       14.3, 14.4, 14.5, 14.6, 14.7, 14.8, 14.9, 15. , 15.1, 15.2, 15.3,\n",
            "       15.4, 15.5, 15.6, 15.7, 15.8, 15.9, 16. , 16.1, 16.2, 16.3, 16.4,\n",
            "       16.5, 16.6, 16.7, 16.8, 16.9, 17. , 17.1, 17.2, 17.3, 17.4, 17.5,\n",
            "       17.6, 17.7, 17.8, 17.9, 18. , 18.1, 18.2, 18.3, 18.4, 18.5, 18.6,\n",
            "       18.7, 18.8, 18.9, 19. , 19.1, 19.2, 19.3, 19.4, 19.5, 19.6, 19.7,\n",
            "       19.8, 19.9])}\n"
          ],
          "name": "stdout"
        }
      ]
    },
    {
      "cell_type": "markdown",
      "metadata": {
        "execution": {},
        "id": "hS37mljeILZA"
      },
      "source": [
        "You can now use:\n",
        "- `pars = default_pars_single()` to get all the parameters. \n",
        "- `pars = default_pars_single(T=T_sim, dt=time_step)` to set new simulation time and time step\n",
        "- To update an existing parameter dictionary, use `pars['New_para'] = value`\n",
        "\n",
        "Because `pars` is a dictionary, it can be passed to a function that requires individual parameters as arguments using `my_func(**pars)` syntax."
      ]
    },
    {
      "cell_type": "markdown",
      "metadata": {
        "execution": {},
        "id": "Y7i9-i5qILZB"
      },
      "source": [
        "## Section 1.2: F-I curves\n",
        "\n",
        "*Estimated timing to here from start of tutorial: 17 min*\n",
        "\n",
        "<details>\n",
        "<summary> <font color='blue'>Click here for text recap of relevant part of video </font></summary>\n",
        "\n",
        "In electrophysiology, a neuron is often characterized by its spike rate output in response to input currents. This is often called the **F-I** curve, denoting the output spike frequency (**F**) in response to different injected currents (**I**). We estimated this for an LIF neuron in yesterday's tutorial.\n",
        "\n",
        "The transfer function $F(\\cdot)$ in Equation $1$ represents the gain of the population as a function of the total input. The gain is often modeled as a sigmoidal function, i.e., more input drive leads to a nonlinear increase in the population firing rate. The output firing rate will eventually saturate for high input values. \n",
        "\n",
        "A sigmoidal $F(\\cdot)$ is parameterized by its gain $a$ and threshold $\\theta$.\n",
        "\n",
        "$$ F(x;a,\\theta) = \\frac{1}{1+\\text{e}^{-a(x-\\theta)}} - \\frac{1}{1+\\text{e}^{a\\theta}}  \\quad(2)$$\n",
        "\n",
        "The argument $x$ represents the input to the population. Note that the second term is chosen so that $F(0;a,\\theta)=0$.\n",
        "\n",
        "Many other transfer functions (generally monotonic) can be also used. Examples are the rectified linear function $ReLU(x)$ or the hyperbolic tangent $tanh(x)$."
      ]
    },
    {
      "cell_type": "markdown",
      "metadata": {
        "execution": {},
        "id": "O9jsc7WWILZI"
      },
      "source": [
        "### Coding Exercise 1.2: Implement F-I curve \n",
        "\n",
        "Let's first investigate the activation functions before simulating the dynamics of the entire population. \n",
        "\n",
        "In this exercise, you will implement a sigmoidal **F-I** curve or transfer function $F(x)$, with gain $a$ and threshold level $\\theta$ as parameters:\n",
        "\n",
        "$$ F(x;a,\\theta) = \\frac{1}{1+\\text{e}^{-a(x-\\theta)}} - \\frac{1}{1+\\text{e}^{a\\theta}}$$"
      ]
    },
    {
      "cell_type": "code",
      "metadata": {
        "execution": {},
        "colab": {
          "base_uri": "https://localhost:8080/",
          "height": 286
        },
        "id": "ONzDpszKILZJ",
        "outputId": "3b961616-66b8-47e1-b4e8-52fb36f664a3"
      },
      "source": [
        "def F(x, a, theta):\n",
        "  \"\"\"\n",
        "  Population activation function.\n",
        "\n",
        "  Args:\n",
        "    x (float): the population input\n",
        "    a (float): the gain of the function\n",
        "    theta (float): the threshold of the function\n",
        "\n",
        "  Returns:\n",
        "    float: the population activation response F(x) for input x\n",
        "  \"\"\"\n",
        "  #################################################\n",
        "  ## TODO for students: compute f = F(x) ##\n",
        "  # Fill out function and remove\n",
        "  #raise NotImplementedError(\"Student excercise: implement the f-I function\")\n",
        "  #################################################\n",
        "\n",
        "  # Define the sigmoidal transfer function f = F(x)\n",
        "  f = 1.0/(1+np.exp(-a*(x-theta)))-1.0/(1+np.exp(a*theta))\n",
        "\n",
        "  return f\n",
        "\n",
        "\n",
        "# Set parameters\n",
        "pars = default_pars_single()  # get default parameters\n",
        "x = np.arange(0, 10, .1)      # set the range of input\n",
        "\n",
        "# Compute transfer function\n",
        "f = F(x, pars['a'], pars['theta'])\n",
        "\n",
        "# Visualize\n",
        "plot_fI(x, f)"
      ],
      "execution_count": 40,
      "outputs": [
        {
          "output_type": "display_data",
          "data": {
            "image/png": "[encoded data removed]",
            "text/plain": [
              "<Figure size 432x288 with 1 Axes>"
            ]
          },
          "metadata": {
            "tags": [],
            "image/png": {
              "width": 413,
              "height": 270
            },
            "needs_background": "light"
          }
        }
      ]
    },
    {
      "cell_type": "markdown",
      "metadata": {
        "cellView": "both",
        "execution": {},
        "id": "h5mb_7MoILZk"
      },
      "source": [
        "[*Click for solution*](https://github.com/NeuromatchAcademy/course-content/tree/master//tutorials/W2D4_DynamicNetworks/solutions/W2D4_Tutorial1_Solution_04e84428.py)\n",
        "\n",
        "*Example output:*\n",
        "\n",
        "<img alt='Solution hint' align='left' width=832.0 height=544.0 src=https://raw.githubusercontent.com/NeuromatchAcademy/course-content/master/tutorials/W2D4_DynamicNetworks/static/W2D4_Tutorial1_Solution_04e84428_0.png>\n",
        "\n"
      ]
    },
    {
      "cell_type": "markdown",
      "metadata": {
        "execution": {},
        "id": "TXWXdw-jILZl"
      },
      "source": [
        "### Interactive Demo 1.2 : Parameter exploration of F-I curve\n",
        "Here's an interactive demo that shows how the F-I curve changes for different values of the gain and threshold parameters. \n",
        "\n",
        "1. How does the gain parameter ($a$) affect the F-I curve?\n",
        "1. How does the threshold parameter ($\\theta$) affect the F-I curve?"
      ]
    },
    {
      "cell_type": "code",
      "metadata": {
        "cellView": "form",
        "execution": {},
        "colab": {
          "base_uri": "https://localhost:8080/",
          "height": 493,
          "referenced_widgets": [
            "746cb38de7124e9c87cb7577db6fbf13",
            "f6c3232a9bfa4c499be2d7cf0dabdab1",
            "10a6fa7d3b264101a5ea13038259546b",
            "5aece105712c40878bd9d551c1164ae2",
            "c2fee6b6a2084714a9111f12f59cb72c",
            "5f24288fe06d4c1abd9e3c7601cf0684",
            "c1a5e675db47475fbbc490fe769baa99",
            "edcaab915fa04bbc8663d7b813ce93f3",
            "d53c11a38c0b42e1b4ff4791426c8bba",
            "50edb3104438466a9cb2a215a0a01a2c"
          ]
        },
        "id": "2gZsTzwtILZm",
        "outputId": "0dbe2513-21c0-4b3e-e9b5-d168649b69c7"
      },
      "source": [
        "# @title\n",
        "\n",
        "# @markdown Make sure you execute this cell to enable the widget!\n",
        "\n",
        "\n",
        "def interactive_plot_FI(a, theta):\n",
        "  \"\"\"\n",
        "  Population activation function.\n",
        "\n",
        "  Expecxts:\n",
        "    a     : the gain of the function\n",
        "    theta : the threshold of the function\n",
        "\n",
        "  Returns:\n",
        "    plot the F-I curve with give parameters\n",
        "  \"\"\"\n",
        "\n",
        "  # set the range of input\n",
        "  x = np.arange(0, 10, .1)\n",
        "  plt.figure()\n",
        "  plt.plot(x, F(x, a, theta), 'k')\n",
        "  plt.xlabel('x (a.u.)', fontsize=14)\n",
        "  plt.ylabel('F(x)', fontsize=14)\n",
        "  plt.show()\n",
        "\n",
        "\n",
        "_ = widgets.interact(interactive_plot_FI, a=(0.3, 3, 0.3), theta=(2, 4, 0.2))"
      ],
      "execution_count": 41,
      "outputs": [
        {
          "output_type": "display_data",
          "data": {
            "application/vnd.jupyter.widget-view+json": {
              "model_id": "746cb38de7124e9c87cb7577db6fbf13",
              "version_minor": 0,
              "version_major": 2
            },
            "text/plain": [
              "interactive(children=(FloatSlider(value=1.5, description='a', max=3.0, min=0.3, step=0.3), FloatSlider(value=3…"
            ]
          },
          "metadata": {
            "tags": []
          }
        }
      ]
    },
    {
      "cell_type": "markdown",
      "metadata": {
        "execution": {},
        "id": "MuA990_MILZn"
      },
      "source": [
        "[*Click for solution*](https://github.com/NeuromatchAcademy/course-content/tree/master//tutorials/W2D4_DynamicNetworks/solutions/W2D4_Tutorial1_Solution_89e4146a.py)\n",
        "\n"
      ]
    },
    {
      "cell_type": "markdown",
      "metadata": {
        "execution": {},
        "id": "bKUrDj_7ILZn"
      },
      "source": [
        "## Section 1.3: Simulation scheme of E dynamics\n",
        "\n",
        "*Estimated timing to here from start of tutorial: 27 min*\n",
        "\n",
        "Because $F(\\cdot)$ is a nonlinear function, the exact solution of our differential equation of population activity can not be determined via analytical methods. As we have seen before, we can use numerical methods, specifically the Euler method, to find the solution (that is, simulate the population activity).\n",
        "\n"
      ]
    },
    {
      "cell_type": "code",
      "metadata": {
        "cellView": "form",
        "execution": {},
        "colab": {
          "base_uri": "https://localhost:8080/"
        },
        "id": "KyVlK5_zILZo",
        "outputId": "21faa200-9ab9-43a8-82dc-ec188b0cc99e"
      },
      "source": [
        "# @markdown *Execute this cell to enable the single population rate model simulator: `simulate_single`*\n",
        "\n",
        "\n",
        "def simulate_single(pars):\n",
        "  \"\"\"\n",
        "  Simulate an excitatory population of neurons\n",
        "\n",
        "  Args:\n",
        "    pars   : Parameter dictionary\n",
        "\n",
        "  Returns:\n",
        "    rE     : Activity of excitatory population (array)\n",
        "\n",
        "  Example:\n",
        "    pars = default_pars_single()\n",
        "    r = simulate_single(pars)\n",
        "  \"\"\"\n",
        "\n",
        "  # Set parameters\n",
        "  tau, a, theta = pars['tau'], pars['a'], pars['theta']\n",
        "  w = pars['w']\n",
        "  I_ext = pars['I_ext']\n",
        "  r_init = pars['r_init']\n",
        "  dt, range_t = pars['dt'], pars['range_t']\n",
        "  Lt = range_t.size\n",
        "\n",
        "  # Initialize activity\n",
        "  r = np.zeros(Lt)\n",
        "  r[0] = r_init\n",
        "  I_ext = I_ext * np.ones(Lt)\n",
        "\n",
        "  # Update the E activity\n",
        "  for k in range(Lt - 1):\n",
        "      dr = dt / tau * (-r[k] + F(w * r[k] + I_ext[k], a, theta))\n",
        "      r[k+1] = r[k] + dr\n",
        "\n",
        "  return r\n",
        "\n",
        "help(simulate_single)"
      ],
      "execution_count": 42,
      "outputs": [
        {
          "output_type": "stream",
          "text": [
            "Help on function simulate_single in module __main__:\n",
            "\n",
            "simulate_single(pars)\n",
            "    Simulate an excitatory population of neurons\n",
            "    \n",
            "    Args:\n",
            "      pars   : Parameter dictionary\n",
            "    \n",
            "    Returns:\n",
            "      rE     : Activity of excitatory population (array)\n",
            "    \n",
            "    Example:\n",
            "      pars = default_pars_single()\n",
            "      r = simulate_single(pars)\n",
            "\n"
          ],
          "name": "stdout"
        }
      ]
    },
    {
      "cell_type": "markdown",
      "metadata": {
        "execution": {},
        "id": "E8LDneYtILZv"
      },
      "source": [
        "### Interactive Demo 1.3: Parameter Exploration of single population dynamics\n",
        "\n",
        "Explore these dynamics of the population activity in this interactive demo.\n",
        "\n",
        "1.  How does $r_{\\text{sim}}(t)$ change with different $I_{\\text{ext}}$ values? \n",
        "2.  How does it change with different $\\tau$ values? \n",
        "\n",
        "\n",
        "Note that, $r_{\\rm ana}(t)$ denotes the analytical solution - you will learn how this is computed in the next section."
      ]
    },
    {
      "cell_type": "code",
      "metadata": {
        "cellView": "form",
        "execution": {},
        "colab": {
          "base_uri": "https://localhost:8080/",
          "height": 493,
          "referenced_widgets": [
            "4be79dbd2b4d4d7c94fb38187b3dd56f",
            "a31f87bb1bbf4628a8e9d0302397ccb4",
            "220edfee986f4e6c96aceabca58b7064",
            "a3810f884b30479fa824626f0131ffd8",
            "21b0ae192b8c448eaefd7c6b2b40384c",
            "58b3c7b77ce148b8860a1cc6b60a1aed",
            "9cdd123314434ebb818ce705d9eb8796",
            "4bccc6f0cd524dd2bb7d58c338ad5bbc",
            "57064b54f19c434d978b370e59955fd5",
            "0c088b3155f04abfae34edccd7c052e7"
          ]
        },
        "id": "YVNemrl6ILZz",
        "outputId": "c367cbad-30fd-4516-f0ba-c33a07e20b71"
      },
      "source": [
        "# @title\n",
        "\n",
        "# @markdown Make sure you execute this cell to enable the widget!\n",
        "\n",
        "# get default parameters\n",
        "pars = default_pars_single(T=20.)\n",
        "\n",
        "\n",
        "def Myplot_E_diffI_difftau(I_ext, tau):\n",
        "  # set external input and time constant\n",
        "  pars['I_ext'] = I_ext\n",
        "  pars['tau'] = tau\n",
        "\n",
        "  # simulation\n",
        "  r = simulate_single(pars)\n",
        "\n",
        "  # Analytical Solution\n",
        "  r_ana = (pars['r_init']\n",
        "           + (F(I_ext, pars['a'], pars['theta'])\n",
        "           - pars['r_init']) * (1. - np.exp(-pars['range_t'] / pars['tau'])))\n",
        "\n",
        "  # plot\n",
        "  plt.figure()\n",
        "  plt.plot(pars['range_t'], r, 'b', label=r'$r_{\\mathrm{sim}}$(t)', alpha=0.5,\n",
        "           zorder=1)\n",
        "  plt.plot(pars['range_t'], r_ana, 'b--', lw=5, dashes=(2, 2),\n",
        "           label=r'$r_{\\mathrm{ana}}$(t)', zorder=2)\n",
        "  plt.plot(pars['range_t'],\n",
        "           F(I_ext, pars['a'], pars['theta']) * np.ones(pars['range_t'].size),\n",
        "           'k--', label=r'$F(I_{\\mathrm{ext}})$')\n",
        "  plt.xlabel('t (ms)', fontsize=16.)\n",
        "  plt.ylabel('Activity r(t)', fontsize=16.)\n",
        "  plt.legend(loc='best', fontsize=14.)\n",
        "  plt.show()\n",
        "\n",
        "\n",
        "_ = widgets.interact(Myplot_E_diffI_difftau, I_ext=(0.0, 10., 1.),\n",
        "                     tau=(1., 5., 0.2))"
      ],
      "execution_count": 43,
      "outputs": [
        {
          "output_type": "display_data",
          "data": {
            "application/vnd.jupyter.widget-view+json": {
              "model_id": "4be79dbd2b4d4d7c94fb38187b3dd56f",
              "version_minor": 0,
              "version_major": 2
            },
            "text/plain": [
              "interactive(children=(FloatSlider(value=5.0, description='I_ext', max=10.0, step=1.0), FloatSlider(value=3.0, …"
            ]
          },
          "metadata": {
            "tags": []
          }
        }
      ]
    },
    {
      "cell_type": "markdown",
      "metadata": {
        "execution": {},
        "id": "T6PG3S6BILZ4"
      },
      "source": [
        "[*Click for solution*](https://github.com/NeuromatchAcademy/course-content/tree/master//tutorials/W2D4_DynamicNetworks/solutions/W2D4_Tutorial1_Solution_44a82c10.py)\n",
        "\n"
      ]
    },
    {
      "cell_type": "markdown",
      "metadata": {
        "execution": {},
        "id": "d8zGImUxILZ4"
      },
      "source": [
        "## Think! 1.3: Finite activities\n",
        "\n",
        "Above, we have numerically solved a system driven by a positive input. Yet, $r_E(t)$ either decays to zero or reaches a fixed non-zero value.\n",
        "\n",
        "1. Why doesn't the solution of the system \"explode\" in a finite time? In other words, what guarantees that $r_E$(t) stays finite? \n",
        "2. Which parameter would you change in order to increase the maximum value of the response? "
      ]
    },
    {
      "cell_type": "markdown",
      "metadata": {
        "execution": {},
        "id": "-fYJrJPzILZ5"
      },
      "source": [
        "[*Click for solution*](https://github.com/NeuromatchAcademy/course-content/tree/master//tutorials/W2D4_DynamicNetworks/solutions/W2D4_Tutorial1_Solution_86ae968b.py)\n",
        "\n"
      ]
    },
    {
      "cell_type": "markdown",
      "metadata": {
        "execution": {},
        "id": "0SMYdTJUILZ5"
      },
      "source": [
        "---\n",
        "# Section 2: Fixed points of the single population system\n",
        "\n",
        "*Estimated timing to here from start of tutorial: 45 min*\n"
      ]
    },
    {
      "cell_type": "markdown",
      "metadata": {
        "execution": {},
        "id": "c389_l9dILZ6"
      },
      "source": [
        "## Section 2.1: Finding fixed points"
      ]
    },
    {
      "cell_type": "code",
      "metadata": {
        "cellView": "form",
        "execution": {},
        "colab": {
          "base_uri": "https://localhost:8080/",
          "height": 582,
          "referenced_widgets": [
            "ebc5313f44124dc99fd201ffa7b167b8",
            "6e836f443db744cda233e9edbe3f1c25",
            "29d46f1cf6094889855b089b52ff17b1",
            "763b0058df2c482a83b56fcc57d23a16",
            "e6e2aa96d07a484d8c96ea448ed22464",
            "887bba3ab2474599b8e0fb39612f8913"
          ]
        },
        "id": "eVZ4M5ODILZ6",
        "outputId": "fc752364-45ce-46d8-b59b-7e95488d532c"
      },
      "source": [
        "# @title Video 2: Fixed point\n",
        "from ipywidgets import widgets\n",
        "\n",
        "out2 = widgets.Output()\n",
        "with out2:\n",
        "  from IPython.display import IFrame\n",
        "  class BiliVideo(IFrame):\n",
        "      def __init__(self, id, page=1, width=400, height=300, **kwargs):\n",
        "          self.id=id\n",
        "          src = 'https://player.bilibili.com/player.html?bvid={0}&page={1}'.format(id, page)\n",
        "          super(BiliVideo, self).__init__(src, width, height, **kwargs)\n",
        "\n",
        "  video = BiliVideo(id=\"BV1v54y1v7Gr\", width=854, height=480, fs=1)\n",
        "  print('Video available at https://www.bilibili.com/video/{0}'.format(video.id))\n",
        "  display(video)\n",
        "\n",
        "out1 = widgets.Output()\n",
        "with out1:\n",
        "  from IPython.display import YouTubeVideo\n",
        "  video = YouTubeVideo(id=\"Ox3ELd1UFyo\", width=854, height=480, fs=1, rel=0)\n",
        "  print('Video available at https://youtube.com/watch?v=' + video.id)\n",
        "  display(video)\n",
        "\n",
        "out = widgets.Tab([out1, out2])\n",
        "out.set_title(0, 'Youtube')\n",
        "out.set_title(1, 'Bilibili')\n",
        "\n",
        "display(out)"
      ],
      "execution_count": 44,
      "outputs": [
        {
          "output_type": "display_data",
          "data": {
            "application/vnd.jupyter.widget-view+json": {
              "model_id": "ebc5313f44124dc99fd201ffa7b167b8",
              "version_minor": 0,
              "version_major": 2
            },
            "text/plain": [
              "Tab(children=(Output(), Output()), _titles={'0': 'Youtube', '1': 'Bilibili'})"
            ]
          },
          "metadata": {
            "tags": []
          }
        }
      ]
    },
    {
      "cell_type": "markdown",
      "metadata": {
        "execution": {},
        "id": "D_YBawPEILaD"
      },
      "source": [
        "This video introduces recurrent networks and how to derive their fixed points. It also introduces vector fields and phase planes in one dimension.\n",
        "\n",
        "<details>\n",
        "<summary> <font color='blue'>Click here for text recap of video </font></summary>\n",
        "\n",
        "We can now extend our feed-forward network to a recurrent network, governed by the equation:\n",
        "\n",
        "\\begin{align}\n",
        "\\tau \\frac{dr}{dt} &= -r + F(w\\cdot r + I_{\\text{ext}})  \\quad\\qquad (3)\n",
        "\\end{align}\n",
        " where as before, $r(t)$ represents the average firing rate of the excitatory population at time $t$, $\\tau$ controls the timescale of the evolution of the average firing rate, $I_{\\text{ext}}$ represents the external input, and the transfer function $F(\\cdot)$ (which can be related to f-I curve of individual neurons described in the next sections) represents the population activation function in response to all received inputs. Now we also have $w$ which denotes the strength (synaptic weight) of the recurrent input to the population.\n",
        "\n",
        "As you varied the two parameters in the last Interactive Demo, you noticed that, while at first the system output quickly changes, with time, it reaches its maximum/minimum value and does not change anymore. The value eventually reached by the system is called the **steady state** of the system, or the **fixed point**. Essentially, in the steady states the derivative with respect to time of the activity ($r$) is zero, i.e. $\\displaystyle \\frac{dr}{dt}=0$. \n",
        "\n",
        "We can find that the steady state of the Equation. (1) by setting $\\displaystyle{\\frac{dr}{dt}=0}$ and solve for $r$:\n",
        "\n",
        "$$-r_{\\text{steady}} + F(w\\cdot r_{\\text{steady}} + I_{\\text{ext}};a,\\theta) = 0, \\qquad (4)$$\n",
        "\n",
        "When it exists, the solution of Equation. (4) defines a **fixed point** of the dynamical system in Equation (3). Note that if $F(x)$ is nonlinear, it is not always possible to find an analytical solution, but the solution can be found via numerical simulations, as we will do later.\n",
        "\n",
        "From the Interactive Demo, one could also notice that the value of $\\tau$ influences how quickly the activity will converge to the steady state from its initial value. \n",
        "\n",
        "In the specific case of $w=0$, we can also analytically compute  the solution of Equation (1) (i.e., the thick blue dashed line) and deduce the role of $\\tau$ in determining the convergence to the fixed point: \n",
        "\n",
        "$$\\displaystyle{r(t) = \\big{[}F(I_{\\text{ext}};a,\\theta) -r(t=0)\\big{]} (1-\\text{e}^{-\\frac{t}{\\tau}})} + r(t=0)$$ \\\\\n",
        "\n",
        "We can now numerically calculate the fixed point with a root finding algorithm."
      ]
    },
    {
      "cell_type": "markdown",
      "metadata": {
        "execution": {},
        "id": "1wLoi1b8ILaE"
      },
      "source": [
        "### Coding Exercise 2.1.1: Visualization of the fixed points\n",
        "\n",
        "When it is not possible to find the solution for Equation (3) analytically, a graphical approach can be taken. To that end, it is useful to plot $\\displaystyle{\\frac{dr}{dt}}$ as a function of $r$. The values of $r$ for which the plotted function crosses zero on the y axis correspond to fixed points. \n",
        "\n",
        "Here, let us, for example, set $w=5.0$ and $I^{\\text{ext}}=0.5$. From Equation (3), you can obtain\n",
        "\n",
        "$$\\frac{dr}{dt} = [-r + F(w\\cdot r + I^{\\text{ext}})]\\,/\\,\\tau $$\n",
        "\n",
        "Then, plot the $dr/dt$ as a function of $r$, and check for the presence of fixed points. "
      ]
    },
    {
      "cell_type": "code",
      "metadata": {
        "execution": {},
        "colab": {
          "base_uri": "https://localhost:8080/",
          "height": 430
        },
        "id": "D27S-PyRILaF",
        "outputId": "cd587148-ccb1-42c8-81da-2abe5b8de9f1"
      },
      "source": [
        "def compute_drdt(r, I_ext, w, a, theta, tau, **other_pars):\n",
        "  \"\"\"Given parameters, compute dr/dt as a function of r.\n",
        "\n",
        "  Args:\n",
        "    r (1D array) : Average firing rate of the excitatory population\n",
        "    I_ext, w, a, theta, tau (numbers): Simulation parameters to use\n",
        "    other_pars : Other simulation parameters are unused by this function\n",
        "\n",
        "  Returns\n",
        "    drdt function for each value of r\n",
        "  \"\"\"\n",
        "  #########################################################################\n",
        "  # TODO compute drdt and disable the error\n",
        "  #raise NotImplementedError(\"Finish the compute_drdt function\")\n",
        "  #########################################################################\n",
        "\n",
        "  #F(x, a, theta)\n",
        "  # Calculate drdt\n",
        "  drdt = (-r+F(-w*r+I_ext, a, theta))/tau\n",
        "\n",
        "  return drdt\n",
        "\n",
        "\n",
        "# Define a vector of r values and the simulation parameters\n",
        "r = np.linspace(0, 1, 1000)\n",
        "pars = default_pars_single(I_ext=0.5, w=5)\n",
        "\n",
        "# Compute dr/dt\n",
        "drdt = compute_drdt(r, **pars)\n",
        "\n",
        "# Visualize\n",
        "plot_dr_r(r, drdt)"
      ],
      "execution_count": 45,
      "outputs": [
        {
          "output_type": "display_data",
          "data": {
            "image/png": "[encoded data removed]",
            "text/plain": [
              "<Figure size 576x432 with 1 Axes>"
            ]
          },
          "metadata": {
            "tags": [],
            "image/png": {
              "width": 558,
              "height": 413
            },
            "needs_background": "light"
          }
        }
      ]
    },
    {
      "cell_type": "markdown",
      "metadata": {
        "execution": {},
        "id": "WcDRVB2GILaG"
      },
      "source": [
        "[*Click for solution*](https://github.com/NeuromatchAcademy/course-content/tree/master//tutorials/W2D4_DynamicNetworks/solutions/W2D4_Tutorial1_Solution_c4108be6.py)\n",
        "\n",
        "*Example output:*\n",
        "\n",
        "<img alt='Solution hint' align='left' width=1116.0 height=827.0 src=https://raw.githubusercontent.com/NeuromatchAcademy/course-content/master/tutorials/W2D4_DynamicNetworks/static/W2D4_Tutorial1_Solution_c4108be6_0.png>\n",
        "\n"
      ]
    },
    {
      "cell_type": "markdown",
      "metadata": {
        "execution": {},
        "id": "cEDZlWC8ILaG"
      },
      "source": [
        "### Coding Exercise 2.1.2: Numerical calculution of fixed points\n",
        "\n",
        "We will now find the fixed points numerically. To do so, we need to specify initial values ($r_{\\text{guess}}$) for the root-finding algorithm to start from. From the line $\\displaystyle{\\frac{dr}{dt}}$ plotted above in the last exercise, initial values can be chosen as a set of values close to where the line crosses zero on the y axis (real fixed point).\n",
        "\n",
        "The next cell defines three helper functions that we will use:\n",
        "\n",
        "- `my_fp_single(r_guess, **pars)` uses a root-finding algorithm to locate a fixed point near a given initial value\n",
        "- `check_fp_single(x_fp, **pars)` verifies that the values of $r_{\\rm fp}$ for which $\\displaystyle{\\frac{dr}{dt}} = 0$ are the true fixed points\n",
        "- `my_fp_finder(r_guess_vector, **pars)` accepts an array of initial values and finds the same number of fixed points, using the above two functions"
      ]
    },
    {
      "cell_type": "code",
      "metadata": {
        "cellView": "form",
        "execution": {},
        "colab": {
          "base_uri": "https://localhost:8080/"
        },
        "id": "kgb1Ruz3ILaJ",
        "outputId": "69f8129b-dbcf-4180-d80f-39e41611a9fa"
      },
      "source": [
        "# @markdown *Execute this cell to enable the fixed point functions*\n",
        "\n",
        "def my_fp_single(r_guess, a, theta, w, I_ext, **other_pars):\n",
        "  \"\"\"\n",
        "  Calculate the fixed point through drE/dt=0\n",
        "\n",
        "  Args:\n",
        "    r_guess  : Initial value used for scipy.optimize function\n",
        "    a, theta, w, I_ext : simulation parameters\n",
        "\n",
        "  Returns:\n",
        "    x_fp    : value of fixed point\n",
        "  \"\"\"\n",
        "  # define the right hand of E dynamics\n",
        "  def my_WCr(x):\n",
        "    r = x\n",
        "    drdt = (-r + F(w * r + I_ext, a, theta))\n",
        "    y = np.array(drdt)\n",
        "\n",
        "    return y\n",
        "\n",
        "  x0 = np.array(r_guess)\n",
        "  x_fp = opt.root(my_WCr, x0).x.item()\n",
        "\n",
        "  return x_fp\n",
        "\n",
        "\n",
        "def check_fp_single(x_fp, a, theta, w, I_ext, mytol=1e-4, **other_pars):\n",
        "  \"\"\"\n",
        "   Verify |dr/dt| < mytol\n",
        "\n",
        "  Args:\n",
        "    fp      : value of fixed point\n",
        "    a, theta, w, I_ext: simulation parameters\n",
        "    mytol   : tolerance, default as 10^{-4}\n",
        "\n",
        "  Returns :\n",
        "    Whether it is a correct fixed point: True/False\n",
        "  \"\"\"\n",
        "  # calculate Equation(3)\n",
        "  y = x_fp - F(w * x_fp + I_ext, a, theta)\n",
        "\n",
        "  # Here we set tolerance as 10^{-4}\n",
        "  return np.abs(y) < mytol\n",
        "\n",
        "\n",
        "def my_fp_finder(pars, r_guess_vector, mytol=1e-4):\n",
        "  \"\"\"\n",
        "  Calculate the fixed point(s) through drE/dt=0\n",
        "\n",
        "  Args:\n",
        "    pars    : Parameter dictionary\n",
        "    r_guess_vector  : Initial values used for scipy.optimize function\n",
        "    mytol   : tolerance for checking fixed point, default as 10^{-4}\n",
        "\n",
        "  Returns:\n",
        "    x_fps   : values of fixed points\n",
        "\n",
        "  \"\"\"\n",
        "  x_fps = []\n",
        "  correct_fps = []\n",
        "  for r_guess in r_guess_vector:\n",
        "    x_fp = my_fp_single(r_guess, **pars)\n",
        "    if check_fp_single(x_fp, **pars, mytol=mytol):\n",
        "      x_fps.append(x_fp)\n",
        "\n",
        "  return x_fps\n",
        "\n",
        "help(my_fp_finder)"
      ],
      "execution_count": 46,
      "outputs": [
        {
          "output_type": "stream",
          "text": [
            "Help on function my_fp_finder in module __main__:\n",
            "\n",
            "my_fp_finder(pars, r_guess_vector, mytol=0.0001)\n",
            "    Calculate the fixed point(s) through drE/dt=0\n",
            "    \n",
            "    Args:\n",
            "      pars    : Parameter dictionary\n",
            "      r_guess_vector  : Initial values used for scipy.optimize function\n",
            "      mytol   : tolerance for checking fixed point, default as 10^{-4}\n",
            "    \n",
            "    Returns:\n",
            "      x_fps   : values of fixed points\n",
            "\n"
          ],
          "name": "stdout"
        }
      ]
    },
    {
      "cell_type": "code",
      "metadata": {
        "execution": {},
        "colab": {
          "base_uri": "https://localhost:8080/",
          "height": 430
        },
        "id": "PxAKVlGVILaK",
        "outputId": "d81935d2-956d-4ad5-de3b-84f7676cc6cf"
      },
      "source": [
        "# Set parameters\n",
        "r = np.linspace(0, 1, 1000)\n",
        "pars = default_pars_single(I_ext=0.5, w=5)\n",
        "\n",
        "# Compute dr/dt\n",
        "drdt = compute_drdt(r, **pars)\n",
        "\n",
        "#############################################################################\n",
        "# TODO for students:\n",
        "# Define initial values close to the intersections of drdt and y=0\n",
        "# (How many initial values? Hint: How many times do the two lines intersect?)\n",
        "# Calculate the fixed point with these initial values and plot them\n",
        "#raise NotImplementedError('student_exercise: find fixed points numerically')\n",
        "#############################################################################\n",
        "\n",
        "# Initial guesses for fixed points\n",
        "r_guess_vector = [0.4,0.0,1]\n",
        "\n",
        "# Find fixed point numerically\n",
        "x_fps = my_fp_finder(pars, r_guess_vector)\n",
        "\n",
        "# Visualize\n",
        "plot_dr_r(r, drdt, x_fps)"
      ],
      "execution_count": 47,
      "outputs": [
        {
          "output_type": "display_data",
          "data": {
            "image/png": "[encoded data removed]",
            "text/plain": [
              "<Figure size 576x432 with 1 Axes>"
            ]
          },
          "metadata": {
            "tags": [],
            "image/png": {
              "width": 558,
              "height": 413
            },
            "needs_background": "light"
          }
        }
      ]
    },
    {
      "cell_type": "markdown",
      "metadata": {
        "execution": {},
        "id": "VOqzKRcYILaL"
      },
      "source": [
        "[*Click for solution*](https://github.com/NeuromatchAcademy/course-content/tree/master//tutorials/W2D4_DynamicNetworks/solutions/W2D4_Tutorial1_Solution_1c599fac.py)\n",
        "\n",
        "*Example output:*\n",
        "\n",
        "<img alt='Solution hint' align='left' width=1116.0 height=827.0 src=https://raw.githubusercontent.com/NeuromatchAcademy/course-content/master/tutorials/W2D4_DynamicNetworks/static/W2D4_Tutorial1_Solution_1c599fac_0.png>\n",
        "\n"
      ]
    },
    {
      "cell_type": "markdown",
      "metadata": {
        "execution": {},
        "id": "xi0W9x6iILaL"
      },
      "source": [
        "### Interactive Demo 2.1: fixed points as a function of recurrent and external inputs.\n",
        "\n",
        "You can now explore how the previous plot changes when the recurrent coupling $w$ and the external input $I_{\\text{ext}}$ take different values. How does the number of fixed points change?"
      ]
    },
    {
      "cell_type": "code",
      "metadata": {
        "cellView": "form",
        "execution": {},
        "colab": {
          "base_uri": "https://localhost:8080/",
          "height": 493,
          "referenced_widgets": [
            "7b5485a08e6e49f28d0386ac85f4a12a",
            "088adcdc4bfd41a596e96ea3e851e8df",
            "924b2d146dcf4133a0442ae6f248b6f0",
            "6c30aff1dbb14f66a2ee17a008d1b1a6",
            "86b70d7e159e42fa84023c41e60cf485",
            "d507729003d2400898e3a4c44aa16568",
            "ddae4778d91b49bf80ba8cfa897304e6",
            "000de95d20d54b678da49dd785768f9b",
            "9fc9399659ff4caeb97c67cc282b08fc",
            "476a845e35544d698583cef2db657730"
          ]
        },
        "id": "uMhBIpGXILaM",
        "outputId": "7d2d0523-e336-4d00-f410-78640aefb31a"
      },
      "source": [
        "# @title\n",
        "\n",
        "# @markdown Make sure you execute this cell to enable the widget!\n",
        "\n",
        "\n",
        "def plot_intersection_single(w, I_ext):\n",
        "  # set your parameters\n",
        "  pars = default_pars_single(w=w, I_ext=I_ext)\n",
        "\n",
        "  # find fixed points\n",
        "  r_init_vector = [0, .4, .9]\n",
        "  x_fps = my_fp_finder(pars, r_init_vector)\n",
        "\n",
        "  # plot\n",
        "  r = np.linspace(0, 1., 1000)\n",
        "  drdt = (-r + F(w * r + I_ext, pars['a'], pars['theta'])) / pars['tau']\n",
        "\n",
        "  plot_dr_r(r, drdt, x_fps)\n",
        "\n",
        "_ = widgets.interact(plot_intersection_single, w=(1, 7, 0.2),\n",
        "                     I_ext=(0, 3, 0.1))"
      ],
      "execution_count": 48,
      "outputs": [
        {
          "output_type": "display_data",
          "data": {
            "application/vnd.jupyter.widget-view+json": {
              "model_id": "7b5485a08e6e49f28d0386ac85f4a12a",
              "version_minor": 0,
              "version_major": 2
            },
            "text/plain": [
              "interactive(children=(FloatSlider(value=4.0, description='w', max=7.0, min=1.0, step=0.2), FloatSlider(value=1…"
            ]
          },
          "metadata": {
            "tags": []
          }
        }
      ]
    },
    {
      "cell_type": "markdown",
      "metadata": {
        "execution": {},
        "id": "BMJTRQ5EILaN"
      },
      "source": [
        "[*Click for solution*](https://github.com/NeuromatchAcademy/course-content/tree/master//tutorials/W2D4_DynamicNetworks/solutions/W2D4_Tutorial1_Solution_39f3d710.py)\n",
        "\n"
      ]
    },
    {
      "cell_type": "markdown",
      "metadata": {
        "execution": {},
        "id": "f4pw8QZQILaO"
      },
      "source": [
        "## Section 2.2: Relationship between trajectories & fixed points\n",
        "\n",
        "Let's examine the relationship between the population activity over time and the fixed points.\n",
        "\n",
        "Here, let us first set $w=5.0$ and $I_{\\text{ext}}=0.5$, and investigate the dynamics of $r(t)$ starting with different initial values $r(0) \\equiv r_{\\text{init}}$. "
      ]
    },
    {
      "cell_type": "code",
      "metadata": {
        "cellView": "form",
        "execution": {},
        "colab": {
          "base_uri": "https://localhost:8080/",
          "height": 430
        },
        "id": "l5WE4ha8ILaO",
        "outputId": "822f976e-f4d9-47e7-94e1-fd4be2610589"
      },
      "source": [
        "# @markdown Execute to visualize dr/dt\n",
        "\n",
        "def plot_intersection_single(w, I_ext):\n",
        "  # set your parameters\n",
        "  pars = default_pars_single(w=w, I_ext=I_ext)\n",
        "\n",
        "  # find fixed points\n",
        "  r_init_vector = [0, .4, .9]\n",
        "  x_fps = my_fp_finder(pars, r_init_vector)\n",
        "\n",
        "  # plot\n",
        "  r = np.linspace(0, 1., 1000)\n",
        "  drdt = (-r + F(w * r + I_ext, pars['a'], pars['theta'])) / pars['tau']\n",
        "\n",
        "  plot_dr_r(r, drdt, x_fps)\n",
        "\n",
        "plot_intersection_single(w = 5.0, I_ext = 0.5)"
      ],
      "execution_count": 49,
      "outputs": [
        {
          "output_type": "display_data",
          "data": {
            "image/png": "[encoded data removed]",
            "text/plain": [
              "<Figure size 576x432 with 1 Axes>"
            ]
          },
          "metadata": {
            "tags": [],
            "image/png": {
              "width": 558,
              "height": 413
            },
            "needs_background": "light"
          }
        }
      ]
    },
    {
      "cell_type": "markdown",
      "metadata": {
        "execution": {},
        "id": "CR337hcsILaO"
      },
      "source": [
        "### Interactive Demo 2.2: dynamics as a function of the initial value\n",
        "\n",
        "Let's now set $r_{\\rm init}$ to a value of your choice in this demo. How does the solution change? What do you observe? How does that relate to the previous plot of $\\frac{dr}{dt}$?"
      ]
    },
    {
      "cell_type": "code",
      "metadata": {
        "cellView": "form",
        "execution": {},
        "colab": {
          "base_uri": "https://localhost:8080/",
          "height": 462,
          "referenced_widgets": [
            "2408c091be564891a29d35c07444d8aa",
            "d2923ee2539547349b9e64df2e3355b7",
            "cb0100f06ae44026aa52699cef246370",
            "fa30c01b2dcf4600bb3bed8f6fe0f713",
            "1f130c251f89428f945357e5ce55042e",
            "21119376011a4c2fbb2bbf4bfe73fcd1",
            "d178e36a522a4612a3d683d1bb34ab0d"
          ]
        },
        "id": "rHy8CQVfILaP",
        "outputId": "66449f33-4642-412d-fe4e-d9ebce01df84"
      },
      "source": [
        "# @markdown Make sure you execute this cell to enable the widget!\n",
        "\n",
        "pars = default_pars_single(w=5.0, I_ext=0.5)\n",
        "\n",
        "def plot_single_diffEinit(r_init):\n",
        "  pars['r_init'] = r_init\n",
        "  r = simulate_single(pars)\n",
        "\n",
        "  plt.figure()\n",
        "  plt.plot(pars['range_t'], r, 'b', zorder=1)\n",
        "  plt.plot(0, r[0], 'bo', alpha=0.7, zorder=2)\n",
        "  plt.xlabel('t (ms)', fontsize=16)\n",
        "  plt.ylabel(r'$r(t)$', fontsize=16)\n",
        "  plt.ylim(0, 1.0)\n",
        "  plt.show()\n",
        "\n",
        "\n",
        "_ = widgets.interact(plot_single_diffEinit, r_init=(0, 1, 0.02))"
      ],
      "execution_count": 50,
      "outputs": [
        {
          "output_type": "display_data",
          "data": {
            "application/vnd.jupyter.widget-view+json": {
              "model_id": "2408c091be564891a29d35c07444d8aa",
              "version_minor": 0,
              "version_major": 2
            },
            "text/plain": [
              "interactive(children=(FloatSlider(value=0.0, description='r_init', max=1.0, step=0.02), Output()), _dom_classe…"
            ]
          },
          "metadata": {
            "tags": []
          }
        }
      ]
    },
    {
      "cell_type": "markdown",
      "metadata": {
        "execution": {},
        "id": "bzVeYOAjILaP"
      },
      "source": [
        "[*Click for solution*](https://github.com/NeuromatchAcademy/course-content/tree/master//tutorials/W2D4_DynamicNetworks/solutions/W2D4_Tutorial1_Solution_c73e9caf.py)\n",
        "\n"
      ]
    },
    {
      "cell_type": "markdown",
      "metadata": {
        "execution": {},
        "id": "k-PeC5IKILaQ"
      },
      "source": [
        "We will plot the trajectories of $r(t)$ with $r_{\\text{init}} = 0.0, 0.1, 0.2,..., 0.9$."
      ]
    },
    {
      "cell_type": "code",
      "metadata": {
        "cellView": "form",
        "execution": {},
        "colab": {
          "base_uri": "https://localhost:8080/",
          "height": 358
        },
        "id": "EDE_Bwx2ILaQ",
        "outputId": "71e9c67f-9348-48c9-d684-9a5ecd546710"
      },
      "source": [
        "# @markdown Execute this cell to see the trajectories!\n",
        "\n",
        "pars = default_pars_single()\n",
        "pars['w'] = 5.0\n",
        "pars['I_ext'] = 0.5\n",
        "\n",
        "plt.figure(figsize=(8, 5))\n",
        "for ie in range(10):\n",
        "  pars['r_init'] = 0.1 * ie  # set the initial value\n",
        "  r = simulate_single(pars)  # run the simulation\n",
        "\n",
        "  # plot the activity with given initial\n",
        "  plt.plot(pars['range_t'], r, 'b', alpha=0.1 + 0.1 * ie,\n",
        "           label=r'r$_{\\mathrm{init}}$=%.1f' % (0.1 * ie))\n",
        "\n",
        "plt.xlabel('t (ms)')\n",
        "plt.title('Two steady states?')\n",
        "plt.ylabel(r'$r$(t)')\n",
        "plt.legend(loc=[1.01, -0.06], fontsize=14)\n",
        "plt.show()"
      ],
      "execution_count": 51,
      "outputs": [
        {
          "output_type": "display_data",
          "data": {
            "image/png": "[encoded data removed]",
            "text/plain": [
              "<Figure size 576x360 with 1 Axes>"
            ]
          },
          "metadata": {
            "tags": [],
            "image/png": {
              "width": 557,
              "height": 341
            },
            "needs_background": "light"
          }
        }
      ]
    },
    {
      "cell_type": "markdown",
      "metadata": {
        "execution": {},
        "id": "CpERToYPILaR"
      },
      "source": [
        "We have three fixed points but only two steady states showing up - what's happening? \n",
        "\n",
        "It turns out that the stability of the fixed points matters. If a fixed point is stable, a trajectory starting near that fixed point will stay close to that fixed point and converge to it (the steady state will equal the fixed point). If a fixed point is unstable, any trajectories starting close to it will diverge and go towards stable fixed points. In fact, the only way for a trajectory to reach a stable state at an unstable fixed point is if the initial value **exactly** equals the value of the fixed point.\n",
        "\n"
      ]
    },
    {
      "cell_type": "markdown",
      "metadata": {
        "execution": {},
        "id": "9kKyHrpQILaU"
      },
      "source": [
        "### Think! 2.2: Stable vs unstable fixed points\n",
        "\n",
        "Which of the fixed points for the model we've been examining in this section are stable vs unstable?"
      ]
    },
    {
      "cell_type": "code",
      "metadata": {
        "cellView": "form",
        "execution": {},
        "colab": {
          "base_uri": "https://localhost:8080/"
        },
        "id": "XAiDO_YPILaV",
        "outputId": "4da01f65-abc5-47f1-8542-27d36bed25fe"
      },
      "source": [
        "# @markdown Execute to print fixed point values\n",
        "\n",
        "# Initial guesses for fixed points\n",
        "r_guess_vector = [0, .4, .9]\n",
        "\n",
        "# Find fixed point numerically\n",
        "x_fps = my_fp_finder(pars, r_guess_vector)\n",
        "\n",
        "print(f'Our fixed points are {x_fps}')"
      ],
      "execution_count": 52,
      "outputs": [
        {
          "output_type": "stream",
          "text": [
            "Our fixed points are [0.04153669901331739, 0.4471192240898344, 0.8997171538560865]\n"
          ],
          "name": "stdout"
        }
      ]
    },
    {
      "cell_type": "markdown",
      "metadata": {
        "execution": {},
        "id": "2pSp1h53ILaV"
      },
      "source": [
        "[*Click for solution*](https://github.com/NeuromatchAcademy/course-content/tree/master//tutorials/W2D4_DynamicNetworks/solutions/W2D4_Tutorial1_Solution_3d44c9a3.py)\n",
        "\n"
      ]
    },
    {
      "cell_type": "markdown",
      "metadata": {
        "execution": {},
        "id": "cLlgaucZILaX"
      },
      "source": [
        "We can simulate the trajectory if we start at the unstable fixed point: you can see that it remains at that fixed point (the red line below)."
      ]
    },
    {
      "cell_type": "code",
      "metadata": {
        "cellView": "form",
        "execution": {},
        "colab": {
          "base_uri": "https://localhost:8080/",
          "height": 358
        },
        "id": "ivICw5ynILaY",
        "outputId": "542ef8be-6a41-43c0-e1d7-be8728b07022"
      },
      "source": [
        "# @markdown Execute to visualize trajectory starting at unstable fixed point\n",
        "pars = default_pars_single()\n",
        "pars['w'] = 5.0\n",
        "pars['I_ext'] = 0.5\n",
        "\n",
        "plt.figure(figsize=(8, 5))\n",
        "for ie in range(10):\n",
        "  pars['r_init'] = 0.1 * ie  # set the initial value\n",
        "  r = simulate_single(pars)  # run the simulation\n",
        "\n",
        "  # plot the activity with given initial\n",
        "  plt.plot(pars['range_t'], r, 'b', alpha=0.1 + 0.1 * ie,\n",
        "           label=r'r$_{\\mathrm{init}}$=%.1f' % (0.1 * ie))\n",
        "\n",
        "pars['r_init'] = x_fps[1]  # set the initial value\n",
        "r = simulate_single(pars)  # run the simulation\n",
        "\n",
        "# plot the activity with given initial\n",
        "plt.plot(pars['range_t'], r, 'r', alpha=0.1 + 0.1 * ie,\n",
        "          label=r'r$_{\\mathrm{init}}$=%.4f' % (x_fps[1]))\n",
        "\n",
        "plt.xlabel('t (ms)')\n",
        "plt.title('Two steady states?')\n",
        "plt.ylabel(r'$r$(t)')\n",
        "plt.legend(loc=[1.01, -0.06], fontsize=14)\n",
        "plt.show()"
      ],
      "execution_count": 53,
      "outputs": [
        {
          "output_type": "display_data",
          "data": {
            "image/png": "[encoded data removed]",
            "text/plain": [
              "<Figure size 576x360 with 1 Axes>"
            ]
          },
          "metadata": {
            "tags": [],
            "image/png": {
              "width": 557,
              "height": 341
            },
            "needs_background": "light"
          }
        }
      ]
    },
    {
      "cell_type": "markdown",
      "metadata": {
        "execution": {},
        "id": "xophnxysILaZ"
      },
      "source": [
        "See Bonus Section 1 to cover how to determine the stability of fixed points in a quantitative way."
      ]
    },
    {
      "cell_type": "markdown",
      "metadata": {
        "execution": {},
        "id": "ICjdLacbILaZ"
      },
      "source": [
        "## Think! 2: Inhibitory populations\n",
        "\n",
        "Throughout the tutorial, we have assumed $w> 0 $, i.e., we considered a single population of **excitatory** neurons. What do you think will be the behavior of a population of inhibitory neurons, i.e., where $w> 0$ is replaced by $w< 0$? "
      ]
    },
    {
      "cell_type": "markdown",
      "metadata": {
        "execution": {},
        "id": "jbPEh8w7ILaa"
      },
      "source": [
        "[*Click for solution*](https://github.com/NeuromatchAcademy/course-content/tree/master//tutorials/W2D4_DynamicNetworks/solutions/W2D4_Tutorial1_Solution_f3418e5f.py)\n",
        "\n"
      ]
    },
    {
      "cell_type": "markdown",
      "metadata": {
        "execution": {},
        "id": "Su8chZJSILai"
      },
      "source": [
        "---\n",
        "# Summary\n",
        "\n",
        "*Estimated timing of tutorial: 1 hour, 25 minutes*\n",
        "\n",
        "In this tutorial, we have investigated the dynamics of a rate-based single population of neurons.\n",
        "\n",
        "We learned about:\n",
        "- The effect of the input parameters and the time constant of the network on the dynamics of the population.\n",
        "- How to find the fixed point(s) of the system.\n",
        "\n",
        "We build on these concepts in the bonus material - check it out if you have time. You will learn:\n",
        "\n",
        "- How to determine the stability of a fixed point by linearizing the system.\n",
        "- How to add realistic inputs to our model."
      ]
    },
    {
      "cell_type": "markdown",
      "metadata": {
        "execution": {},
        "id": "IQnaoILbILaj"
      },
      "source": [
        "---\n",
        "# Bonus"
      ]
    },
    {
      "cell_type": "markdown",
      "metadata": {
        "execution": {},
        "id": "Z9PtArC6ILak"
      },
      "source": [
        "---\n",
        "## Bonus Section 1: Stability analysis via linearization of the dynamics"
      ]
    },
    {
      "cell_type": "code",
      "metadata": {
        "cellView": "form",
        "execution": {},
        "colab": {
          "base_uri": "https://localhost:8080/",
          "height": 582,
          "referenced_widgets": [
            "e205fca69ace4ed2aac682f66b2e56c8",
            "9bae15679c574705bf34571f431d1f98",
            "dd15a503c042415caf58f25476f7e887",
            "778400d7a31442e28d2d4d0a86897540",
            "6c7f3651d73b4fa6988a17ee74b83735",
            "9ae4965bd75c4b858c66a03dfc925e38"
          ]
        },
        "id": "4jF1_icSILak",
        "outputId": "3dfc330a-d378-45ba-e09f-d78be44a5efd"
      },
      "source": [
        "# @title Video 3: Stability of fixed points\n",
        "from ipywidgets import widgets\n",
        "\n",
        "out2 = widgets.Output()\n",
        "with out2:\n",
        "  from IPython.display import IFrame\n",
        "  class BiliVideo(IFrame):\n",
        "      def __init__(self, id, page=1, width=400, height=300, **kwargs):\n",
        "          self.id=id\n",
        "          src = 'https://player.bilibili.com/player.html?bvid={0}&page={1}'.format(id, page)\n",
        "          super(BiliVideo, self).__init__(src, width, height, **kwargs)\n",
        "\n",
        "  video = BiliVideo(id=\"BV1oA411e7eg\", width=854, height=480, fs=1)\n",
        "  print('Video available at https://www.bilibili.com/video/{0}'.format(video.id))\n",
        "  display(video)\n",
        "\n",
        "out1 = widgets.Output()\n",
        "with out1:\n",
        "  from IPython.display import YouTubeVideo\n",
        "  video = YouTubeVideo(id=\"KKMlWWU83Jg\", width=854, height=480, fs=1, rel=0)\n",
        "  print('Video available at https://youtube.com/watch?v=' + video.id)\n",
        "  display(video)\n",
        "\n",
        "out = widgets.Tab([out1, out2])\n",
        "out.set_title(0, 'Youtube')\n",
        "out.set_title(1, 'Bilibili')\n",
        "\n",
        "display(out)"
      ],
      "execution_count": 54,
      "outputs": [
        {
          "output_type": "display_data",
          "data": {
            "application/vnd.jupyter.widget-view+json": {
              "model_id": "e205fca69ace4ed2aac682f66b2e56c8",
              "version_minor": 0,
              "version_major": 2
            },
            "text/plain": [
              "Tab(children=(Output(), Output()), _titles={'0': 'Youtube', '1': 'Bilibili'})"
            ]
          },
          "metadata": {
            "tags": []
          }
        }
      ]
    },
    {
      "cell_type": "markdown",
      "metadata": {
        "execution": {},
        "id": "gCcreWm_ILap"
      },
      "source": [
        "Here we will dive into the math of how to figure out the stability of a fixed point.\n",
        "\n",
        "\n",
        "Just like in our equation for the feedforward network, a generic linear system \n",
        "$$\\frac{dx}{dt} = \\lambda (x - b),$$ \n",
        "has a fixed point for $x=b$. The analytical solution of such a system can be found to be:\n",
        "$$x(t) = b + \\big{(} x(0) - b \\big{)} \\text{e}^{\\lambda t}.$$ \n",
        "Now consider a small perturbation of the activity around the fixed point: $x(0) = b+ \\epsilon$, where $|\\epsilon| \\ll 1$. Will the perturbation $\\epsilon(t)$ grow with time or will it decay to the fixed point? The evolution of the perturbation with time can be written, using the analytical solution for $x(t)$, as:\n",
        " $$\\epsilon (t) = x(t) - b = \\epsilon \\text{e}^{\\lambda t}$$\n",
        "\n",
        "- if $\\lambda < 0$, $\\epsilon(t)$ decays to zero, $x(t)$ will still converge to $b$ and the fixed point is \"**stable**\".\n",
        "\n",
        "- if $\\lambda > 0$, $\\epsilon(t)$ grows with time, $x(t)$ will leave the fixed point $b$ exponentially, and the fixed point is, therefore, \"**unstable**\" ."
      ]
    },
    {
      "cell_type": "markdown",
      "metadata": {
        "execution": {},
        "id": "yVuBgZsCILap"
      },
      "source": [
        "Similar to what we did in the linear system above, in order to determine the stability of a fixed point $r^{*}$ of the excitatory population dynamics, we perturb Equation (1) around $r^{*}$ by $\\epsilon$, i.e. $r = r^{*} + \\epsilon$. We can plug in Equation (1) and obtain the equation determining the time evolution of the perturbation $\\epsilon(t)$:\n",
        "\n",
        "\\begin{align}\n",
        "\\tau \\frac{d\\epsilon}{dt} \\approx -\\epsilon + w F'(w\\cdot r^{*} + I_{\\text{ext}};a,\\theta) \\epsilon \n",
        "\\end{align}\n",
        "\n",
        "where $F'(\\cdot)$ is the derivative of the transfer function $F(\\cdot)$. We can rewrite the above equation as:\n",
        "\n",
        "\\begin{align}\n",
        "\\frac{d\\epsilon}{dt} \\approx \\frac{\\epsilon}{\\tau }[-1 + w F'(w\\cdot r^* + I_{\\text{ext}};a,\\theta)] \n",
        "\\end{align}\n",
        "\n",
        "That is, as in the linear system above, the value of\n",
        "\n",
        "$$\\lambda = [-1+ wF'(w\\cdot r^* + I_{\\text{ext}};a,\\theta)]/\\tau \\qquad (4)$$\n",
        "\n",
        "determines whether the perturbation will grow or decay to zero, i.e., $\\lambda$ defines the stability of the fixed point. This value is called the **eigenvalue** of the dynamical system."
      ]
    },
    {
      "cell_type": "markdown",
      "metadata": {
        "execution": {},
        "id": "oL_IZQRtILaq"
      },
      "source": [
        "The derivative of the sigmoid transfer function is:\n",
        "\\begin{align} \n",
        "\\frac{dF}{dx} & = \\frac{d}{dx} (1+\\exp\\{-a(x-\\theta)\\})^{-1}  \\\\\n",
        "& = a\\exp\\{-a(x-\\theta)\\} (1+\\exp\\{-a(x-\\theta)\\})^{-2}. \\qquad (5)\n",
        "\\end{align}\n",
        "\n",
        "We provide a helper function `dF` which computes this derivative."
      ]
    },
    {
      "cell_type": "code",
      "metadata": {
        "cellView": "form",
        "execution": {},
        "colab": {
          "base_uri": "https://localhost:8080/",
          "height": 430
        },
        "id": "4mjX6MqkILaq",
        "outputId": "b53008b3-21bf-4d8e-e6ea-fac25e360f35"
      },
      "source": [
        "# @markdown Execute this cell to enable helper function `dF` and visualize derivative\n",
        "\n",
        "def dF(x, a, theta):\n",
        "  \"\"\"\n",
        "  Population activation function.\n",
        "\n",
        "  Args:\n",
        "    x     : the population input\n",
        "    a     : the gain of the function\n",
        "    theta : the threshold of the function\n",
        "\n",
        "  Returns:\n",
        "    dFdx  : the population activation response F(x) for input x\n",
        "  \"\"\"\n",
        "\n",
        "  # Calculate the population activation\n",
        "  dFdx = a * np.exp(-a * (x - theta)) * (1 + np.exp(-a * (x - theta)))**-2\n",
        "\n",
        "  return dFdx\n",
        "\n",
        "# Set parameters\n",
        "pars = default_pars_single()  # get default parameters\n",
        "x = np.arange(0, 10, .1)      # set the range of input\n",
        "\n",
        "# Compute derivative of transfer function\n",
        "df = dF(x, pars['a'], pars['theta'])\n",
        "\n",
        "# Visualize\n",
        "plot_dFdt(x, df)"
      ],
      "execution_count": 55,
      "outputs": [
        {
          "output_type": "display_data",
          "data": {
            "image/png": "[encoded data removed]",
            "text/plain": [
              "<Figure size 576x432 with 1 Axes>"
            ]
          },
          "metadata": {
            "tags": [],
            "image/png": {
              "width": 558,
              "height": 413
            },
            "needs_background": "light"
          }
        }
      ]
    },
    {
      "cell_type": "markdown",
      "metadata": {
        "execution": {},
        "id": "5vPKxRU9ILar"
      },
      "source": [
        "### Bonus Coding Exercise 1: Compute eigenvalues\n",
        "\n",
        "As discussed above, for the case with $w=5.0$ and $I_{\\text{ext}}=0.5$, the system displays **three** fixed points. However, when we simulated the dynamics and varied the initial conditions $r_{\\rm init}$, we could only obtain **two** steady states. In this exercise, we will now check the stability of each of the three fixed points by calculating the corresponding eigenvalues with the function `eig_single`. Check the sign of each eigenvalue (i.e., stability of each fixed point). How many of the fixed points are stable?\n",
        "\n",
        "Note that the expression of the eigenvalue at fixed point $r^*$\n",
        "$$\\lambda = [-1+ wF'(w\\cdot r^* + I_{\\text{ext}};a,\\theta)]/\\tau$$"
      ]
    },
    {
      "cell_type": "code",
      "metadata": {
        "execution": {},
        "colab": {
          "base_uri": "https://localhost:8080/",
          "height": 351
        },
        "id": "z5srXCl5ILas",
        "outputId": "5f19b534-7491-4b1e-ca8c-5005fb48de89"
      },
      "source": [
        "def eig_single(fp, tau, a, theta, w, I_ext, **other_pars):\n",
        "  \"\"\"\n",
        "  Args:\n",
        "    fp   : fixed point r_fp\n",
        "    tau, a, theta, w, I_ext : Simulation parameters\n",
        "\n",
        "  Returns:\n",
        "    eig : eigevalue of the linearized system\n",
        "  \"\"\"\n",
        "  #####################################################################\n",
        "  ## TODO for students: compute eigenvalue and disable the error\n",
        "  raise NotImplementedError(\"Student excercise: compute the eigenvalue\")\n",
        "  ######################################################################\n",
        "  # Compute the eigenvalue\n",
        "  eig = ...\n",
        "\n",
        "  return eig\n",
        "\n",
        "\n",
        "# Find the eigenvalues for all fixed points\n",
        "pars = default_pars_single(w=5, I_ext=.5)\n",
        "r_guess_vector = [0, .4, .9]\n",
        "x_fp = my_fp_finder(pars, r_guess_vector)\n",
        "\n",
        "\n",
        "for fp in x_fp:\n",
        "  eig_fp = eig_single(fp, **pars)\n",
        "  print(f'Fixed point1 at {fp:.3f} with Eigenvalue={eig_fp:.3f}')"
      ],
      "execution_count": 56,
      "outputs": [
        {
          "output_type": "error",
          "ename": "NotImplementedError",
          "evalue": "ignored",
          "traceback": [
            "\u001b[0;31m---------------------------------------------------------------------------\u001b[0m",
            "\u001b[0;31mNotImplementedError\u001b[0m                       Traceback (most recent call last)",
            "\u001b[0;32m<ipython-input-56-266e1c2999b8>\u001b[0m in \u001b[0;36m<module>\u001b[0;34m()\u001b[0m\n\u001b[1;32m     25\u001b[0m \u001b[0;34m\u001b[0m\u001b[0m\n\u001b[1;32m     26\u001b[0m \u001b[0;32mfor\u001b[0m \u001b[0mfp\u001b[0m \u001b[0;32min\u001b[0m \u001b[0mx_fp\u001b[0m\u001b[0;34m:\u001b[0m\u001b[0;34m\u001b[0m\u001b[0;34m\u001b[0m\u001b[0m\n\u001b[0;32m---> 27\u001b[0;31m   \u001b[0meig_fp\u001b[0m \u001b[0;34m=\u001b[0m \u001b[0meig_single\u001b[0m\u001b[0;34m(\u001b[0m\u001b[0mfp\u001b[0m\u001b[0;34m,\u001b[0m \u001b[0;34m**\u001b[0m\u001b[0mpars\u001b[0m\u001b[0;34m)\u001b[0m\u001b[0;34m\u001b[0m\u001b[0;34m\u001b[0m\u001b[0m\n\u001b[0m\u001b[1;32m     28\u001b[0m   \u001b[0mprint\u001b[0m\u001b[0;34m(\u001b[0m\u001b[0;34mf'Fixed point1 at {fp:.3f} with Eigenvalue={eig_fp:.3f}'\u001b[0m\u001b[0;34m)\u001b[0m\u001b[0;34m\u001b[0m\u001b[0;34m\u001b[0m\u001b[0m\n",
            "\u001b[0;32m<ipython-input-56-266e1c2999b8>\u001b[0m in \u001b[0;36meig_single\u001b[0;34m(fp, tau, a, theta, w, I_ext, **other_pars)\u001b[0m\n\u001b[1;32m     10\u001b[0m   \u001b[0;31m#####################################################################\u001b[0m\u001b[0;34m\u001b[0m\u001b[0;34m\u001b[0m\u001b[0;34m\u001b[0m\u001b[0m\n\u001b[1;32m     11\u001b[0m   \u001b[0;31m## TODO for students: compute eigenvalue and disable the error\u001b[0m\u001b[0;34m\u001b[0m\u001b[0;34m\u001b[0m\u001b[0;34m\u001b[0m\u001b[0m\n\u001b[0;32m---> 12\u001b[0;31m   \u001b[0;32mraise\u001b[0m \u001b[0mNotImplementedError\u001b[0m\u001b[0;34m(\u001b[0m\u001b[0;34m\"Student excercise: compute the eigenvalue\"\u001b[0m\u001b[0;34m)\u001b[0m\u001b[0;34m\u001b[0m\u001b[0;34m\u001b[0m\u001b[0m\n\u001b[0m\u001b[1;32m     13\u001b[0m   \u001b[0;31m######################################################################\u001b[0m\u001b[0;34m\u001b[0m\u001b[0;34m\u001b[0m\u001b[0;34m\u001b[0m\u001b[0m\n\u001b[1;32m     14\u001b[0m   \u001b[0;31m# Compute the eigenvalue\u001b[0m\u001b[0;34m\u001b[0m\u001b[0;34m\u001b[0m\u001b[0;34m\u001b[0m\u001b[0m\n",
            "\u001b[0;31mNotImplementedError\u001b[0m: Student excercise: compute the eigenvalue"
          ]
        }
      ]
    },
    {
      "cell_type": "markdown",
      "metadata": {
        "execution": {},
        "id": "D6sG9S88ILat"
      },
      "source": [
        "[*Click for solution*](https://github.com/NeuromatchAcademy/course-content/tree/master//tutorials/W2D4_DynamicNetworks/solutions/W2D4_Tutorial1_Solution_dda11dcc.py)\n",
        "\n"
      ]
    },
    {
      "cell_type": "markdown",
      "metadata": {
        "execution": {},
        "id": "3IhbAxbvILat"
      },
      "source": [
        "**SAMPLE OUTPUT**\n",
        "\n",
        "```\n",
        "Fixed point1 at 0.042 with Eigenvalue=-0.583\n",
        "Fixed point2 at 0.447 with Eigenvalue=0.498\n",
        "Fixed point3 at 0.900 with Eigenvalue=-0.626\n",
        "```"
      ]
    },
    {
      "cell_type": "markdown",
      "metadata": {
        "execution": {},
        "id": "lZ0Fj6EDILau"
      },
      "source": [
        "We can see that the first and third fixed points are stable (negative eigenvalues) and the second is unstable (positive eigenvalue) - as we expected!"
      ]
    },
    {
      "cell_type": "markdown",
      "metadata": {
        "execution": {},
        "id": "5TqBlLjwILa1"
      },
      "source": [
        "---\n",
        "## Bonus Section 2: Noisy input drives the transition between two stable states"
      ]
    },
    {
      "cell_type": "markdown",
      "metadata": {
        "execution": {},
        "id": "X-UGNLgeILa1"
      },
      "source": [
        "As discussed in several previous tutorials, the Ornstein-Uhlenbeck (OU) process is usually used to generate a noisy input into the neuron. The OU input $\\eta(t)$ follows: \n",
        "\n",
        "$$\\tau_\\eta \\frac{d}{dt}\\eta(t) = -\\eta (t) + \\sigma_\\eta\\sqrt{2\\tau_\\eta}\\xi(t)$$\n",
        "\n",
        "Execute the following function `my_OU(pars, sig, myseed=False)` to generate an OU process."
      ]
    },
    {
      "cell_type": "code",
      "metadata": {
        "cellView": "form",
        "execution": {},
        "id": "bZ-oJEmSILa7"
      },
      "source": [
        "# @markdown Execute to get helper function `my_OU` and visualize OU process\n",
        "\n",
        "\n",
        "def my_OU(pars, sig, myseed=False):\n",
        "  \"\"\"\n",
        "  A functions that generates Ornstein-Uhlenback process\n",
        "\n",
        "  Args:\n",
        "    pars       : parameter dictionary\n",
        "    sig        : noise amplitute\n",
        "    myseed     : random seed. int or boolean\n",
        "\n",
        "  Returns:\n",
        "    I          : Ornstein-Uhlenbeck input current\n",
        "  \"\"\"\n",
        "\n",
        "  # Retrieve simulation parameters\n",
        "  dt, range_t = pars['dt'], pars['range_t']\n",
        "  Lt = range_t.size\n",
        "  tau_ou = pars['tau_ou']  # [ms]\n",
        "\n",
        "  # set random seed\n",
        "  if myseed:\n",
        "      np.random.seed(seed=myseed)\n",
        "  else:\n",
        "      np.random.seed()\n",
        "\n",
        "  # Initialize\n",
        "  noise = np.random.randn(Lt)\n",
        "  I_ou = np.zeros(Lt)\n",
        "  I_ou[0] = noise[0] * sig\n",
        "\n",
        "  # generate OU\n",
        "  for it in range(Lt - 1):\n",
        "    I_ou[it + 1] = (I_ou[it]\n",
        "                    + dt / tau_ou * (0. - I_ou[it])\n",
        "                    + np.sqrt(2 * dt / tau_ou) * sig * noise[it + 1])\n",
        "\n",
        "  return I_ou\n",
        "\n",
        "\n",
        "pars = default_pars_single(T=100)\n",
        "pars['tau_ou'] = 1.  # [ms]\n",
        "sig_ou = 0.1\n",
        "I_ou = my_OU(pars, sig=sig_ou, myseed=2020)\n",
        "plt.figure(figsize=(10, 4))\n",
        "plt.plot(pars['range_t'], I_ou, 'r')\n",
        "plt.xlabel('t (ms)')\n",
        "plt.ylabel(r'$I_{\\mathrm{OU}}$')\n",
        "plt.show()"
      ],
      "execution_count": null,
      "outputs": []
    },
    {
      "cell_type": "markdown",
      "metadata": {
        "execution": {},
        "id": "N3wpZMkOILa8"
      },
      "source": [
        "In the presence of two or more fixed points, noisy inputs can drive a transition between the fixed points! Here, we stimulate an E population for 1,000 ms applying OU inputs."
      ]
    },
    {
      "cell_type": "code",
      "metadata": {
        "cellView": "form",
        "execution": {},
        "id": "N594RS0CILa8"
      },
      "source": [
        "# @markdown Execute this cell to simulate E population with OU inputs\n",
        "\n",
        "pars = default_pars_single(T=1000)\n",
        "pars['w'] = 5.0\n",
        "sig_ou = 0.7\n",
        "pars['tau_ou'] = 1.  # [ms]\n",
        "pars['I_ext'] = 0.56 + my_OU(pars, sig=sig_ou, myseed=2020)\n",
        "\n",
        "r = simulate_single(pars)\n",
        "\n",
        "plt.figure(figsize=(10, 4))\n",
        "plt.plot(pars['range_t'], r, 'b', alpha=0.8)\n",
        "plt.xlabel('t (ms)')\n",
        "plt.ylabel(r'$r(t)$')\n",
        "plt.show()"
      ],
      "execution_count": null,
      "outputs": []
    },
    {
      "cell_type": "markdown",
      "metadata": {
        "execution": {},
        "id": "eP5CDICwILa9"
      },
      "source": [
        "You can see that the population activity is changing between fixed points (it goes up and down)!"
      ]
    }
  ]
}